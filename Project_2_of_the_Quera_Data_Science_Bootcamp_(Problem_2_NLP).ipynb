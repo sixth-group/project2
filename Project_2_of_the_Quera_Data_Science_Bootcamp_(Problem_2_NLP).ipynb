{
  "cells": [
    {
      "cell_type": "markdown",
      "metadata": {
        "id": "view-in-github",
        "colab_type": "text"
      },
      "source": [
        "<a href=\"https://colab.research.google.com/github/sixth-group/project2/blob/main/Project_2_of_the_Quera_Data_Science_Bootcamp_(Problem_2_NLP).ipynb\" target=\"_parent\"><img src=\"https://colab.research.google.com/assets/colab-badge.svg\" alt=\"Open In Colab\"/></a>"
      ]
    },
    {
      "cell_type": "markdown",
      "source": [
        "<div>\n",
        "  <img src=\"https://www.johnsnowlabs.com/wp-content/uploads/2023/08/img_blog-1.jpg\" width=500>\n",
        "</div>"
      ],
      "metadata": {
        "id": "e78-EmdfrhLp"
      }
    },
    {
      "cell_type": "markdown",
      "source": [
        "# Outline <a class=\"anchor\" id=\"Outline\"></a>\n",
        "\n",
        "* [Sentiment Analysis of Comments](#scrollTo=u8xbA8hLYtTR)\n",
        "  * [Reading and Checking the Train Dataset](#scrollTo=Q8c2QyBeRVWK)\n",
        "  * [Reading and Checking the Test Dataset](#scrollTo=fIqZoSoJRhuR)\n",
        "  * [Reading and Checking the ``title_brand`` Dataset](#scrollTo=zBYz2umnWHkX)\n",
        "  * [Part 1) Preliminary Analysis of Data](#scrollTo=iE9KIVV7ZEvK)\n",
        "    * [Question 1](#scrollTo=h8s437u14hqt)\n",
        "    * [Question 2](#scrollTo=IvRASsZC4ts9)\n",
        "    * [Question 3](#scrollTo=t-YZvZuw41xx)\n",
        "    * [Question 4](#scrollTo=VVv399074_EQ)\n",
        "      * [Original Mode](#scrollTo=pPtyI_tZEmm2)\n",
        "      * [Filtered Mode (Exclude Outlier Data)](#scrollTo=3F6y8nHIE97B)\n",
        "    * [Question 5](#scrollTo=O44K_ONFIbM4)\n",
        "    * [Question 6](#scrollTo=khQgPamaqliY)\n",
        "  * [Part 2) The Level of Satisfaction with a Particular Aspect](#scrollTo=aYYfOiykzLk7)\n",
        "    * [Approach 1 (``word2vec``)](#scrollTo=Ji9-EYK2COKj)\n",
        "    * [Approach 2 (``edit_distance``)](#scrollTo=AJGep3GtdPZ-)\n",
        "  * [Part 3) Sentiment Analysis Model](#scrollTo=7G5t6hEcCaiv)\n",
        "\n",
        "<details>\n",
        "  <summary>\n",
        "      <font size='3', color='darkgreen'><b>Translation</b></font>\n",
        "  </summary>\n",
        "\n",
        "  <div dir=rtl>\n",
        "    <h1>فهرست مطالب</h1>\n",
        "    <ul>\n",
        "      <li>تحلیل احساس نظرات</li>\n",
        "        <ul>\n",
        "          <li>خواندن و بررسی مجموعه داده‌ی آموزشی</li>\n",
        "          <li>خواندن و بررسی مجموعه داده‌ی آزمون</li>\n",
        "          <li>خواندن و بررسی مجموعه داده‌ی <code>title_brand</code></li>\n",
        "          <li>بخش ۱) &nbspتجزیه و تحلیل اولیه از داده‌ها</li>\n",
        "          <ul>\n",
        "            <li>سوال ۱</li>\n",
        "            <li>سوال ۲</li>\n",
        "            <li>سوال ۳</li>\n",
        "            <li>سوال ۴</li>\n",
        "            <ul>\n",
        "              <li>حالت اصلی</li>\n",
        "              <li>حالت فیلترشده (حذف داده‌های پرت)</li>\n",
        "            </ul>\n",
        "            <li>سوال ۵</li>\n",
        "            <li>سوال ۶</li>\n",
        "          </ul>\n",
        "          <li>بخش ۲) &nbspمیزان رضایت از یک جنبه‌ی مشخص</li>\n",
        "          <ul>\n",
        "            <li>رویکرد ۱ (<code>Word2Vec</code>)</li>\n",
        "            <li>رویکرد ۲ (<code>edit_distance</code>)</li>\n",
        "          </ul>\n",
        "          <li>بخش ۳) مدل تحلیل احساسات\n",
        "        </ul>\n",
        "    </ul>\n",
        "  </div>\n",
        "</details>"
      ],
      "metadata": {
        "id": "a7xw-0lsoDXC"
      }
    },
    {
      "cell_type": "markdown",
      "metadata": {
        "id": "u8xbA8hLYtTR"
      },
      "source": [
        "# Sentiment Analysis of Comments <a class=\"anchor\" id=\"sentiment_analysis_of_comments\"></a> [&#11014;](#scrollTo=a7xw-0lsoDXC)\n",
        "\n",
        "<details>\n",
        "  <summary>\n",
        "      <font size='3', color='darkgreen'><b>Translation</b></font>\n",
        "  </summary>\n",
        "\n",
        "  <div dir=rtl>\n",
        "    <h1>تحلیل احساس نظرات</h1>\n",
        "  </div>\n",
        "</details>"
      ]
    },
    {
      "cell_type": "code",
      "source": [
        "!pip install black[jupyter] --quiet\n",
        "from google.colab import drive\n",
        "\n",
        "drive.mount(\"/content/drive\")"
      ],
      "metadata": {
        "colab": {
          "base_uri": "https://localhost:8080/"
        },
        "id": "6mzujBUr9PYN",
        "outputId": "8238388c-f03d-47dc-de03-1deaf8bdc45c"
      },
      "execution_count": null,
      "outputs": [
        {
          "output_type": "stream",
          "name": "stdout",
          "text": [
            "\u001b[2K     \u001b[90m━━━━━━━━━━━━━━━━━━━━━━━━━━━━━━━━━━━━━━━━\u001b[0m \u001b[32m1.7/1.7 MB\u001b[0m \u001b[31m7.1 MB/s\u001b[0m eta \u001b[36m0:00:00\u001b[0m\n",
            "\u001b[2K     \u001b[90m━━━━━━━━━━━━━━━━━━━━━━━━━━━━━━━━━━━━━━━━\u001b[0m \u001b[32m1.6/1.6 MB\u001b[0m \u001b[31m13.4 MB/s\u001b[0m eta \u001b[36m0:00:00\u001b[0m\n",
            "\u001b[?25hMounted at /content/drive\n"
          ]
        }
      ]
    },
    {
      "cell_type": "code",
      "source": [
        "!black /content/drive/MyDrive/'Colab Notebooks'/'Project 2 of the Quera Data Science Bootcamp (Problem 2 - NLP).ipynb'"
      ],
      "metadata": {
        "id": "qtiowOdM9eU0"
      },
      "execution_count": null,
      "outputs": []
    },
    {
      "cell_type": "code",
      "execution_count": null,
      "metadata": {
        "id": "YDjdpVomGe-Y",
        "colab": {
          "base_uri": "https://localhost:8080/"
        },
        "outputId": "0f18d9dd-b0f9-4c43-bace-29ab7418a56b"
      },
      "outputs": [
        {
          "output_type": "stream",
          "name": "stderr",
          "text": [
            "[nltk_data] Downloading package stopwords to /root/nltk_data...\n",
            "[nltk_data]   Package stopwords is already up-to-date!\n",
            "[nltk_data] Downloading package wordnet to /root/nltk_data...\n",
            "[nltk_data]   Package wordnet is already up-to-date!\n"
          ]
        }
      ],
      "source": [
        "# import necessary libraries and functions for our work\n",
        "\n",
        "# basic libraries and functions\n",
        "import numpy as np\n",
        "import pandas as pd\n",
        "import matplotlib.pyplot as plt\n",
        "from collections import defaultdict\n",
        "\n",
        "# Machine Learning libraries and functions\n",
        "from sklearn.model_selection import train_test_split\n",
        "from sklearn.feature_extraction.text import CountVectorizer\n",
        "from sklearn.metrics import accuracy_score\n",
        "\n",
        "# Natural Language Processing (NLP) libraries\n",
        "import nltk\n",
        "\n",
        "nltk.download(\"stopwords\")\n",
        "nltk.download(\"wordnet\")\n",
        "from nltk.corpus import stopwords\n",
        "from wordcloud import WordCloud\n",
        "import gensim\n",
        "from gensim.models import Word2Vec"
      ]
    },
    {
      "cell_type": "markdown",
      "metadata": {
        "id": "Q8c2QyBeRVWK"
      },
      "source": [
        "## Reading and Checking the Train Dataset <a class=\"anchor\" id=\"reading_and_checking_the_train_dataset\"></a> [&#11014;](#scrollTo=a7xw-0lsoDXC)\n",
        "\n",
        "<details>\n",
        "  <summary>\n",
        "      <font size='3', color='darkgreen'><b>Translation</b></font>\n",
        "  </summary>\n",
        "\n",
        "  <div dir=rtl>\n",
        "    <h2>خواندن و بررسی مجموعه داده‌ی آموزشی</h2>\n",
        "  </div>\n",
        "</details>"
      ]
    },
    {
      "cell_type": "code",
      "execution_count": null,
      "metadata": {
        "colab": {
          "base_uri": "https://localhost:8080/",
          "height": 771
        },
        "id": "OvhxWQ3zGuKe",
        "outputId": "1cf71eb0-69a6-429f-fe25-a510e4261640"
      },
      "outputs": [
        {
          "output_type": "execute_result",
          "data": {
            "text/plain": [
              "        overall vote  verified  reviewTime      reviewerID        asin style  \\\n",
              "0             2  NaN     False  2016-11-11   A2OSUEZJIN7BI  0511189877   NaN   \n",
              "1             5  NaN      True  2016-06-06  A2NETQRG6JHIG7  0511189877   NaN   \n",
              "2             4  NaN      True  2016-03-10  A12JHGROAX49G7  0511189877   NaN   \n",
              "3             5  NaN      True  2016-01-14  A1KV65E2TMMG6F  0511189877   NaN   \n",
              "4             5  NaN      True  2016-10-20  A280POPEWI0NSA  0594459451   NaN   \n",
              "...         ...  ...       ...         ...             ...         ...   ...   \n",
              "838939        5  NaN      True  2017-07-25  A1OOVLE2KZ6KGA  B01HJCN1EI   NaN   \n",
              "838940        1  NaN      True  2017-04-04   A77K1B31UAQ29  B01HJCN1EI   NaN   \n",
              "838941        3  NaN      True  2017-07-08  A2SVXUVUAWUDK2  B01HJH42KU   NaN   \n",
              "838942        5  2.0      True  2016-12-01  A2HUZO7MQAY5I2  B01HJH40WU   NaN   \n",
              "838943        5  NaN      True  2017-03-31  A1FGCIRPRNZWD5  B01HJF704M   NaN   \n",
              "\n",
              "             reviewerName                                         reviewText  \\\n",
              "0                   Chris  I have an older URC-WR7 remote and thought thi...   \n",
              "1            Qrysta White  First time I've EVER had a remote that needed ...   \n",
              "2                 Linwood  Got them and only 2 of them worked. company ca...   \n",
              "3           Dane Williams  I got tired of the remote being on the wrong s...   \n",
              "4             Kristina H.  After purchasing cheap cords from another webs...   \n",
              "...                   ...                                                ...   \n",
              "838939            Puddzee  These are my favorite charging cords for a few...   \n",
              "838940  addictedtoreading  Update....after 2 months of gentle use, cable ...   \n",
              "838941             Andrew  These are okay. The connection becomes very if...   \n",
              "838942     michael clontz  Ok here is an odd thing that happened to me, I...   \n",
              "838943             Brando  I have it plugged into a usb extension on my g...   \n",
              "\n",
              "                                                  summary  unixReviewTime  \n",
              "0                                            Cannot Learn      1478822400  \n",
              "1                     zero programming needed!  Miracle!?      1465171200  \n",
              "2                           Works Good and programs easy.      1457568000  \n",
              "3                                      Same as TWC remote      1452729600  \n",
              "4                                       Good Quality Cord      1476921600  \n",
              "...                                                   ...             ...  \n",
              "838939                                   Worth the price.      1500940800  \n",
              "838940                  UPDATE...BREAKS AND SLOW CHARGING      1491264000  \n",
              "838941  Hope this makes sense. You'd understand if you...      1499472000  \n",
              "838942     Not the correct product as linked in the sale.      1480550400  \n",
              "838943                                Works well enough..      1490918400  \n",
              "\n",
              "[838944 rows x 11 columns]"
            ],
            "text/html": [
              "\n",
              "  <div id=\"df-da7e90fd-1ec8-41ce-b4fd-d61464352594\" class=\"colab-df-container\">\n",
              "    <div>\n",
              "<style scoped>\n",
              "    .dataframe tbody tr th:only-of-type {\n",
              "        vertical-align: middle;\n",
              "    }\n",
              "\n",
              "    .dataframe tbody tr th {\n",
              "        vertical-align: top;\n",
              "    }\n",
              "\n",
              "    .dataframe thead th {\n",
              "        text-align: right;\n",
              "    }\n",
              "</style>\n",
              "<table border=\"1\" class=\"dataframe\">\n",
              "  <thead>\n",
              "    <tr style=\"text-align: right;\">\n",
              "      <th></th>\n",
              "      <th>overall</th>\n",
              "      <th>vote</th>\n",
              "      <th>verified</th>\n",
              "      <th>reviewTime</th>\n",
              "      <th>reviewerID</th>\n",
              "      <th>asin</th>\n",
              "      <th>style</th>\n",
              "      <th>reviewerName</th>\n",
              "      <th>reviewText</th>\n",
              "      <th>summary</th>\n",
              "      <th>unixReviewTime</th>\n",
              "    </tr>\n",
              "  </thead>\n",
              "  <tbody>\n",
              "    <tr>\n",
              "      <th>0</th>\n",
              "      <td>2</td>\n",
              "      <td>NaN</td>\n",
              "      <td>False</td>\n",
              "      <td>2016-11-11</td>\n",
              "      <td>A2OSUEZJIN7BI</td>\n",
              "      <td>0511189877</td>\n",
              "      <td>NaN</td>\n",
              "      <td>Chris</td>\n",
              "      <td>I have an older URC-WR7 remote and thought thi...</td>\n",
              "      <td>Cannot Learn</td>\n",
              "      <td>1478822400</td>\n",
              "    </tr>\n",
              "    <tr>\n",
              "      <th>1</th>\n",
              "      <td>5</td>\n",
              "      <td>NaN</td>\n",
              "      <td>True</td>\n",
              "      <td>2016-06-06</td>\n",
              "      <td>A2NETQRG6JHIG7</td>\n",
              "      <td>0511189877</td>\n",
              "      <td>NaN</td>\n",
              "      <td>Qrysta White</td>\n",
              "      <td>First time I've EVER had a remote that needed ...</td>\n",
              "      <td>zero programming needed!  Miracle!?</td>\n",
              "      <td>1465171200</td>\n",
              "    </tr>\n",
              "    <tr>\n",
              "      <th>2</th>\n",
              "      <td>4</td>\n",
              "      <td>NaN</td>\n",
              "      <td>True</td>\n",
              "      <td>2016-03-10</td>\n",
              "      <td>A12JHGROAX49G7</td>\n",
              "      <td>0511189877</td>\n",
              "      <td>NaN</td>\n",
              "      <td>Linwood</td>\n",
              "      <td>Got them and only 2 of them worked. company ca...</td>\n",
              "      <td>Works Good and programs easy.</td>\n",
              "      <td>1457568000</td>\n",
              "    </tr>\n",
              "    <tr>\n",
              "      <th>3</th>\n",
              "      <td>5</td>\n",
              "      <td>NaN</td>\n",
              "      <td>True</td>\n",
              "      <td>2016-01-14</td>\n",
              "      <td>A1KV65E2TMMG6F</td>\n",
              "      <td>0511189877</td>\n",
              "      <td>NaN</td>\n",
              "      <td>Dane Williams</td>\n",
              "      <td>I got tired of the remote being on the wrong s...</td>\n",
              "      <td>Same as TWC remote</td>\n",
              "      <td>1452729600</td>\n",
              "    </tr>\n",
              "    <tr>\n",
              "      <th>4</th>\n",
              "      <td>5</td>\n",
              "      <td>NaN</td>\n",
              "      <td>True</td>\n",
              "      <td>2016-10-20</td>\n",
              "      <td>A280POPEWI0NSA</td>\n",
              "      <td>0594459451</td>\n",
              "      <td>NaN</td>\n",
              "      <td>Kristina H.</td>\n",
              "      <td>After purchasing cheap cords from another webs...</td>\n",
              "      <td>Good Quality Cord</td>\n",
              "      <td>1476921600</td>\n",
              "    </tr>\n",
              "    <tr>\n",
              "      <th>...</th>\n",
              "      <td>...</td>\n",
              "      <td>...</td>\n",
              "      <td>...</td>\n",
              "      <td>...</td>\n",
              "      <td>...</td>\n",
              "      <td>...</td>\n",
              "      <td>...</td>\n",
              "      <td>...</td>\n",
              "      <td>...</td>\n",
              "      <td>...</td>\n",
              "      <td>...</td>\n",
              "    </tr>\n",
              "    <tr>\n",
              "      <th>838939</th>\n",
              "      <td>5</td>\n",
              "      <td>NaN</td>\n",
              "      <td>True</td>\n",
              "      <td>2017-07-25</td>\n",
              "      <td>A1OOVLE2KZ6KGA</td>\n",
              "      <td>B01HJCN1EI</td>\n",
              "      <td>NaN</td>\n",
              "      <td>Puddzee</td>\n",
              "      <td>These are my favorite charging cords for a few...</td>\n",
              "      <td>Worth the price.</td>\n",
              "      <td>1500940800</td>\n",
              "    </tr>\n",
              "    <tr>\n",
              "      <th>838940</th>\n",
              "      <td>1</td>\n",
              "      <td>NaN</td>\n",
              "      <td>True</td>\n",
              "      <td>2017-04-04</td>\n",
              "      <td>A77K1B31UAQ29</td>\n",
              "      <td>B01HJCN1EI</td>\n",
              "      <td>NaN</td>\n",
              "      <td>addictedtoreading</td>\n",
              "      <td>Update....after 2 months of gentle use, cable ...</td>\n",
              "      <td>UPDATE...BREAKS AND SLOW CHARGING</td>\n",
              "      <td>1491264000</td>\n",
              "    </tr>\n",
              "    <tr>\n",
              "      <th>838941</th>\n",
              "      <td>3</td>\n",
              "      <td>NaN</td>\n",
              "      <td>True</td>\n",
              "      <td>2017-07-08</td>\n",
              "      <td>A2SVXUVUAWUDK2</td>\n",
              "      <td>B01HJH42KU</td>\n",
              "      <td>NaN</td>\n",
              "      <td>Andrew</td>\n",
              "      <td>These are okay. The connection becomes very if...</td>\n",
              "      <td>Hope this makes sense. You'd understand if you...</td>\n",
              "      <td>1499472000</td>\n",
              "    </tr>\n",
              "    <tr>\n",
              "      <th>838942</th>\n",
              "      <td>5</td>\n",
              "      <td>2.0</td>\n",
              "      <td>True</td>\n",
              "      <td>2016-12-01</td>\n",
              "      <td>A2HUZO7MQAY5I2</td>\n",
              "      <td>B01HJH40WU</td>\n",
              "      <td>NaN</td>\n",
              "      <td>michael clontz</td>\n",
              "      <td>Ok here is an odd thing that happened to me, I...</td>\n",
              "      <td>Not the correct product as linked in the sale.</td>\n",
              "      <td>1480550400</td>\n",
              "    </tr>\n",
              "    <tr>\n",
              "      <th>838943</th>\n",
              "      <td>5</td>\n",
              "      <td>NaN</td>\n",
              "      <td>True</td>\n",
              "      <td>2017-03-31</td>\n",
              "      <td>A1FGCIRPRNZWD5</td>\n",
              "      <td>B01HJF704M</td>\n",
              "      <td>NaN</td>\n",
              "      <td>Brando</td>\n",
              "      <td>I have it plugged into a usb extension on my g...</td>\n",
              "      <td>Works well enough..</td>\n",
              "      <td>1490918400</td>\n",
              "    </tr>\n",
              "  </tbody>\n",
              "</table>\n",
              "<p>838944 rows × 11 columns</p>\n",
              "</div>\n",
              "    <div class=\"colab-df-buttons\">\n",
              "\n",
              "  <div class=\"colab-df-container\">\n",
              "    <button class=\"colab-df-convert\" onclick=\"convertToInteractive('df-da7e90fd-1ec8-41ce-b4fd-d61464352594')\"\n",
              "            title=\"Convert this dataframe to an interactive table.\"\n",
              "            style=\"display:none;\">\n",
              "\n",
              "  <svg xmlns=\"http://www.w3.org/2000/svg\" height=\"24px\" viewBox=\"0 -960 960 960\">\n",
              "    <path d=\"M120-120v-720h720v720H120Zm60-500h600v-160H180v160Zm220 220h160v-160H400v160Zm0 220h160v-160H400v160ZM180-400h160v-160H180v160Zm440 0h160v-160H620v160ZM180-180h160v-160H180v160Zm440 0h160v-160H620v160Z\"/>\n",
              "  </svg>\n",
              "    </button>\n",
              "\n",
              "  <style>\n",
              "    .colab-df-container {\n",
              "      display:flex;\n",
              "      gap: 12px;\n",
              "    }\n",
              "\n",
              "    .colab-df-convert {\n",
              "      background-color: #E8F0FE;\n",
              "      border: none;\n",
              "      border-radius: 50%;\n",
              "      cursor: pointer;\n",
              "      display: none;\n",
              "      fill: #1967D2;\n",
              "      height: 32px;\n",
              "      padding: 0 0 0 0;\n",
              "      width: 32px;\n",
              "    }\n",
              "\n",
              "    .colab-df-convert:hover {\n",
              "      background-color: #E2EBFA;\n",
              "      box-shadow: 0px 1px 2px rgba(60, 64, 67, 0.3), 0px 1px 3px 1px rgba(60, 64, 67, 0.15);\n",
              "      fill: #174EA6;\n",
              "    }\n",
              "\n",
              "    .colab-df-buttons div {\n",
              "      margin-bottom: 4px;\n",
              "    }\n",
              "\n",
              "    [theme=dark] .colab-df-convert {\n",
              "      background-color: #3B4455;\n",
              "      fill: #D2E3FC;\n",
              "    }\n",
              "\n",
              "    [theme=dark] .colab-df-convert:hover {\n",
              "      background-color: #434B5C;\n",
              "      box-shadow: 0px 1px 3px 1px rgba(0, 0, 0, 0.15);\n",
              "      filter: drop-shadow(0px 1px 2px rgba(0, 0, 0, 0.3));\n",
              "      fill: #FFFFFF;\n",
              "    }\n",
              "  </style>\n",
              "\n",
              "    <script>\n",
              "      const buttonEl =\n",
              "        document.querySelector('#df-da7e90fd-1ec8-41ce-b4fd-d61464352594 button.colab-df-convert');\n",
              "      buttonEl.style.display =\n",
              "        google.colab.kernel.accessAllowed ? 'block' : 'none';\n",
              "\n",
              "      async function convertToInteractive(key) {\n",
              "        const element = document.querySelector('#df-da7e90fd-1ec8-41ce-b4fd-d61464352594');\n",
              "        const dataTable =\n",
              "          await google.colab.kernel.invokeFunction('convertToInteractive',\n",
              "                                                    [key], {});\n",
              "        if (!dataTable) return;\n",
              "\n",
              "        const docLinkHtml = 'Like what you see? Visit the ' +\n",
              "          '<a target=\"_blank\" href=https://colab.research.google.com/notebooks/data_table.ipynb>data table notebook</a>'\n",
              "          + ' to learn more about interactive tables.';\n",
              "        element.innerHTML = '';\n",
              "        dataTable['output_type'] = 'display_data';\n",
              "        await google.colab.output.renderOutput(dataTable, element);\n",
              "        const docLink = document.createElement('div');\n",
              "        docLink.innerHTML = docLinkHtml;\n",
              "        element.appendChild(docLink);\n",
              "      }\n",
              "    </script>\n",
              "  </div>\n",
              "\n",
              "\n",
              "<div id=\"df-cbab1983-98a2-4160-b383-b02fced23003\">\n",
              "  <button class=\"colab-df-quickchart\" onclick=\"quickchart('df-cbab1983-98a2-4160-b383-b02fced23003')\"\n",
              "            title=\"Suggest charts\"\n",
              "            style=\"display:none;\">\n",
              "\n",
              "<svg xmlns=\"http://www.w3.org/2000/svg\" height=\"24px\"viewBox=\"0 0 24 24\"\n",
              "     width=\"24px\">\n",
              "    <g>\n",
              "        <path d=\"M19 3H5c-1.1 0-2 .9-2 2v14c0 1.1.9 2 2 2h14c1.1 0 2-.9 2-2V5c0-1.1-.9-2-2-2zM9 17H7v-7h2v7zm4 0h-2V7h2v10zm4 0h-2v-4h2v4z\"/>\n",
              "    </g>\n",
              "</svg>\n",
              "  </button>\n",
              "\n",
              "<style>\n",
              "  .colab-df-quickchart {\n",
              "      --bg-color: #E8F0FE;\n",
              "      --fill-color: #1967D2;\n",
              "      --hover-bg-color: #E2EBFA;\n",
              "      --hover-fill-color: #174EA6;\n",
              "      --disabled-fill-color: #AAA;\n",
              "      --disabled-bg-color: #DDD;\n",
              "  }\n",
              "\n",
              "  [theme=dark] .colab-df-quickchart {\n",
              "      --bg-color: #3B4455;\n",
              "      --fill-color: #D2E3FC;\n",
              "      --hover-bg-color: #434B5C;\n",
              "      --hover-fill-color: #FFFFFF;\n",
              "      --disabled-bg-color: #3B4455;\n",
              "      --disabled-fill-color: #666;\n",
              "  }\n",
              "\n",
              "  .colab-df-quickchart {\n",
              "    background-color: var(--bg-color);\n",
              "    border: none;\n",
              "    border-radius: 50%;\n",
              "    cursor: pointer;\n",
              "    display: none;\n",
              "    fill: var(--fill-color);\n",
              "    height: 32px;\n",
              "    padding: 0;\n",
              "    width: 32px;\n",
              "  }\n",
              "\n",
              "  .colab-df-quickchart:hover {\n",
              "    background-color: var(--hover-bg-color);\n",
              "    box-shadow: 0 1px 2px rgba(60, 64, 67, 0.3), 0 1px 3px 1px rgba(60, 64, 67, 0.15);\n",
              "    fill: var(--button-hover-fill-color);\n",
              "  }\n",
              "\n",
              "  .colab-df-quickchart-complete:disabled,\n",
              "  .colab-df-quickchart-complete:disabled:hover {\n",
              "    background-color: var(--disabled-bg-color);\n",
              "    fill: var(--disabled-fill-color);\n",
              "    box-shadow: none;\n",
              "  }\n",
              "\n",
              "  .colab-df-spinner {\n",
              "    border: 2px solid var(--fill-color);\n",
              "    border-color: transparent;\n",
              "    border-bottom-color: var(--fill-color);\n",
              "    animation:\n",
              "      spin 1s steps(1) infinite;\n",
              "  }\n",
              "\n",
              "  @keyframes spin {\n",
              "    0% {\n",
              "      border-color: transparent;\n",
              "      border-bottom-color: var(--fill-color);\n",
              "      border-left-color: var(--fill-color);\n",
              "    }\n",
              "    20% {\n",
              "      border-color: transparent;\n",
              "      border-left-color: var(--fill-color);\n",
              "      border-top-color: var(--fill-color);\n",
              "    }\n",
              "    30% {\n",
              "      border-color: transparent;\n",
              "      border-left-color: var(--fill-color);\n",
              "      border-top-color: var(--fill-color);\n",
              "      border-right-color: var(--fill-color);\n",
              "    }\n",
              "    40% {\n",
              "      border-color: transparent;\n",
              "      border-right-color: var(--fill-color);\n",
              "      border-top-color: var(--fill-color);\n",
              "    }\n",
              "    60% {\n",
              "      border-color: transparent;\n",
              "      border-right-color: var(--fill-color);\n",
              "    }\n",
              "    80% {\n",
              "      border-color: transparent;\n",
              "      border-right-color: var(--fill-color);\n",
              "      border-bottom-color: var(--fill-color);\n",
              "    }\n",
              "    90% {\n",
              "      border-color: transparent;\n",
              "      border-bottom-color: var(--fill-color);\n",
              "    }\n",
              "  }\n",
              "</style>\n",
              "\n",
              "  <script>\n",
              "    async function quickchart(key) {\n",
              "      const quickchartButtonEl =\n",
              "        document.querySelector('#' + key + ' button');\n",
              "      quickchartButtonEl.disabled = true;  // To prevent multiple clicks.\n",
              "      quickchartButtonEl.classList.add('colab-df-spinner');\n",
              "      try {\n",
              "        const charts = await google.colab.kernel.invokeFunction(\n",
              "            'suggestCharts', [key], {});\n",
              "      } catch (error) {\n",
              "        console.error('Error during call to suggestCharts:', error);\n",
              "      }\n",
              "      quickchartButtonEl.classList.remove('colab-df-spinner');\n",
              "      quickchartButtonEl.classList.add('colab-df-quickchart-complete');\n",
              "    }\n",
              "    (() => {\n",
              "      let quickchartButtonEl =\n",
              "        document.querySelector('#df-cbab1983-98a2-4160-b383-b02fced23003 button');\n",
              "      quickchartButtonEl.style.display =\n",
              "        google.colab.kernel.accessAllowed ? 'block' : 'none';\n",
              "    })();\n",
              "  </script>\n",
              "</div>\n",
              "    </div>\n",
              "  </div>\n"
            ]
          },
          "metadata": {},
          "execution_count": 2
        }
      ],
      "source": [
        "# read the train data\n",
        "train_data = pd.read_csv(\n",
        "    \"https://drive.google.com/u/0/uc?id=1-AlW7oNJHaqi3xk_9dWHUS52Dzl_FmFW&export=download&confirm=t&uuid=1fea11a3-c36e-4fbf-9eac-0f3d8e08efb3&at=AB6BwCCCO86pkLyXIOWCl-MTnZZh:1698996303307\",\n",
        "    low_memory=False,\n",
        ")\n",
        "# show the train data\n",
        "train_data"
      ]
    },
    {
      "cell_type": "code",
      "execution_count": null,
      "metadata": {
        "colab": {
          "base_uri": "https://localhost:8080/"
        },
        "id": "gEs4X7pUPiR6",
        "outputId": "944ade2f-1782-47f4-ef9f-183fdef524a7"
      },
      "outputs": [
        {
          "output_type": "stream",
          "name": "stdout",
          "text": [
            "<class 'pandas.core.frame.DataFrame'>\n",
            "RangeIndex: 838944 entries, 0 to 838943\n",
            "Data columns (total 11 columns):\n",
            " #   Column          Non-Null Count   Dtype \n",
            "---  ------          --------------   ----- \n",
            " 0   overall         838944 non-null  int64 \n",
            " 1   vote            191468 non-null  object\n",
            " 2   verified        838944 non-null  bool  \n",
            " 3   reviewTime      838944 non-null  object\n",
            " 4   reviewerID      838944 non-null  object\n",
            " 5   asin            838944 non-null  object\n",
            " 6   style           490613 non-null  object\n",
            " 7   reviewerName    838742 non-null  object\n",
            " 8   reviewText      838944 non-null  object\n",
            " 9   summary         838869 non-null  object\n",
            " 10  unixReviewTime  838944 non-null  int64 \n",
            "dtypes: bool(1), int64(2), object(8)\n",
            "memory usage: 64.8+ MB\n"
          ]
        }
      ],
      "source": [
        "# getting a general information from the train data\n",
        "train_data.info()"
      ]
    },
    {
      "cell_type": "markdown",
      "metadata": {
        "id": "Ico1d1lVMKC3"
      },
      "source": [
        "In this dataset, there are two numeric columns of ``int64`` data type. In order to reduce memory consumption, we first take the minimum and maximum values in these columns to limit the data type of these columns if possible.\n",
        "\n",
        "<details>\n",
        "  <summary>\n",
        "      <font size='3', color='darkgreen'><b>Translation</b></font>\n",
        "  </summary>\n",
        "\n",
        "  <div dir=rtl>\n",
        "    <p>\n",
        "      در این مجموعه داده، دو ستون عددی از نوع <code>int64</code> وجود دارد. به منظور کاهش مصرف حافظه، کمینه و بیشینه مقادیر موجود در این ستون‌ها را می‌گیریم تا در صورت امکان، نوع داده‌ای این ستون‌ها را محدود کنیم\n",
        "    </p>\n",
        "  </div>\n",
        "</details>"
      ]
    },
    {
      "cell_type": "code",
      "execution_count": null,
      "metadata": {
        "colab": {
          "base_uri": "https://localhost:8080/"
        },
        "id": "XiYDk2WOKf_U",
        "outputId": "53c50d78-760a-4224-8333-704cecbd6982"
      },
      "outputs": [
        {
          "output_type": "stream",
          "name": "stdout",
          "text": [
            "minimum and maximum value of the overall column: (1, 5)\n",
            "minimum and maximum value of the unixReviewTime column: (1451606400, 1538524800)\n"
          ]
        }
      ],
      "source": [
        "print(\n",
        "    \"minimum and maximum value of the overall column:\",\n",
        "    (train_data[\"overall\"].min(), train_data[\"overall\"].max()),\n",
        ")\n",
        "print(\n",
        "    \"minimum and maximum value of the unixReviewTime column:\",\n",
        "    (train_data[\"unixReviewTime\"].min(), train_data[\"unixReviewTime\"].max()),\n",
        ")"
      ]
    },
    {
      "cell_type": "markdown",
      "metadata": {
        "id": "9zIy8jqUOdYc"
      },
      "source": [
        "All the data of the ``overall`` column are between $1$ and $5$, so the data type ``int8`` is sufficient for the values of this column. On the other hand, all the data in the ``unixReviewTime`` column is between $1451606400$ and $1538524800$, so the ``int32`` data type is sufficient for the values of this column. So, in order to reduce the memory consumption, we change the data type of these two columns and make them more limited.\n",
        "\n",
        "<details>\n",
        "  <summary>\n",
        "      <font size='3', color='darkgreen'><b>Translation</b></font>\n",
        "  </summary>\n",
        "\n",
        "  <div dir=rtl>\n",
        "    <p>\n",
        "      تمام داده‌های ستون <code>overall</code> بین $1$ و $5$ قرار دارند، بنابراین نوع داده‌ای <code>int8</code> برای مقادیر این ستون کافی است. از طرف دیگر، تمام داده‌های ستون <code>unixReviewTime</code> بین $1451606400$ و $1538524800$ قرار دارند، بنابراین نوع داده‌ای <code>int32</code> برای مقادیر این ستون کافی است. پس به منظور کاهش مصرف حافظه، نوع داده‌ای این دو ستون را تغییر می‌دهیم و آن‌ها را محدودتر می‌کنیم.\n",
        "    </p>\n",
        "  </div>\n",
        "</details>"
      ]
    },
    {
      "cell_type": "code",
      "execution_count": null,
      "metadata": {
        "id": "WqfBaaWBJCNc"
      },
      "outputs": [],
      "source": [
        "# (ref: https://github.com/mzhoolideh/KNTU_ML_2023)\n",
        "\n",
        "# change the data type of the overall column from int64 to int8\n",
        "train_data[\"overall\"] = train_data[\"overall\"].astype(np.int8)\n",
        "# change the data type of the unixReviewTime column from int64 to int32\n",
        "train_data[\"unixReviewTime\"] = train_data[\"unixReviewTime\"].astype(np.int32)"
      ]
    },
    {
      "cell_type": "markdown",
      "metadata": {
        "id": "40iEMg3QxfPW"
      },
      "source": [
        "On the other hand, the ``reviewTime`` column indicates the date of the review, whose data type is ``object`` in the dataset, while the data in this column is some dates and must be of ``datetime`` type.\n",
        "\n",
        "<details>\n",
        "  <summary>\n",
        "      <font size='3', color='darkgreen'><b>Translation</b></font>\n",
        "  </summary>\n",
        "\n",
        "  <div dir=rtl>\n",
        "    <p>\n",
        "      از طرف دیگر، ستون <code>reviewTime</code>، تاریخ بازبینی را نشان می‌دهد که نوع داده‌ای آن در مجموعه داده، از نوع <code>object</code> است، در حالی که داده‌های این ستون، تعدادی تاریخ هستند و باید از نوع <code>datetime</code> باشند.\n",
        "    </p>\n",
        "  </div>\n",
        "</details>"
      ]
    },
    {
      "cell_type": "code",
      "execution_count": null,
      "metadata": {
        "id": "wD84dl7oxgfv"
      },
      "outputs": [],
      "source": [
        "# (ref: https://saturncloud.io/blog/converting-object-column-in-pandas-dataframe-to-datetime-a-data-scientists-guide/)\n",
        "train_data[\"reviewTime\"] = pd.to_datetime(train_data[\"reviewTime\"])"
      ]
    },
    {
      "cell_type": "markdown",
      "metadata": {
        "id": "fU3VJN7YkEar"
      },
      "source": [
        "Finally, the ``vote`` column, whose data type is the ``object``, is the number of votes in terms of helpfulness, which should be a numeric value of ``integer`` type, but because in this column, there are some missing value (``NaN`` value) and again, because of some technically reasons, the type of the ``NaN`` data is ``float``, so we also consider the column data type to be ``float``. Therefore, at this stage, we want to change the data type of this column as well.\n",
        "\n",
        "<details>\n",
        "  <summary>\n",
        "      <font size='3', color='darkgreen'><b>Translation</b></font>\n",
        "  </summary>\n",
        "\n",
        "  <div dir=rtl>\n",
        "    <p>\n",
        "      در نهایت، ستون <code>vote</code> که نوع داده‌ای آن <code>object</code> است، تعداد رأی‌های دیدگاه از نظر مفیدبودن است که باید یک مقدار عددی از نوع عدد صحیح باشد، اما به دلیل اینکه در این ستون، تعدادی مقدار از دست رفته (مقدار <code>NaN</code>) وجود دارد، و همینطور، چون به دلیل برخی دلایل تکنیکی، داده‌های <code>NaN</code> از نوع <code>float</code> هستند، بنابراین ما نوع داده‌ای این ستون را <code>float</code> در نظر می‌گیریم. بنابراین در این مرحله، می‌خواهیم نوع داده‌ای این ستون را تغییر دهیم.\n",
        "    </p>\n",
        "  </div>\n",
        "</details>"
      ]
    },
    {
      "cell_type": "code",
      "execution_count": null,
      "metadata": {
        "id": "cFJ0WSSPljM-"
      },
      "outputs": [],
      "source": [
        "# (ref: https://github.com/mzhoolideh/KNTU_ML_2023)\n",
        "# train_data[\"vote\"] = train_data[\"vote\"].astype(np.float64)"
      ]
    },
    {
      "cell_type": "markdown",
      "metadata": {
        "id": "3yrEQbkZlqnK"
      },
      "source": [
        "By running the above code, we will notice that in some of the values of this column, the numerical digits with a length of more than $4$ digits, three digits three digits are separated by ``,``. So, before converting the column data type to numeric data type, we must first remove the ``,`` from the numbers.\n",
        "\n",
        "<details>\n",
        "  <summary>\n",
        "      <font size='3', color='darkgreen'><b>Translation</b></font>\n",
        "  </summary>\n",
        "\n",
        "  <div dir=rtl>\n",
        "    <p>\n",
        "      با اجرای کد بالا، متوجه می‌شویم که در برخی از مقادیر این ستون، اعداد با بیش از چهار رقم، سه رقم سه رقم با <code>,</code> جدا شده‌اند. بنابراین قبل از تبدیل نوع داده‌ای این ستون به نوع داده‌ای عددی، ابتدا باید <code>,</code> را از این اعداد حذف کنیم.\n",
        "    </p>\n",
        "  </div>\n",
        "</details>"
      ]
    },
    {
      "cell_type": "code",
      "execution_count": null,
      "metadata": {
        "id": "QW9b4VIHmkUe"
      },
      "outputs": [],
      "source": [
        "# (ref: https://stackoverflow.com/questions/28986489/how-to-replace-text-in-a-string-column-of-a-pandas-dataframe)\n",
        "train_data[\"vote\"] = train_data[\"vote\"].str.replace(\",\", \"\").astype(np.float64)"
      ]
    },
    {
      "cell_type": "markdown",
      "metadata": {
        "id": "JV6KEVxHnd-S"
      },
      "source": [
        "Now, we take the minimum and maximum values in this column to limit the data type of this column if possible.\n",
        "\n",
        "<details>\n",
        "  <summary>\n",
        "      <font size='3', color='darkgreen'><b>Translation</b></font>\n",
        "  </summary>\n",
        "\n",
        "  <div dir=rtl>\n",
        "    <p>\n",
        "      حال، کمینه و بیشینه مقادیر این ستون را می‌گیریم تا در صورت امکان، نوع داده‌ای این ستون را محدود کنیم.\n",
        "    </p>\n",
        "  </div>\n",
        "</details>"
      ]
    },
    {
      "cell_type": "code",
      "execution_count": null,
      "metadata": {
        "colab": {
          "base_uri": "https://localhost:8080/"
        },
        "id": "SeOW03fRnvQU",
        "outputId": "ee979ab8-32d8-4f7a-e916-ae9250dea401"
      },
      "outputs": [
        {
          "output_type": "stream",
          "name": "stdout",
          "text": [
            "minimum and maximum value of the overall column: (2.0, 2846.0)\n"
          ]
        }
      ],
      "source": [
        "print(\n",
        "    \"minimum and maximum value of the overall column:\",\n",
        "    (train_data[\"vote\"].min(), train_data[\"vote\"].max()),\n",
        ")"
      ]
    },
    {
      "cell_type": "markdown",
      "metadata": {
        "id": "-rtzV1IXoJV9"
      },
      "source": [
        "All the data of the ``vote`` column are between  $2$  and  $2846$ , so the data type ``float16`` is sufficient for the values of this column.\n",
        "\n",
        "<details>\n",
        "  <summary>\n",
        "      <font size='3', color='darkgreen'><b>Translation</b></font>\n",
        "  </summary>\n",
        "\n",
        "  <div dir=rtl>\n",
        "    <p>\n",
        "      تمام داده‌های ستون <code>vote</code> بین $2$ و $2846$ هستند، بنابراین نوع داده‌ای <code>float16</code> برای مقادیر این ستون کافی است.\n",
        "    </p>\n",
        "  </div>\n",
        "</details>"
      ]
    },
    {
      "cell_type": "code",
      "execution_count": null,
      "metadata": {
        "id": "mZ1N2FG6p2gk"
      },
      "outputs": [],
      "source": [
        "# (ref: https://github.com/mzhoolideh/KNTU_ML_2023)\n",
        "train_data[\"vote\"] = train_data[\"vote\"].astype(np.float16)"
      ]
    },
    {
      "cell_type": "code",
      "execution_count": null,
      "metadata": {
        "colab": {
          "base_uri": "https://localhost:8080/"
        },
        "id": "eY1UZnZvW_er",
        "outputId": "4330d4ba-da53-4b17-ff15-5001b599cd3a"
      },
      "outputs": [
        {
          "output_type": "stream",
          "name": "stdout",
          "text": [
            "<class 'pandas.core.frame.DataFrame'>\n",
            "RangeIndex: 838944 entries, 0 to 838943\n",
            "Data columns (total 11 columns):\n",
            " #   Column          Non-Null Count   Dtype         \n",
            "---  ------          --------------   -----         \n",
            " 0   overall         838944 non-null  int8          \n",
            " 1   vote            191468 non-null  float16       \n",
            " 2   verified        838944 non-null  bool          \n",
            " 3   reviewTime      838944 non-null  datetime64[ns]\n",
            " 4   reviewerID      838944 non-null  object        \n",
            " 5   asin            838944 non-null  object        \n",
            " 6   style           490613 non-null  object        \n",
            " 7   reviewerName    838742 non-null  object        \n",
            " 8   reviewText      838944 non-null  object        \n",
            " 9   summary         838869 non-null  object        \n",
            " 10  unixReviewTime  838944 non-null  int32         \n",
            "dtypes: bool(1), datetime64[ns](1), float16(1), int32(1), int8(1), object(6)\n",
            "memory usage: 51.2+ MB\n"
          ]
        }
      ],
      "source": [
        "train_data.info()"
      ]
    },
    {
      "cell_type": "markdown",
      "metadata": {
        "id": "yR45Dq8VXIrD"
      },
      "source": [
        "Approximately ``13.6 MB`` of memory consumption has been reduced compared to the initial state\n",
        "\n",
        "<details>\n",
        "  <summary>\n",
        "      <font size='3', color='darkgreen'><b>Translation</b></font>\n",
        "  </summary>\n",
        "\n",
        "  <div dir=rtl>\n",
        "    <p>\n",
        "      در مقایسه با حالت اولیه، مصرف حافظه تقریباً <code dir=ltr>13.6 MB</code> کاهش یافته است.\n",
        "    </p>\n",
        "  </div>\n",
        "</details>"
      ]
    },
    {
      "cell_type": "markdown",
      "metadata": {
        "id": "fIqZoSoJRhuR"
      },
      "source": [
        "## Reading and Checking the Test Dataset <a class=\"anchor\" id=\"reading_and_checking_the_test_dataset\"></a> [&#11014;](#scrollTo=a7xw-0lsoDXC)\n",
        "\n",
        "<details>\n",
        "  <summary>\n",
        "      <font size='3', color='darkgreen'><b>Translation</b></font>\n",
        "  </summary>\n",
        "\n",
        "  <div dir=rtl>\n",
        "    <h2>خواندن و بررسی مجموعه داده‌ی آزمون</h2>\n",
        "  </div>\n",
        "</details>"
      ]
    },
    {
      "cell_type": "code",
      "execution_count": null,
      "metadata": {
        "colab": {
          "base_uri": "https://localhost:8080/",
          "height": 719
        },
        "id": "fMI-STg8HzoA",
        "outputId": "bd0392fa-ac3f-4911-bc8b-779da2cfffdc"
      },
      "outputs": [
        {
          "output_type": "execute_result",
          "data": {
            "text/plain": [
              "       vote  verified  reviewTime      reviewerID        asin  \\\n",
              "0       NaN      True  2018-06-04  A20GGWE66JW9X2  B006Z394GM   \n",
              "1       NaN      True  2018-02-18   ARYJWXHEYHG9M  B005BE058W   \n",
              "2       NaN      True  2018-01-20  A10LHZ7WFZ7HLL  B01DA0YCNC   \n",
              "3       NaN      True  2018-06-25  A11VN8EOHNLP72  B00FBJ4KYC   \n",
              "4       3.0      True  2016-08-17  A194Y8P8TVT7P9  B00P7G82TS   \n",
              "...     ...       ...         ...             ...         ...   \n",
              "19995   NaN      True  2016-08-18  A2938GNQGHT0BL  B01DACQMH4   \n",
              "19996   NaN      True  2018-04-09   ALL1OIDIGVJDH  B005HGM1D6   \n",
              "19997   NaN      True  2016-01-20  A17HGOTUOG2BFJ  B007FMG6D6   \n",
              "19998   3.0      True  2016-01-13  A1HC6MT5PMOIRN  B00KQCOV5C   \n",
              "19999   NaN     False  2016-04-24   AIFLY2HF8NS8U  B01A52KLTC   \n",
              "\n",
              "                                                   style     reviewerName  \\\n",
              "0                                 {'Color:': ' FPS01-C'}    Brian C Toner   \n",
              "1                   {'Size:': ' 1000W', 'Style:': ' G2'}            Snake   \n",
              "2                                                    NaN  Amazon Customer   \n",
              "3                                                    NaN      Jeremy Bray   \n",
              "4                                                    NaN             Mark   \n",
              "...                                                  ...              ...   \n",
              "19995               {'Style:': ' 960 Mbps (24x faster)'}      Sarah White   \n",
              "19996                               {'Size:': ' 1-Pack'}         Amigaman   \n",
              "19997                                                NaN    Luke Snedecor   \n",
              "19998  {'Capacity:': ' 16GB Kit (2 x 8GB)', 'Style:':...  Richmond Mensah   \n",
              "19999                                                NaN   Andre Lawrence   \n",
              "\n",
              "                                              reviewText  \\\n",
              "0      The name and description of this device are mi...   \n",
              "1      One of the molex connectors on the power suppl...   \n",
              "2      Remote constantly disconnects/ Roku player fre...   \n",
              "3      I purchased this 4 year protection plan for a ...   \n",
              "4      I bought one of these and have regretted it ev...   \n",
              "...                                                  ...   \n",
              "19995  I've just had it up and running for 3 days, bu...   \n",
              "19996  Looking for high quality audio interconnect ca...   \n",
              "19997  Perfect! Does exactly as told. The cable is a ...   \n",
              "19998  I bought this for my dell latitude e6330. I wa...   \n",
              "19999  <div id=\"video-block-R14LAKU3P9UVQP\" class=\"a-...   \n",
              "\n",
              "                                                 summary  unixReviewTime  \n",
              "0      The prize for most useless invention of all ti...      1528070400  \n",
              "1                                 MELTED MOLEX CONNECTOR      1518912000  \n",
              "2                                 Bricked on the regular      1516406400  \n",
              "3                                          DO NOT BUY!!!      1529884800  \n",
              "4                                  Nightmare - don't buy      1471392000  \n",
              "...                                                  ...             ...  \n",
              "19995  but so far I'm pretty pleased. I upgraded from...      1471478400  \n",
              "19996                   High Quality Audio Interconnects      1523232000  \n",
              "19997                                     Totally works!      1453248000  \n",
              "19998                                Dell latitude E6330      1452643200  \n",
              "19999  Zmodo Pivot Wireless Surveillance Camera: A Cr...      1461456000  \n",
              "\n",
              "[20000 rows x 10 columns]"
            ],
            "text/html": [
              "\n",
              "  <div id=\"df-65745396-f992-454e-9cc6-c5859ed30cae\" class=\"colab-df-container\">\n",
              "    <div>\n",
              "<style scoped>\n",
              "    .dataframe tbody tr th:only-of-type {\n",
              "        vertical-align: middle;\n",
              "    }\n",
              "\n",
              "    .dataframe tbody tr th {\n",
              "        vertical-align: top;\n",
              "    }\n",
              "\n",
              "    .dataframe thead th {\n",
              "        text-align: right;\n",
              "    }\n",
              "</style>\n",
              "<table border=\"1\" class=\"dataframe\">\n",
              "  <thead>\n",
              "    <tr style=\"text-align: right;\">\n",
              "      <th></th>\n",
              "      <th>vote</th>\n",
              "      <th>verified</th>\n",
              "      <th>reviewTime</th>\n",
              "      <th>reviewerID</th>\n",
              "      <th>asin</th>\n",
              "      <th>style</th>\n",
              "      <th>reviewerName</th>\n",
              "      <th>reviewText</th>\n",
              "      <th>summary</th>\n",
              "      <th>unixReviewTime</th>\n",
              "    </tr>\n",
              "  </thead>\n",
              "  <tbody>\n",
              "    <tr>\n",
              "      <th>0</th>\n",
              "      <td>NaN</td>\n",
              "      <td>True</td>\n",
              "      <td>2018-06-04</td>\n",
              "      <td>A20GGWE66JW9X2</td>\n",
              "      <td>B006Z394GM</td>\n",
              "      <td>{'Color:': ' FPS01-C'}</td>\n",
              "      <td>Brian C Toner</td>\n",
              "      <td>The name and description of this device are mi...</td>\n",
              "      <td>The prize for most useless invention of all ti...</td>\n",
              "      <td>1528070400</td>\n",
              "    </tr>\n",
              "    <tr>\n",
              "      <th>1</th>\n",
              "      <td>NaN</td>\n",
              "      <td>True</td>\n",
              "      <td>2018-02-18</td>\n",
              "      <td>ARYJWXHEYHG9M</td>\n",
              "      <td>B005BE058W</td>\n",
              "      <td>{'Size:': ' 1000W', 'Style:': ' G2'}</td>\n",
              "      <td>Snake</td>\n",
              "      <td>One of the molex connectors on the power suppl...</td>\n",
              "      <td>MELTED MOLEX CONNECTOR</td>\n",
              "      <td>1518912000</td>\n",
              "    </tr>\n",
              "    <tr>\n",
              "      <th>2</th>\n",
              "      <td>NaN</td>\n",
              "      <td>True</td>\n",
              "      <td>2018-01-20</td>\n",
              "      <td>A10LHZ7WFZ7HLL</td>\n",
              "      <td>B01DA0YCNC</td>\n",
              "      <td>NaN</td>\n",
              "      <td>Amazon Customer</td>\n",
              "      <td>Remote constantly disconnects/ Roku player fre...</td>\n",
              "      <td>Bricked on the regular</td>\n",
              "      <td>1516406400</td>\n",
              "    </tr>\n",
              "    <tr>\n",
              "      <th>3</th>\n",
              "      <td>NaN</td>\n",
              "      <td>True</td>\n",
              "      <td>2018-06-25</td>\n",
              "      <td>A11VN8EOHNLP72</td>\n",
              "      <td>B00FBJ4KYC</td>\n",
              "      <td>NaN</td>\n",
              "      <td>Jeremy Bray</td>\n",
              "      <td>I purchased this 4 year protection plan for a ...</td>\n",
              "      <td>DO NOT BUY!!!</td>\n",
              "      <td>1529884800</td>\n",
              "    </tr>\n",
              "    <tr>\n",
              "      <th>4</th>\n",
              "      <td>3.0</td>\n",
              "      <td>True</td>\n",
              "      <td>2016-08-17</td>\n",
              "      <td>A194Y8P8TVT7P9</td>\n",
              "      <td>B00P7G82TS</td>\n",
              "      <td>NaN</td>\n",
              "      <td>Mark</td>\n",
              "      <td>I bought one of these and have regretted it ev...</td>\n",
              "      <td>Nightmare - don't buy</td>\n",
              "      <td>1471392000</td>\n",
              "    </tr>\n",
              "    <tr>\n",
              "      <th>...</th>\n",
              "      <td>...</td>\n",
              "      <td>...</td>\n",
              "      <td>...</td>\n",
              "      <td>...</td>\n",
              "      <td>...</td>\n",
              "      <td>...</td>\n",
              "      <td>...</td>\n",
              "      <td>...</td>\n",
              "      <td>...</td>\n",
              "      <td>...</td>\n",
              "    </tr>\n",
              "    <tr>\n",
              "      <th>19995</th>\n",
              "      <td>NaN</td>\n",
              "      <td>True</td>\n",
              "      <td>2016-08-18</td>\n",
              "      <td>A2938GNQGHT0BL</td>\n",
              "      <td>B01DACQMH4</td>\n",
              "      <td>{'Style:': ' 960 Mbps (24x faster)'}</td>\n",
              "      <td>Sarah White</td>\n",
              "      <td>I've just had it up and running for 3 days, bu...</td>\n",
              "      <td>but so far I'm pretty pleased. I upgraded from...</td>\n",
              "      <td>1471478400</td>\n",
              "    </tr>\n",
              "    <tr>\n",
              "      <th>19996</th>\n",
              "      <td>NaN</td>\n",
              "      <td>True</td>\n",
              "      <td>2018-04-09</td>\n",
              "      <td>ALL1OIDIGVJDH</td>\n",
              "      <td>B005HGM1D6</td>\n",
              "      <td>{'Size:': ' 1-Pack'}</td>\n",
              "      <td>Amigaman</td>\n",
              "      <td>Looking for high quality audio interconnect ca...</td>\n",
              "      <td>High Quality Audio Interconnects</td>\n",
              "      <td>1523232000</td>\n",
              "    </tr>\n",
              "    <tr>\n",
              "      <th>19997</th>\n",
              "      <td>NaN</td>\n",
              "      <td>True</td>\n",
              "      <td>2016-01-20</td>\n",
              "      <td>A17HGOTUOG2BFJ</td>\n",
              "      <td>B007FMG6D6</td>\n",
              "      <td>NaN</td>\n",
              "      <td>Luke Snedecor</td>\n",
              "      <td>Perfect! Does exactly as told. The cable is a ...</td>\n",
              "      <td>Totally works!</td>\n",
              "      <td>1453248000</td>\n",
              "    </tr>\n",
              "    <tr>\n",
              "      <th>19998</th>\n",
              "      <td>3.0</td>\n",
              "      <td>True</td>\n",
              "      <td>2016-01-13</td>\n",
              "      <td>A1HC6MT5PMOIRN</td>\n",
              "      <td>B00KQCOV5C</td>\n",
              "      <td>{'Capacity:': ' 16GB Kit (2 x 8GB)', 'Style:':...</td>\n",
              "      <td>Richmond Mensah</td>\n",
              "      <td>I bought this for my dell latitude e6330. I wa...</td>\n",
              "      <td>Dell latitude E6330</td>\n",
              "      <td>1452643200</td>\n",
              "    </tr>\n",
              "    <tr>\n",
              "      <th>19999</th>\n",
              "      <td>NaN</td>\n",
              "      <td>False</td>\n",
              "      <td>2016-04-24</td>\n",
              "      <td>AIFLY2HF8NS8U</td>\n",
              "      <td>B01A52KLTC</td>\n",
              "      <td>NaN</td>\n",
              "      <td>Andre Lawrence</td>\n",
              "      <td>&lt;div id=\"video-block-R14LAKU3P9UVQP\" class=\"a-...</td>\n",
              "      <td>Zmodo Pivot Wireless Surveillance Camera: A Cr...</td>\n",
              "      <td>1461456000</td>\n",
              "    </tr>\n",
              "  </tbody>\n",
              "</table>\n",
              "<p>20000 rows × 10 columns</p>\n",
              "</div>\n",
              "    <div class=\"colab-df-buttons\">\n",
              "\n",
              "  <div class=\"colab-df-container\">\n",
              "    <button class=\"colab-df-convert\" onclick=\"convertToInteractive('df-65745396-f992-454e-9cc6-c5859ed30cae')\"\n",
              "            title=\"Convert this dataframe to an interactive table.\"\n",
              "            style=\"display:none;\">\n",
              "\n",
              "  <svg xmlns=\"http://www.w3.org/2000/svg\" height=\"24px\" viewBox=\"0 -960 960 960\">\n",
              "    <path d=\"M120-120v-720h720v720H120Zm60-500h600v-160H180v160Zm220 220h160v-160H400v160Zm0 220h160v-160H400v160ZM180-400h160v-160H180v160Zm440 0h160v-160H620v160ZM180-180h160v-160H180v160Zm440 0h160v-160H620v160Z\"/>\n",
              "  </svg>\n",
              "    </button>\n",
              "\n",
              "  <style>\n",
              "    .colab-df-container {\n",
              "      display:flex;\n",
              "      gap: 12px;\n",
              "    }\n",
              "\n",
              "    .colab-df-convert {\n",
              "      background-color: #E8F0FE;\n",
              "      border: none;\n",
              "      border-radius: 50%;\n",
              "      cursor: pointer;\n",
              "      display: none;\n",
              "      fill: #1967D2;\n",
              "      height: 32px;\n",
              "      padding: 0 0 0 0;\n",
              "      width: 32px;\n",
              "    }\n",
              "\n",
              "    .colab-df-convert:hover {\n",
              "      background-color: #E2EBFA;\n",
              "      box-shadow: 0px 1px 2px rgba(60, 64, 67, 0.3), 0px 1px 3px 1px rgba(60, 64, 67, 0.15);\n",
              "      fill: #174EA6;\n",
              "    }\n",
              "\n",
              "    .colab-df-buttons div {\n",
              "      margin-bottom: 4px;\n",
              "    }\n",
              "\n",
              "    [theme=dark] .colab-df-convert {\n",
              "      background-color: #3B4455;\n",
              "      fill: #D2E3FC;\n",
              "    }\n",
              "\n",
              "    [theme=dark] .colab-df-convert:hover {\n",
              "      background-color: #434B5C;\n",
              "      box-shadow: 0px 1px 3px 1px rgba(0, 0, 0, 0.15);\n",
              "      filter: drop-shadow(0px 1px 2px rgba(0, 0, 0, 0.3));\n",
              "      fill: #FFFFFF;\n",
              "    }\n",
              "  </style>\n",
              "\n",
              "    <script>\n",
              "      const buttonEl =\n",
              "        document.querySelector('#df-65745396-f992-454e-9cc6-c5859ed30cae button.colab-df-convert');\n",
              "      buttonEl.style.display =\n",
              "        google.colab.kernel.accessAllowed ? 'block' : 'none';\n",
              "\n",
              "      async function convertToInteractive(key) {\n",
              "        const element = document.querySelector('#df-65745396-f992-454e-9cc6-c5859ed30cae');\n",
              "        const dataTable =\n",
              "          await google.colab.kernel.invokeFunction('convertToInteractive',\n",
              "                                                    [key], {});\n",
              "        if (!dataTable) return;\n",
              "\n",
              "        const docLinkHtml = 'Like what you see? Visit the ' +\n",
              "          '<a target=\"_blank\" href=https://colab.research.google.com/notebooks/data_table.ipynb>data table notebook</a>'\n",
              "          + ' to learn more about interactive tables.';\n",
              "        element.innerHTML = '';\n",
              "        dataTable['output_type'] = 'display_data';\n",
              "        await google.colab.output.renderOutput(dataTable, element);\n",
              "        const docLink = document.createElement('div');\n",
              "        docLink.innerHTML = docLinkHtml;\n",
              "        element.appendChild(docLink);\n",
              "      }\n",
              "    </script>\n",
              "  </div>\n",
              "\n",
              "\n",
              "<div id=\"df-704915cf-fcb8-45ea-92de-a57d03b0f43d\">\n",
              "  <button class=\"colab-df-quickchart\" onclick=\"quickchart('df-704915cf-fcb8-45ea-92de-a57d03b0f43d')\"\n",
              "            title=\"Suggest charts\"\n",
              "            style=\"display:none;\">\n",
              "\n",
              "<svg xmlns=\"http://www.w3.org/2000/svg\" height=\"24px\"viewBox=\"0 0 24 24\"\n",
              "     width=\"24px\">\n",
              "    <g>\n",
              "        <path d=\"M19 3H5c-1.1 0-2 .9-2 2v14c0 1.1.9 2 2 2h14c1.1 0 2-.9 2-2V5c0-1.1-.9-2-2-2zM9 17H7v-7h2v7zm4 0h-2V7h2v10zm4 0h-2v-4h2v4z\"/>\n",
              "    </g>\n",
              "</svg>\n",
              "  </button>\n",
              "\n",
              "<style>\n",
              "  .colab-df-quickchart {\n",
              "      --bg-color: #E8F0FE;\n",
              "      --fill-color: #1967D2;\n",
              "      --hover-bg-color: #E2EBFA;\n",
              "      --hover-fill-color: #174EA6;\n",
              "      --disabled-fill-color: #AAA;\n",
              "      --disabled-bg-color: #DDD;\n",
              "  }\n",
              "\n",
              "  [theme=dark] .colab-df-quickchart {\n",
              "      --bg-color: #3B4455;\n",
              "      --fill-color: #D2E3FC;\n",
              "      --hover-bg-color: #434B5C;\n",
              "      --hover-fill-color: #FFFFFF;\n",
              "      --disabled-bg-color: #3B4455;\n",
              "      --disabled-fill-color: #666;\n",
              "  }\n",
              "\n",
              "  .colab-df-quickchart {\n",
              "    background-color: var(--bg-color);\n",
              "    border: none;\n",
              "    border-radius: 50%;\n",
              "    cursor: pointer;\n",
              "    display: none;\n",
              "    fill: var(--fill-color);\n",
              "    height: 32px;\n",
              "    padding: 0;\n",
              "    width: 32px;\n",
              "  }\n",
              "\n",
              "  .colab-df-quickchart:hover {\n",
              "    background-color: var(--hover-bg-color);\n",
              "    box-shadow: 0 1px 2px rgba(60, 64, 67, 0.3), 0 1px 3px 1px rgba(60, 64, 67, 0.15);\n",
              "    fill: var(--button-hover-fill-color);\n",
              "  }\n",
              "\n",
              "  .colab-df-quickchart-complete:disabled,\n",
              "  .colab-df-quickchart-complete:disabled:hover {\n",
              "    background-color: var(--disabled-bg-color);\n",
              "    fill: var(--disabled-fill-color);\n",
              "    box-shadow: none;\n",
              "  }\n",
              "\n",
              "  .colab-df-spinner {\n",
              "    border: 2px solid var(--fill-color);\n",
              "    border-color: transparent;\n",
              "    border-bottom-color: var(--fill-color);\n",
              "    animation:\n",
              "      spin 1s steps(1) infinite;\n",
              "  }\n",
              "\n",
              "  @keyframes spin {\n",
              "    0% {\n",
              "      border-color: transparent;\n",
              "      border-bottom-color: var(--fill-color);\n",
              "      border-left-color: var(--fill-color);\n",
              "    }\n",
              "    20% {\n",
              "      border-color: transparent;\n",
              "      border-left-color: var(--fill-color);\n",
              "      border-top-color: var(--fill-color);\n",
              "    }\n",
              "    30% {\n",
              "      border-color: transparent;\n",
              "      border-left-color: var(--fill-color);\n",
              "      border-top-color: var(--fill-color);\n",
              "      border-right-color: var(--fill-color);\n",
              "    }\n",
              "    40% {\n",
              "      border-color: transparent;\n",
              "      border-right-color: var(--fill-color);\n",
              "      border-top-color: var(--fill-color);\n",
              "    }\n",
              "    60% {\n",
              "      border-color: transparent;\n",
              "      border-right-color: var(--fill-color);\n",
              "    }\n",
              "    80% {\n",
              "      border-color: transparent;\n",
              "      border-right-color: var(--fill-color);\n",
              "      border-bottom-color: var(--fill-color);\n",
              "    }\n",
              "    90% {\n",
              "      border-color: transparent;\n",
              "      border-bottom-color: var(--fill-color);\n",
              "    }\n",
              "  }\n",
              "</style>\n",
              "\n",
              "  <script>\n",
              "    async function quickchart(key) {\n",
              "      const quickchartButtonEl =\n",
              "        document.querySelector('#' + key + ' button');\n",
              "      quickchartButtonEl.disabled = true;  // To prevent multiple clicks.\n",
              "      quickchartButtonEl.classList.add('colab-df-spinner');\n",
              "      try {\n",
              "        const charts = await google.colab.kernel.invokeFunction(\n",
              "            'suggestCharts', [key], {});\n",
              "      } catch (error) {\n",
              "        console.error('Error during call to suggestCharts:', error);\n",
              "      }\n",
              "      quickchartButtonEl.classList.remove('colab-df-spinner');\n",
              "      quickchartButtonEl.classList.add('colab-df-quickchart-complete');\n",
              "    }\n",
              "    (() => {\n",
              "      let quickchartButtonEl =\n",
              "        document.querySelector('#df-704915cf-fcb8-45ea-92de-a57d03b0f43d button');\n",
              "      quickchartButtonEl.style.display =\n",
              "        google.colab.kernel.accessAllowed ? 'block' : 'none';\n",
              "    })();\n",
              "  </script>\n",
              "</div>\n",
              "    </div>\n",
              "  </div>\n"
            ]
          },
          "metadata": {},
          "execution_count": 12
        }
      ],
      "source": [
        "# read the test data\n",
        "test_data = pd.read_csv(\n",
        "    \"https://drive.google.com/u/0/uc?id=1-8TsrqTRFP-q9TM-6HinhO0ZVXFHq9TB&export=download\"\n",
        ")\n",
        "# show the test data\n",
        "test_data"
      ]
    },
    {
      "cell_type": "code",
      "execution_count": null,
      "metadata": {
        "colab": {
          "base_uri": "https://localhost:8080/"
        },
        "id": "BW7hAs3gQ9oh",
        "outputId": "5410350e-4f18-413a-a5c8-981d11562b7d"
      },
      "outputs": [
        {
          "output_type": "stream",
          "name": "stdout",
          "text": [
            "<class 'pandas.core.frame.DataFrame'>\n",
            "RangeIndex: 20000 entries, 0 to 19999\n",
            "Data columns (total 10 columns):\n",
            " #   Column          Non-Null Count  Dtype  \n",
            "---  ------          --------------  -----  \n",
            " 0   vote            4933 non-null   float64\n",
            " 1   verified        20000 non-null  bool   \n",
            " 2   reviewTime      20000 non-null  object \n",
            " 3   reviewerID      20000 non-null  object \n",
            " 4   asin            20000 non-null  object \n",
            " 5   style           11504 non-null  object \n",
            " 6   reviewerName    19996 non-null  object \n",
            " 7   reviewText      20000 non-null  object \n",
            " 8   summary         19998 non-null  object \n",
            " 9   unixReviewTime  20000 non-null  int64  \n",
            "dtypes: bool(1), float64(1), int64(1), object(7)\n",
            "memory usage: 1.4+ MB\n"
          ]
        }
      ],
      "source": [
        "# getting a general information from the test data\n",
        "test_data.info()"
      ]
    },
    {
      "cell_type": "markdown",
      "metadata": {
        "id": "kkpMOorvSa4z"
      },
      "source": [
        "In this dataset, there are two numeric columns of ``float64`` and ``int64`` data types. In order to reduce memory consumption, we first take the minimum and maximum values in these columns to limit the data type of these columns if possible.\n",
        "\n",
        "<details>\n",
        "  <summary>\n",
        "      <font size='3', color='darkgreen'><b>Translation</b></font>\n",
        "  </summary>\n",
        "\n",
        "  <div dir=rtl>\n",
        "    <p>\n",
        "      در این مجموعه داده، دو ستون عددی از نوع <code>float64</code> و <code>int64</code> وجود دارد. به منظور کاهش مصرف حافظه، ابتدا کمینه و بیشینه مقادیر موجود در این ستون‌ها را می‌گیریم تا در صورت امکان، نوع داده‌ای این ستون‌ها را محدود کنیم\n",
        "    </p>\n",
        "  </div>\n",
        "</details>"
      ]
    },
    {
      "cell_type": "code",
      "execution_count": null,
      "metadata": {
        "colab": {
          "base_uri": "https://localhost:8080/"
        },
        "id": "2EIBH2ymSxm5",
        "outputId": "6021a1de-b9fc-4c36-94cb-d538318cff95"
      },
      "outputs": [
        {
          "output_type": "stream",
          "name": "stdout",
          "text": [
            "minimum and maximum value of the vote column: (2.0, 831.0)\n",
            "minimum and maximum value of the unixReviewTime column: (1451606400, 1538092800)\n"
          ]
        }
      ],
      "source": [
        "print(\n",
        "    \"minimum and maximum value of the vote column:\",\n",
        "    (test_data[\"vote\"].min(), test_data[\"vote\"].max()),\n",
        ")\n",
        "print(\n",
        "    \"minimum and maximum value of the unixReviewTime column:\",\n",
        "    (test_data[\"unixReviewTime\"].min(), test_data[\"unixReviewTime\"].max()),\n",
        ")"
      ]
    },
    {
      "cell_type": "markdown",
      "metadata": {
        "id": "1vgrj3wAVJUk"
      },
      "source": [
        "All the data of the ``vote`` column are between $2.0$ and $831.0$, so the data type ``float16`` is sufficient for the values of this column. On the other hand, all the data in the ``unixReviewTime`` column is between $1451606400$ and $1538092800$, so the ``int32`` datatype is sufficient for the values of this column. So, in order to reduce the memory consumption, we change the data type of these two columns and make them more limited.\n",
        "\n",
        "<details>\n",
        "  <summary>\n",
        "      <font size='3', color='darkgreen'><b>Translation</b></font>\n",
        "  </summary>\n",
        "\n",
        "  <div dir=rtl>\n",
        "    <p>\n",
        "      تمام داده‌های ستون <code>vote</code> بین $2.0$ و $831.0$ هستند، بنابراین نوع داده‌ای <code>float16</code> برای مقادیر این ستون کافی است. از طرف دیگر، تمام داده‌های ستون <code>unixReviewTime</code> بین $1451606400$ و $1538092800$ قرار دارند، بنابراین نوع داده‌ای <code>int32</code> برای مقادیر این ستون کافی است. پس به منظور کاهش مصرف حافظه، نوع داده‌ای این دو ستون را تغییر می‌دهیم و آن‌ها را محدودتر می‌کنیم.\n",
        "    </p>\n",
        "  </div>\n",
        "</details>"
      ]
    },
    {
      "cell_type": "code",
      "execution_count": null,
      "metadata": {
        "id": "mbb1wU0DVjPi"
      },
      "outputs": [],
      "source": [
        "# change the data type of the vote column from float64 to float16\n",
        "test_data[\"vote\"] = test_data[\"vote\"].astype(np.float16)\n",
        "# change the data type of the unixReviewTime column from int64 to int32\n",
        "test_data[\"unixReviewTime\"] = test_data[\"unixReviewTime\"].astype(np.int32)"
      ]
    },
    {
      "cell_type": "markdown",
      "metadata": {
        "id": "lBFeHnZ608C8"
      },
      "source": [
        "On the other hand, the ``reviewTime`` column indicates the date of the review, whose data type is ``object`` in the dataset, while the data in this column is some dates and must be of ``datetime`` type.\n",
        "\n",
        "<details>\n",
        "  <summary>\n",
        "      <font size='3', color='darkgreen'><b>Translation</b></font>\n",
        "  </summary>\n",
        "\n",
        "  <div dir=rtl>\n",
        "    <p>\n",
        "      از طرف دیگر، ستون <code>reviewTime</code>، تاریخ بازبینی را نشان می‌دهد که نوع داده‌ای آن در مجموعه داده، از نوع <code>object</code> است، در حالی که داده‌های این ستون، تعدادی تاریخ هستند و باید از نوع <code>datetime</code> باشند.\n",
        "    </p>\n",
        "  </div>\n",
        "</details>"
      ]
    },
    {
      "cell_type": "code",
      "execution_count": null,
      "metadata": {
        "id": "zpav2gua095v"
      },
      "outputs": [],
      "source": [
        "# (ref: https://saturncloud.io/blog/converting-object-column-in-pandas-dataframe-to-datetime-a-data-scientists-guide/)\n",
        "test_data[\"reviewTime\"] = pd.to_datetime(test_data[\"reviewTime\"])"
      ]
    },
    {
      "cell_type": "code",
      "execution_count": null,
      "metadata": {
        "colab": {
          "base_uri": "https://localhost:8080/"
        },
        "id": "S1zeNYUUXqVF",
        "outputId": "517e13e6-d324-41ed-c3bc-c53c740e7c12"
      },
      "outputs": [
        {
          "output_type": "stream",
          "name": "stdout",
          "text": [
            "<class 'pandas.core.frame.DataFrame'>\n",
            "RangeIndex: 20000 entries, 0 to 19999\n",
            "Data columns (total 10 columns):\n",
            " #   Column          Non-Null Count  Dtype         \n",
            "---  ------          --------------  -----         \n",
            " 0   vote            4933 non-null   float16       \n",
            " 1   verified        20000 non-null  bool          \n",
            " 2   reviewTime      20000 non-null  datetime64[ns]\n",
            " 3   reviewerID      20000 non-null  object        \n",
            " 4   asin            20000 non-null  object        \n",
            " 5   style           11504 non-null  object        \n",
            " 6   reviewerName    19996 non-null  object        \n",
            " 7   reviewText      20000 non-null  object        \n",
            " 8   summary         19998 non-null  object        \n",
            " 9   unixReviewTime  20000 non-null  int32         \n",
            "dtypes: bool(1), datetime64[ns](1), float16(1), int32(1), object(6)\n",
            "memory usage: 1.2+ MB\n"
          ]
        }
      ],
      "source": [
        "# getting a general information from the train data\n",
        "test_data.info()"
      ]
    },
    {
      "cell_type": "markdown",
      "metadata": {
        "id": "rshmKH4yXw8j"
      },
      "source": [
        "Approximately ``0.2 MB`` of memory consumption has been reduced compared to the initial state\n",
        "\n",
        "<details>\n",
        "  <summary>\n",
        "      <font size='3', color='darkgreen'><b>Translation</b></font>\n",
        "  </summary>\n",
        "\n",
        "  <div dir=rtl>\n",
        "    <p>\n",
        "      در مقایسه با حالت اولیه، مصرف حافظه تقریباً <code dir=ltr>0.2 MB</code> کاهش یافته است.\n",
        "    </p>\n",
        "  </div>\n",
        "</details>"
      ]
    },
    {
      "cell_type": "markdown",
      "metadata": {
        "id": "zBYz2umnWHkX"
      },
      "source": [
        "## Reading and Checking the ``title_barnd`` Dataset <a class=\"anchor\" id=\"reading_and_checking_the_title_brand_dataset\"></a> [&#11014;](#scrollTo=a7xw-0lsoDXC)\n",
        "\n",
        "<details>\n",
        "  <summary>\n",
        "      <font size='3', color='darkgreen'><b>Translation</b></font>\n",
        "  </summary>\n",
        "\n",
        "  <div dir=rtl>\n",
        "    <h2>خواندن و بررسی مجموعه داده‌ی <code>title_brand</code></h2>\n",
        "  </div>\n",
        "</details>"
      ]
    },
    {
      "cell_type": "code",
      "execution_count": null,
      "metadata": {
        "colab": {
          "base_uri": "https://localhost:8080/",
          "height": 424
        },
        "id": "xjD7Rn4gIYu7",
        "outputId": "ffa75b3a-19a2-4007-bc8f-ceb9c4664ee0"
      },
      "outputs": [
        {
          "output_type": "execute_result",
          "data": {
            "text/plain": [
              "              asin                                              title  \\\n",
              "0       0011300000  Genuine Geovision 1 Channel 3rd Party NVR IP S...   \n",
              "1       0043396828  Books \"Handbook of Astronomical Image Processi...   \n",
              "2       0060009810                                     One Hot Summer   \n",
              "3       0060219602  Hurray for Hattie Rabbit: Story and pictures (...   \n",
              "4       0060786817                     sex.lies.murder.fame.: A Novel   \n",
              "...            ...                                                ...   \n",
              "786440  B01HJGOOMW  Tukzer Cassette Player Portable Tape Player Ca...   \n",
              "786441  B01HJH3XLE  Cobiter AC Adapter Battery Charger For IBM LEN...   \n",
              "786442  B01HJH6CEY  Baofeng Original Li-ion Battery Charger Deskto...   \n",
              "786443  B01HJH40WU  Jricoo 3pack 6ft Micro USB to USB Cable 2.0 6f...   \n",
              "786444  B01HJH42KU  Jricoo Nylon Braided 2.0 Micro USB Charging Ca...   \n",
              "\n",
              "                                               brand  \n",
              "0                                          GeoVision  \n",
              "1                                       33 Books Co.  \n",
              "2       Visit Amazon's Carolina Garcia Aguilera Page  \n",
              "3                Visit Amazon's Dick Gackenbach Page  \n",
              "4                   Visit Amazon's Lolita Files Page  \n",
              "...                                              ...  \n",
              "786440                                        Tukzer  \n",
              "786441                                       Cobiter  \n",
              "786442                                       COOLBOY  \n",
              "786443                                        Jricoo  \n",
              "786444                                        Jricoo  \n",
              "\n",
              "[786445 rows x 3 columns]"
            ],
            "text/html": [
              "\n",
              "  <div id=\"df-b4b449c3-58b3-49c8-85c1-30309ef9db18\" class=\"colab-df-container\">\n",
              "    <div>\n",
              "<style scoped>\n",
              "    .dataframe tbody tr th:only-of-type {\n",
              "        vertical-align: middle;\n",
              "    }\n",
              "\n",
              "    .dataframe tbody tr th {\n",
              "        vertical-align: top;\n",
              "    }\n",
              "\n",
              "    .dataframe thead th {\n",
              "        text-align: right;\n",
              "    }\n",
              "</style>\n",
              "<table border=\"1\" class=\"dataframe\">\n",
              "  <thead>\n",
              "    <tr style=\"text-align: right;\">\n",
              "      <th></th>\n",
              "      <th>asin</th>\n",
              "      <th>title</th>\n",
              "      <th>brand</th>\n",
              "    </tr>\n",
              "  </thead>\n",
              "  <tbody>\n",
              "    <tr>\n",
              "      <th>0</th>\n",
              "      <td>0011300000</td>\n",
              "      <td>Genuine Geovision 1 Channel 3rd Party NVR IP S...</td>\n",
              "      <td>GeoVision</td>\n",
              "    </tr>\n",
              "    <tr>\n",
              "      <th>1</th>\n",
              "      <td>0043396828</td>\n",
              "      <td>Books \"Handbook of Astronomical Image Processi...</td>\n",
              "      <td>33 Books Co.</td>\n",
              "    </tr>\n",
              "    <tr>\n",
              "      <th>2</th>\n",
              "      <td>0060009810</td>\n",
              "      <td>One Hot Summer</td>\n",
              "      <td>Visit Amazon's Carolina Garcia Aguilera Page</td>\n",
              "    </tr>\n",
              "    <tr>\n",
              "      <th>3</th>\n",
              "      <td>0060219602</td>\n",
              "      <td>Hurray for Hattie Rabbit: Story and pictures (...</td>\n",
              "      <td>Visit Amazon's Dick Gackenbach Page</td>\n",
              "    </tr>\n",
              "    <tr>\n",
              "      <th>4</th>\n",
              "      <td>0060786817</td>\n",
              "      <td>sex.lies.murder.fame.: A Novel</td>\n",
              "      <td>Visit Amazon's Lolita Files Page</td>\n",
              "    </tr>\n",
              "    <tr>\n",
              "      <th>...</th>\n",
              "      <td>...</td>\n",
              "      <td>...</td>\n",
              "      <td>...</td>\n",
              "    </tr>\n",
              "    <tr>\n",
              "      <th>786440</th>\n",
              "      <td>B01HJGOOMW</td>\n",
              "      <td>Tukzer Cassette Player Portable Tape Player Ca...</td>\n",
              "      <td>Tukzer</td>\n",
              "    </tr>\n",
              "    <tr>\n",
              "      <th>786441</th>\n",
              "      <td>B01HJH3XLE</td>\n",
              "      <td>Cobiter AC Adapter Battery Charger For IBM LEN...</td>\n",
              "      <td>Cobiter</td>\n",
              "    </tr>\n",
              "    <tr>\n",
              "      <th>786442</th>\n",
              "      <td>B01HJH6CEY</td>\n",
              "      <td>Baofeng Original Li-ion Battery Charger Deskto...</td>\n",
              "      <td>COOLBOY</td>\n",
              "    </tr>\n",
              "    <tr>\n",
              "      <th>786443</th>\n",
              "      <td>B01HJH40WU</td>\n",
              "      <td>Jricoo 3pack 6ft Micro USB to USB Cable 2.0 6f...</td>\n",
              "      <td>Jricoo</td>\n",
              "    </tr>\n",
              "    <tr>\n",
              "      <th>786444</th>\n",
              "      <td>B01HJH42KU</td>\n",
              "      <td>Jricoo Nylon Braided 2.0 Micro USB Charging Ca...</td>\n",
              "      <td>Jricoo</td>\n",
              "    </tr>\n",
              "  </tbody>\n",
              "</table>\n",
              "<p>786445 rows × 3 columns</p>\n",
              "</div>\n",
              "    <div class=\"colab-df-buttons\">\n",
              "\n",
              "  <div class=\"colab-df-container\">\n",
              "    <button class=\"colab-df-convert\" onclick=\"convertToInteractive('df-b4b449c3-58b3-49c8-85c1-30309ef9db18')\"\n",
              "            title=\"Convert this dataframe to an interactive table.\"\n",
              "            style=\"display:none;\">\n",
              "\n",
              "  <svg xmlns=\"http://www.w3.org/2000/svg\" height=\"24px\" viewBox=\"0 -960 960 960\">\n",
              "    <path d=\"M120-120v-720h720v720H120Zm60-500h600v-160H180v160Zm220 220h160v-160H400v160Zm0 220h160v-160H400v160ZM180-400h160v-160H180v160Zm440 0h160v-160H620v160ZM180-180h160v-160H180v160Zm440 0h160v-160H620v160Z\"/>\n",
              "  </svg>\n",
              "    </button>\n",
              "\n",
              "  <style>\n",
              "    .colab-df-container {\n",
              "      display:flex;\n",
              "      gap: 12px;\n",
              "    }\n",
              "\n",
              "    .colab-df-convert {\n",
              "      background-color: #E8F0FE;\n",
              "      border: none;\n",
              "      border-radius: 50%;\n",
              "      cursor: pointer;\n",
              "      display: none;\n",
              "      fill: #1967D2;\n",
              "      height: 32px;\n",
              "      padding: 0 0 0 0;\n",
              "      width: 32px;\n",
              "    }\n",
              "\n",
              "    .colab-df-convert:hover {\n",
              "      background-color: #E2EBFA;\n",
              "      box-shadow: 0px 1px 2px rgba(60, 64, 67, 0.3), 0px 1px 3px 1px rgba(60, 64, 67, 0.15);\n",
              "      fill: #174EA6;\n",
              "    }\n",
              "\n",
              "    .colab-df-buttons div {\n",
              "      margin-bottom: 4px;\n",
              "    }\n",
              "\n",
              "    [theme=dark] .colab-df-convert {\n",
              "      background-color: #3B4455;\n",
              "      fill: #D2E3FC;\n",
              "    }\n",
              "\n",
              "    [theme=dark] .colab-df-convert:hover {\n",
              "      background-color: #434B5C;\n",
              "      box-shadow: 0px 1px 3px 1px rgba(0, 0, 0, 0.15);\n",
              "      filter: drop-shadow(0px 1px 2px rgba(0, 0, 0, 0.3));\n",
              "      fill: #FFFFFF;\n",
              "    }\n",
              "  </style>\n",
              "\n",
              "    <script>\n",
              "      const buttonEl =\n",
              "        document.querySelector('#df-b4b449c3-58b3-49c8-85c1-30309ef9db18 button.colab-df-convert');\n",
              "      buttonEl.style.display =\n",
              "        google.colab.kernel.accessAllowed ? 'block' : 'none';\n",
              "\n",
              "      async function convertToInteractive(key) {\n",
              "        const element = document.querySelector('#df-b4b449c3-58b3-49c8-85c1-30309ef9db18');\n",
              "        const dataTable =\n",
              "          await google.colab.kernel.invokeFunction('convertToInteractive',\n",
              "                                                    [key], {});\n",
              "        if (!dataTable) return;\n",
              "\n",
              "        const docLinkHtml = 'Like what you see? Visit the ' +\n",
              "          '<a target=\"_blank\" href=https://colab.research.google.com/notebooks/data_table.ipynb>data table notebook</a>'\n",
              "          + ' to learn more about interactive tables.';\n",
              "        element.innerHTML = '';\n",
              "        dataTable['output_type'] = 'display_data';\n",
              "        await google.colab.output.renderOutput(dataTable, element);\n",
              "        const docLink = document.createElement('div');\n",
              "        docLink.innerHTML = docLinkHtml;\n",
              "        element.appendChild(docLink);\n",
              "      }\n",
              "    </script>\n",
              "  </div>\n",
              "\n",
              "\n",
              "<div id=\"df-b094cee7-e341-4e41-9a68-8d082b1a198b\">\n",
              "  <button class=\"colab-df-quickchart\" onclick=\"quickchart('df-b094cee7-e341-4e41-9a68-8d082b1a198b')\"\n",
              "            title=\"Suggest charts\"\n",
              "            style=\"display:none;\">\n",
              "\n",
              "<svg xmlns=\"http://www.w3.org/2000/svg\" height=\"24px\"viewBox=\"0 0 24 24\"\n",
              "     width=\"24px\">\n",
              "    <g>\n",
              "        <path d=\"M19 3H5c-1.1 0-2 .9-2 2v14c0 1.1.9 2 2 2h14c1.1 0 2-.9 2-2V5c0-1.1-.9-2-2-2zM9 17H7v-7h2v7zm4 0h-2V7h2v10zm4 0h-2v-4h2v4z\"/>\n",
              "    </g>\n",
              "</svg>\n",
              "  </button>\n",
              "\n",
              "<style>\n",
              "  .colab-df-quickchart {\n",
              "      --bg-color: #E8F0FE;\n",
              "      --fill-color: #1967D2;\n",
              "      --hover-bg-color: #E2EBFA;\n",
              "      --hover-fill-color: #174EA6;\n",
              "      --disabled-fill-color: #AAA;\n",
              "      --disabled-bg-color: #DDD;\n",
              "  }\n",
              "\n",
              "  [theme=dark] .colab-df-quickchart {\n",
              "      --bg-color: #3B4455;\n",
              "      --fill-color: #D2E3FC;\n",
              "      --hover-bg-color: #434B5C;\n",
              "      --hover-fill-color: #FFFFFF;\n",
              "      --disabled-bg-color: #3B4455;\n",
              "      --disabled-fill-color: #666;\n",
              "  }\n",
              "\n",
              "  .colab-df-quickchart {\n",
              "    background-color: var(--bg-color);\n",
              "    border: none;\n",
              "    border-radius: 50%;\n",
              "    cursor: pointer;\n",
              "    display: none;\n",
              "    fill: var(--fill-color);\n",
              "    height: 32px;\n",
              "    padding: 0;\n",
              "    width: 32px;\n",
              "  }\n",
              "\n",
              "  .colab-df-quickchart:hover {\n",
              "    background-color: var(--hover-bg-color);\n",
              "    box-shadow: 0 1px 2px rgba(60, 64, 67, 0.3), 0 1px 3px 1px rgba(60, 64, 67, 0.15);\n",
              "    fill: var(--button-hover-fill-color);\n",
              "  }\n",
              "\n",
              "  .colab-df-quickchart-complete:disabled,\n",
              "  .colab-df-quickchart-complete:disabled:hover {\n",
              "    background-color: var(--disabled-bg-color);\n",
              "    fill: var(--disabled-fill-color);\n",
              "    box-shadow: none;\n",
              "  }\n",
              "\n",
              "  .colab-df-spinner {\n",
              "    border: 2px solid var(--fill-color);\n",
              "    border-color: transparent;\n",
              "    border-bottom-color: var(--fill-color);\n",
              "    animation:\n",
              "      spin 1s steps(1) infinite;\n",
              "  }\n",
              "\n",
              "  @keyframes spin {\n",
              "    0% {\n",
              "      border-color: transparent;\n",
              "      border-bottom-color: var(--fill-color);\n",
              "      border-left-color: var(--fill-color);\n",
              "    }\n",
              "    20% {\n",
              "      border-color: transparent;\n",
              "      border-left-color: var(--fill-color);\n",
              "      border-top-color: var(--fill-color);\n",
              "    }\n",
              "    30% {\n",
              "      border-color: transparent;\n",
              "      border-left-color: var(--fill-color);\n",
              "      border-top-color: var(--fill-color);\n",
              "      border-right-color: var(--fill-color);\n",
              "    }\n",
              "    40% {\n",
              "      border-color: transparent;\n",
              "      border-right-color: var(--fill-color);\n",
              "      border-top-color: var(--fill-color);\n",
              "    }\n",
              "    60% {\n",
              "      border-color: transparent;\n",
              "      border-right-color: var(--fill-color);\n",
              "    }\n",
              "    80% {\n",
              "      border-color: transparent;\n",
              "      border-right-color: var(--fill-color);\n",
              "      border-bottom-color: var(--fill-color);\n",
              "    }\n",
              "    90% {\n",
              "      border-color: transparent;\n",
              "      border-bottom-color: var(--fill-color);\n",
              "    }\n",
              "  }\n",
              "</style>\n",
              "\n",
              "  <script>\n",
              "    async function quickchart(key) {\n",
              "      const quickchartButtonEl =\n",
              "        document.querySelector('#' + key + ' button');\n",
              "      quickchartButtonEl.disabled = true;  // To prevent multiple clicks.\n",
              "      quickchartButtonEl.classList.add('colab-df-spinner');\n",
              "      try {\n",
              "        const charts = await google.colab.kernel.invokeFunction(\n",
              "            'suggestCharts', [key], {});\n",
              "      } catch (error) {\n",
              "        console.error('Error during call to suggestCharts:', error);\n",
              "      }\n",
              "      quickchartButtonEl.classList.remove('colab-df-spinner');\n",
              "      quickchartButtonEl.classList.add('colab-df-quickchart-complete');\n",
              "    }\n",
              "    (() => {\n",
              "      let quickchartButtonEl =\n",
              "        document.querySelector('#df-b094cee7-e341-4e41-9a68-8d082b1a198b button');\n",
              "      quickchartButtonEl.style.display =\n",
              "        google.colab.kernel.accessAllowed ? 'block' : 'none';\n",
              "    })();\n",
              "  </script>\n",
              "</div>\n",
              "    </div>\n",
              "  </div>\n"
            ]
          },
          "metadata": {},
          "execution_count": 18
        }
      ],
      "source": [
        "# read the data\n",
        "title_brand = pd.read_csv(\n",
        "    \"https://drive.google.com/u/0/uc?id=1I9aPAvvYgQWdHGKtnd7IeTGXpx8vOm4h&export=download\"\n",
        ")\n",
        "# show the data\n",
        "title_brand"
      ]
    },
    {
      "cell_type": "code",
      "execution_count": null,
      "metadata": {
        "colab": {
          "base_uri": "https://localhost:8080/"
        },
        "id": "GddZYHKPIyDT",
        "outputId": "398dbac8-38a0-40b9-9638-b6661d670c24"
      },
      "outputs": [
        {
          "output_type": "stream",
          "name": "stdout",
          "text": [
            "<class 'pandas.core.frame.DataFrame'>\n",
            "RangeIndex: 786445 entries, 0 to 786444\n",
            "Data columns (total 3 columns):\n",
            " #   Column  Non-Null Count   Dtype \n",
            "---  ------  --------------   ----- \n",
            " 0   asin    786445 non-null  object\n",
            " 1   title   786426 non-null  object\n",
            " 2   brand   781007 non-null  object\n",
            "dtypes: object(3)\n",
            "memory usage: 18.0+ MB\n"
          ]
        }
      ],
      "source": [
        "# getting a general information from the title_brand dataset\n",
        "title_brand.info()"
      ]
    },
    {
      "cell_type": "markdown",
      "metadata": {
        "id": "iE9KIVV7ZEvK"
      },
      "source": [
        "## Part 1) Preliminary Analysis of Data <a class=\"anchor\" id=\"preliminary_analysis_of_data\"></a> [&#11014;](#scrollTo=a7xw-0lsoDXC)\n",
        "\n",
        "<details>\n",
        "  <summary>\n",
        "      <font size='3', color='darkgreen'><b>Translation</b></font>\n",
        "  </summary>\n",
        "\n",
        "  <div dir=rtl>\n",
        "    <h2>بخش ۱) تجزیه و تحلیل اولیه از داده‌ها</h2>\n",
        "  </div>\n",
        "</details>"
      ]
    },
    {
      "cell_type": "markdown",
      "metadata": {
        "id": "h8s437u14hqt"
      },
      "source": [
        "### Question 1 <a class=\"anchor\" id=\"q1\"></a> [&#11014;](#scrollTo=a7xw-0lsoDXC)\n",
        "\n",
        "<details>\n",
        "  <summary>\n",
        "      <font size='3', color='darkgreen'><b>Translation</b></font>\n",
        "  </summary>\n",
        "\n",
        "  <div dir=rtl>\n",
        "    <h3>سوال ۱</h3>\n",
        "  </div>\n",
        "</details>"
      ]
    },
    {
      "cell_type": "markdown",
      "metadata": {
        "id": "dWcsaYKm4qJp"
      },
      "source": [
        "Plot the ``overall`` column distribution. Is the dataset balanced? If not, do you need to balance it for your modeling? What solution do you suggest for this?\n",
        "\n",
        "<details>\n",
        "  <summary>\n",
        "      <font size='3', color='darkgreen'><b>Translation</b></font>\n",
        "  </summary>\n",
        "\n",
        "  <div dir=rtl>\n",
        "    <p>\n",
        "      توزیع ستون <code>overall</code> را رسم کنید. آیا مجموعه داده متوازن است؟ اگر خیر، آیا نیاز است برای مدل‌سازی خود آن را متوازن کنید؟ چه راه حلی برای این کار پیشنهاد می‌کنید؟\n",
        "    </p>\n",
        "  </div>\n",
        "</details>"
      ]
    },
    {
      "cell_type": "code",
      "execution_count": null,
      "metadata": {
        "colab": {
          "base_uri": "https://localhost:8080/",
          "height": 430
        },
        "id": "uoJLYy9AbV_1",
        "outputId": "64ce2526-72d0-4b0f-bb86-9b58b6b73b86"
      },
      "outputs": [
        {
          "output_type": "display_data",
          "data": {
            "text/plain": [
              "<Figure size 640x480 with 1 Axes>"
            ],
            "image/png": "[encoded data removed]"
          },
          "metadata": {}
        }
      ],
      "source": [
        "# (ref: https://sparkbyexamples.com/pandas/plot-distribution-of-column-values-in-pandas/)\n",
        "train_data[\"overall\"].plot(kind=\"kde\");"
      ]
    },
    {
      "cell_type": "markdown",
      "metadata": {
        "id": "YnfZPs1dfl6_"
      },
      "source": [
        "As you can see from the plot, the dataset is not balanced. Imbalanced data is a common problem in machine learning, where one class has a significantly higher number of observations than the other. This can lead to biased models and poor performance on the minority class.\n",
        "\n",
        "To handle imbalanced data, various techniques can be employed:\n",
        "- Resampling techniques\n",
        "- Data augmentation\n",
        "- Synthetic minority over-sampling technique (SMOTE)\n",
        "- Ensemble techniques\n",
        "- One-class classification\n",
        "- Cost-sensitive learning\n",
        "- Evaluation metrics for imbalanced data\n",
        "\n",
        "The most common techniques include **undersampling**, **oversampling**, and **feature selection**.\n",
        "\n",
        "<details>\n",
        "  <summary>\n",
        "      <font size='3', color='darkgreen'><b>Translation</b></font>\n",
        "  </summary>\n",
        "\n",
        "  <div dir=rtl>\n",
        "    <p>\n",
        "      همانطور که از نمودار می‌بینید، مجموعه داده متعادل نیست. داده‌های نامتعادل یک مشکل رایج در یادگیری ماشین هستند، که در آن، یک کلاس، به طور قابل‌توجهی، تعداد مشاهدات بیشتری نسبت به بقیه دارد. این می‌تواند منجر به مدل‌های مغرضانه و ایجاد عملکرد ضعیف در طبقه‌ی اقلیت شود.\n",
        "    </p>\n",
        "    <p>\n",
        "      برای مدیریت داده‌های نامتعادل، می‌توان از تکنیک‌های مختلفی استفاده کرد:\n",
        "      <ul>\n",
        "        <li>تکنیک‌های نمونه‌گیری مجدد</li>\n",
        "        <li>افزایش داده‌ها</li>\n",
        "        <li>روش نمونه‌برداری بیش از حد از طبقه‌ی اقلیت و بصورت مصنوعی (SMOTE)</li>\n",
        "        <li>تکنیک‌های آنسامبلی</li>\n",
        "        <li>طبقه‌بندی یک کلاسه</li>\n",
        "        <li>یادگیری حساس به هزینه</li>\n",
        "        <li>معیارهای ارزیابی برای داده‌های نامتعادل</li>\n",
        "      </ul>\n",
        "    </p>\n",
        "    <p>\n",
        "      رایج‌ترین تکنیک‌ها شامل <u>نمونه‌برداری کم‌نمونه</u>، <u>نمونه‌برداری بیش از حد</u> و <u>انتخاب ویژگی</u> است.\n",
        "    </p>\n",
        "  </div>\n",
        "</details>"
      ]
    },
    {
      "cell_type": "code",
      "execution_count": null,
      "metadata": {
        "id": "hG5ZZeyF-FdX"
      },
      "outputs": [],
      "source": [
        "# https://machinelearningmastery.com/multi-class-imbalanced-classification/"
      ]
    },
    {
      "cell_type": "markdown",
      "metadata": {
        "id": "IvRASsZC4ts9"
      },
      "source": [
        "### Question 2 <a class=\"anchor\" id=\"q2\"></a> [&#11014;](#scrollTo=a7xw-0lsoDXC)\n",
        "\n",
        "<details>\n",
        "  <summary>\n",
        "      <font size='3', color='darkgreen'><b>Translation</b></font>\n",
        "  </summary>\n",
        "\n",
        "  <div dir=rtl>\n",
        "    <h3>سوال ۲</h3>\n",
        "  </div>\n",
        "</details>"
      ]
    },
    {
      "cell_type": "markdown",
      "metadata": {
        "id": "YzdxJYmyE9qA"
      },
      "source": [
        "Let's assume that comments whose overall column value is $4$ or $5$ are positive, comments whose value is $3$ are neutral, and comments whose value is $1$ or $2$ are negative. Draw a word cloud for each of these three categories so that you can see the most frequent words in each category. As much as possible, try to include useful information in the obtained super words and there are no stop words between them. Is there a commonality between positive and negative category words? How do you interpret them?\n",
        "\n",
        "<details>\n",
        "  <summary>\n",
        "      <font size='3', color='darkgreen'><b>Translation</b></font>\n",
        "  </summary>\n",
        "\n",
        "  <div dir=rtl>\n",
        "    <p>\n",
        "      فرض کنید نظراتی که مقدار ستون <code>overall</code> آن‌ها $4$ یا $5$ است را همراه با حس مثبت، نظراتی که مقدارشان $3$ است را نظرات خنثی و نظراتی که مقدارشان $1$ یا $2$ است را حس منفی بدانیم. به ازای هرکدام از این سه دسته، یک ابر کلمات (Word Cloud) رسم کنید تا بتوان کلمات پرتکرار هر دسته را مشاهده کرد. تا حد ممکن سعی کنید ابر کلمات بدست‌آمده، شامل اطلاعات مفیدی باشد و کلمات زائد (Stop Words) بین آن‌ها وجود نداشته باشد. آیا اشتراکی بین کلمات دسته‌ی مثبت و منفی وجود داشته است؟ چگونه آن‌ها را تفسیر می‌کنید؟\n",
        "    </p>\n",
        "  </div>\n",
        "</details>"
      ]
    },
    {
      "cell_type": "code",
      "execution_count": null,
      "metadata": {
        "id": "2MrRDO1iGOhx"
      },
      "outputs": [],
      "source": [
        "positive_comments = train_data[\n",
        "    (train_data[\"overall\"] == 4) | (train_data[\"overall\"] == 5)\n",
        "][\"reviewText\"]\n",
        "neural_comments = train_data[train_data[\"overall\"] == 3][\"reviewText\"]\n",
        "negative_comments = train_data[\n",
        "    (train_data[\"overall\"] == 1) | (train_data[\"overall\"] == 2)\n",
        "][\"reviewText\"]"
      ]
    },
    {
      "cell_type": "code",
      "execution_count": null,
      "metadata": {
        "colab": {
          "base_uri": "https://localhost:8080/",
          "height": 230
        },
        "id": "3U6Vv0hPKX5p",
        "outputId": "a8024f39-305a-4fd9-880c-e1c4ac517fbf"
      },
      "outputs": [
        {
          "output_type": "display_data",
          "data": {
            "text/plain": [
              "<Figure size 1500x1500 with 3 Axes>"
            ],
            "image/png": "[encoded data removed]"
          },
          "metadata": {}
        }
      ],
      "source": [
        "# (ref: https://www.analyticsvidhya.com/blog/2021/05/how-to-build-word-cloud-in-python/)\n",
        "\n",
        "# creating the text variable\n",
        "positive_text = \" \".join(review_text for review_text in positive_comments)\n",
        "neural_text = \" \".join(review_text for review_text in neural_comments)\n",
        "negative_text = \" \".join(review_text for review_text in negative_comments)\n",
        "\n",
        "# list of english stop words\n",
        "# (ref: https://stackoverflow.com/questions/16645799/how-to-create-a-word-cloud-from-a-corpus-in-python)\n",
        "stop_words = set(stopwords.words(\"english\"))\n",
        "\n",
        "# creating word_cloud with text as argument in .generate() method\n",
        "PositiveComment_WordCloud = WordCloud(\n",
        "    collocations=False, stopwords=stop_words, background_color=\"white\"\n",
        ").generate(positive_text)\n",
        "NeuralComment_WordCloud = WordCloud(\n",
        "    collocations=False, stopwords=stop_words, background_color=\"white\"\n",
        ").generate(neural_text)\n",
        "NegativeComment_WordCloud = WordCloud(\n",
        "    collocations=False, stopwords=stop_words, background_color=\"white\"\n",
        ").generate(negative_text)\n",
        "\n",
        "# display the generated word clouds\n",
        "fig, (ax1, ax2, ax3) = plt.subplots(1, 3, figsize=(15, 15))\n",
        "\n",
        "ax1.imshow(PositiveComment_WordCloud)\n",
        "ax2.imshow(NeuralComment_WordCloud)\n",
        "ax3.imshow(NegativeComment_WordCloud)\n",
        "\n",
        "ax1.set_title(\"Positive Comments Word Cloud\")\n",
        "ax2.set_title(\"Neural Comments Word Cloud\")\n",
        "ax3.set_title(\"Negative Comments Word Cloud\")\n",
        "\n",
        "ax1.axis(\"off\")\n",
        "ax2.axis(\"off\")\n",
        "ax3.axis(\"off\")\n",
        "\n",
        "fig.show()"
      ]
    },
    {
      "cell_type": "markdown",
      "metadata": {
        "id": "Sdb5rXtAUZ-u"
      },
      "source": [
        "According to the word clouds above, we notice that the four words ``one``, ``use``, ``work`` and ``will`` are repeated a lot in all three types of comments. Since these comments are comments about electronic goods, it seems logical that these words have been repeated a lot, and it can be interpreted as if all the comments were about the use of electronic devices and their performances. On the other hand, in positive comments, words like ``great``, ``good`` and ``well`` have been repeated a lot, which are positive words to define electronic goods, and words like ``back`` and ``time`` have been repeated a lot in negative comments, which can be interpreted in this way that it may be related to returning the goods.\n",
        "\n",
        "<details>\n",
        "  <summary>\n",
        "      <font size='3', color='darkgreen'><b>Translation</b></font>\n",
        "  </summary>\n",
        "\n",
        "  <div dir=rtl>\n",
        "    <p>\n",
        "      طبق ابر کلمات بالا، متوجه می‌شویم که چهار کلمه‌ی <code>One</code>، <code>Work</code>، <code>Use</code> و <code>Will</code> در تمام این سه نوع نظر، زیاد تکرار شده‌اند. از آنجایی که این نظرات، نظراتی درباره‌ی لوازم الکترونیکی هستند، منطقی به نظر می‌رسد که این کلمات زیاد تکرار شده باشند، و می‌توان آن را به گونه‌ای تفسیر کرد، که گویی تمامی نظرات، در مورد استفاده از وسایل الکترونیکی و عملکرد آن‌ها بوده است. از طرف دیگر، در نظرات مثبت، کلماتی مانند <code>great</code>، <code>good</code> و <code>well</code> زیاد تکرار شده‌اند که کلماتی مثبت به منظور تعریف از لوازم الکترونیکی هستند، و کلماتی مانند <code>back</code> و <code>time</code> در نظرات منفی زیاد تکرار شده‌اند، که می‌توان این گونه تعبیر کرد که ممکن است مربوط به بازگرداندن کالا باشد.\n",
        "    </p>\n",
        "  </div>\n",
        "</details>"
      ]
    },
    {
      "cell_type": "markdown",
      "source": [
        "**Note:** Variables ``positive_comments``, ``neural_comments``, ``negative_comments``, ``positive_text``, ``neural_text``, ``negative_text``, ``PositiveComment_WordCloud``, ``NeuralComment_WordCloud`` and ``NegativeComment_WordCloud`` occupy a large part of RAM space and here due to RAM space limitation and also because we no longer need these variables in future steps. , we remove them from the RAM space.\n",
        "\n",
        "<details>\n",
        "  <summary>\n",
        "      <font size='3', color='darkgreen'><b>Translation</b></font>\n",
        "  </summary>\n",
        "\n",
        "  <div dir=rtl>\n",
        "    <p>\n",
        "      <b>نکته:</b> متغیرهای <code>positive_comments</code>، <code>neural_comments</code>، <code>negative_comments</code>، <code>positive_text</code>، <code>neural_text</code>، <code>negative_text</code>، <code>PositiveComment_WordCloud</code>، <code>NeuralComment_WordCloud</code> و <code>NegativeComment_WordCloud</code> بخش زیادی از فضای RAM را اشغال می‌کنند و در اینجا به دلیل محدودیت فضای RAM و همچنین به دلیل اینکه دیگر به این متغیرها در مراحل آینده نیازی نداریم، آن‌ها را از فضای RAM حذف می‌کنیم.\n",
        "    </p>\n",
        "  </div>\n",
        "</details>"
      ],
      "metadata": {
        "id": "34LefiAA0FVp"
      }
    },
    {
      "cell_type": "code",
      "source": [
        "del positive_comments\n",
        "del neural_comments\n",
        "del negative_comments\n",
        "\n",
        "del positive_text\n",
        "del neural_text\n",
        "del negative_text\n",
        "\n",
        "del PositiveComment_WordCloud\n",
        "del NeuralComment_WordCloud\n",
        "del NegativeComment_WordCloud"
      ],
      "metadata": {
        "id": "USBSCs413WDq"
      },
      "execution_count": null,
      "outputs": []
    },
    {
      "cell_type": "markdown",
      "metadata": {
        "id": "t-YZvZuw41xx"
      },
      "source": [
        "### Question 3 <a class=\"anchor\" id=\"q3\"></a> [&#11014;](#scrollTo=a7xw-0lsoDXC)\n",
        "\n",
        "<details>\n",
        "  <summary>\n",
        "      <font size='3', color='darkgreen'><b>Translation</b></font>\n",
        "  </summary>\n",
        "\n",
        "  <div dir=rtl>\n",
        "    <h3>سوال ۳</h3>\n",
        "  </div>\n",
        "</details>"
      ]
    },
    {
      "cell_type": "markdown",
      "metadata": {
        "id": "v5jOJdZdYj6D"
      },
      "source": [
        "Among the commenters, find the $10$ people whose comments were most useful in total (they had more total votes). Display each person's name and total vote in order.\n",
        "\n",
        "<details>\n",
        "  <summary>\n",
        "      <font size='3', color='darkgreen'><b>Translation</b></font>\n",
        "  </summary>\n",
        "\n",
        "  <div dir=rtl>\n",
        "    <p>\n",
        "      از بین نظردهندگان، $10$ نفری که در مجموع، نظراتشان بیشتر مفید واقع شده (مجموع vote بیشتری داشته‌اند) را پیدا کنید. نام هر فرد و مجموع vote آن را به ترتیب نمایش دهید.\n",
        "    </p>\n",
        "  </div>\n",
        "</details>"
      ]
    },
    {
      "cell_type": "code",
      "source": [
        "# Thank you dear Mr. Parsa Abbasi for the guidance in this part :)\n",
        "train_data.groupby(\"reviewerName\")[\"vote\"].sum().sort_values(ascending=False).head(10)"
      ],
      "metadata": {
        "colab": {
          "base_uri": "https://localhost:8080/"
        },
        "id": "1IgP5dma4100",
        "outputId": "67eeddf0-8e12-412e-9d54-4ade10c4e92d"
      },
      "execution_count": null,
      "outputs": [
        {
          "output_type": "execute_result",
          "data": {
            "text/plain": [
              "reviewerName\n",
              "Amazon Customer    28871.0\n",
              "Benson Leung        4572.0\n",
              "Michael             3710.0\n",
              "Voltron00x          3181.0\n",
              "Obi Wan             3150.0\n",
              "Mike                3000.0\n",
              "nycebo              2978.0\n",
              "Kindle Customer     2927.0\n",
              "John                2730.0\n",
              "Cthulhu             2656.0\n",
              "Name: vote, dtype: float32"
            ]
          },
          "metadata": {},
          "execution_count": 25
        }
      ]
    },
    {
      "cell_type": "markdown",
      "metadata": {
        "id": "VVv399074_EQ"
      },
      "source": [
        "### Question 4 <a class=\"anchor\" id=\"q4\"></a> [&#11014;](#scrollTo=a7xw-0lsoDXC)\n",
        "\n",
        "<details>\n",
        "  <summary>\n",
        "      <font size='3', color='darkgreen'><b>Translation</b></font>\n",
        "  </summary>\n",
        "\n",
        "  <div dir=rtl>\n",
        "    <h3>سوال ۴</h3>\n",
        "  </div>\n",
        "</details>"
      ]
    },
    {
      "cell_type": "markdown",
      "metadata": {
        "id": "5kzDa68I5zoz"
      },
      "source": [
        "Plot the histogram of the length of the text (number of characters) of the ``reviewText`` column. Plot once with the original mode and Plot once filtered (do not consider those categories that have a small number of samples and outliers). It is up to you to choose the number of bins and your output plot should be appropriate and readable. Do we need to limit the number of characters during modeling? If yes, what is your suggested range of numbers?\n",
        "\n",
        "<details>\n",
        "  <summary>\n",
        "      <font size='3', color='darkgreen'><b>Translation</b></font>\n",
        "  </summary>\n",
        "\n",
        "  <div dir=rtl>\n",
        "    <p>\n",
        "      هیستوگرام طول متن (تعداد کاراکتر) ستون reviewText را رسم کنید. یک بار با حالت اصلی رسم کنید و یکبار بصورت فیلترشده (آن دسته‌هایی که تعداد نمونه‌های کم و پرتی دارند را در نظر نگیرید) ترسیم کنید. انتخاب تعداد دسته‌ها (bins) برعهده‌ی خودتان است و نمودار خروجی شما باید مناسب و خوانا باشد. آیا نیاز است در هنگام مدل‌سازی، محدودیتی روی تعداد کاراکترها بگذاریم؟ اگر بله، بازه‌ی پیشنهادی شما چه عددهایی است؟\n",
        "    </p>\n",
        "  </div>\n",
        "</details>"
      ]
    },
    {
      "cell_type": "code",
      "source": [
        "def number_of_bins(sample):\n",
        "    \"\"\"\n",
        "    use Freedman–Diaconis rule to calculate optimal number of bins in a histogram\n",
        "    (ref: https://en.wikipedia.org/wiki/Freedman%E2%80%93Diaconis_rule)\n",
        "    \"\"\"\n",
        "    # minimum data in our sample\n",
        "    minimum_data = np.min(sample)\n",
        "    # maximum data in our sample\n",
        "    maximum_data = np.max(sample)\n",
        "\n",
        "    # 1st quartile\n",
        "    Q1 = np.quantile(sample, 0.25)\n",
        "    # 3rd quartile\n",
        "    Q3 = np.quantile(sample, 0.75)\n",
        "    # interquartile range\n",
        "    IQR = Q3 - Q1\n",
        "\n",
        "    # number of observations in our sample\n",
        "    n = len(sample)\n",
        "\n",
        "    # optimal number of bins\n",
        "    N = int((maximum_data - minimum_data) / (2 * IQR) * np.cbrt(n))\n",
        "\n",
        "    return N"
      ],
      "metadata": {
        "id": "c272zK6nExC_"
      },
      "execution_count": null,
      "outputs": []
    },
    {
      "cell_type": "markdown",
      "source": [
        "#### Original Mode <a class=\"anchor\" id=\"original_mode\"></a> [&#11014;](#scrollTo=a7xw-0lsoDXC)\n",
        "\n",
        "<details>\n",
        "  <summary>\n",
        "      <font size='3', color='darkgreen'><b>Translation</b></font>\n",
        "  </summary>\n",
        "\n",
        "  <div dir=rtl>\n",
        "    <h4>حالت اصلی</h4>\n",
        "  </div>\n",
        "</details>"
      ],
      "metadata": {
        "id": "pPtyI_tZEmm2"
      }
    },
    {
      "cell_type": "code",
      "execution_count": null,
      "metadata": {
        "id": "JPBto1uUfzhw",
        "colab": {
          "base_uri": "https://localhost:8080/",
          "height": 430
        },
        "outputId": "629ff481-e8fd-497f-bee6-15cf82f61ed5"
      },
      "outputs": [
        {
          "output_type": "display_data",
          "data": {
            "text/plain": [
              "<Figure size 640x480 with 1 Axes>"
            ],
            "image/png": "[encoded data removed]"
          },
          "metadata": {}
        }
      ],
      "source": [
        "reviewText_lengths = train_data[\"reviewText\"].map(lambda data: len(data))\n",
        "\n",
        "# (ref: https://pandas.pydata.org/docs/reference/api/pandas.Series.hist.html)\n",
        "reviewText_lengths.hist(bins=number_of_bins(reviewText_lengths));"
      ]
    },
    {
      "cell_type": "markdown",
      "source": [
        "#### Filtered Mode (Exclude Outlier Data) <a class=\"anchor\" id=\"filtered_mode_exclude_outlier_data\"></a> [&#11014;](#scrollTo=a7xw-0lsoDXC)\n",
        "\n",
        "<details>\n",
        "  <summary>\n",
        "      <font size='3', color='darkgreen'><b>Translation</b></font>\n",
        "  </summary>\n",
        "\n",
        "  <div dir=rtl>\n",
        "    <h4>حالت فیلترشده (حذف داده‌های پرت)</h4>\n",
        "  </div>\n",
        "</details>"
      ],
      "metadata": {
        "id": "3F6y8nHIE97B"
      }
    },
    {
      "cell_type": "code",
      "source": [
        "# calculate IQR for column x_HI\n",
        "Q1 = reviewText_lengths.quantile(0.25)\n",
        "Q3 = reviewText_lengths.quantile(0.75)\n",
        "IQR = Q3 - Q1\n",
        "\n",
        "# identify outliers\n",
        "threshold = 1.5\n",
        "outliers = reviewText_lengths[\n",
        "    (reviewText_lengths < Q1 - threshold * IQR)\n",
        "    | (reviewText_lengths > Q3 + threshold * IQR)\n",
        "]\n",
        "\n",
        "# drop rows containing outliers\n",
        "filtered_reviewText_lengths = reviewText_lengths.drop(outliers.index)\n",
        "\n",
        "# (ref: https://pandas.pydata.org/docs/reference/api/pandas.Series.hist.html)\n",
        "filtered_reviewText_lengths.hist(bins=number_of_bins(filtered_reviewText_lengths));"
      ],
      "metadata": {
        "colab": {
          "base_uri": "https://localhost:8080/",
          "height": 430
        },
        "id": "ZOmIT7cXFAMh",
        "outputId": "3c99a452-e1a0-4b78-b3ff-b6d784063081"
      },
      "execution_count": null,
      "outputs": [
        {
          "output_type": "display_data",
          "data": {
            "text/plain": [
              "<Figure size 640x480 with 1 Axes>"
            ],
            "image/png": "[encoded data removed]"
          },
          "metadata": {}
        }
      ]
    },
    {
      "cell_type": "markdown",
      "source": [
        "As can be seen from the figure above, the number of comments with a high number of characters is very low, and this means that most of the comments given by buyers were short. For this reason, we can ignore these comments, which are very few in number, during modeling. The best thing to do is to exclude the outlier data and use the remaining data.\n",
        "\n",
        "<details>\n",
        "  <summary>\n",
        "      <font size='3', color='darkgreen'><b>Translation</b></font>\n",
        "  </summary>\n",
        "\n",
        "  <div dir=rtl>\n",
        "    <p>\n",
        "      همانطور که از شکل بالا مشخص است، تعداد نظرات با تعداد کاراکتر بالا، بسیار کم است و این به این معنی است که اکثر نظرات خریداران، کوتاه بوده است. به همین دلیل می‌توانیم در طول مدل‌سازی، از این نظرات که تعدادشان بسیار کم است چشم‌پوشی کنیم. بهترین کار این است که داده‌های پرت را حذف کنیم و از داده‌های باقی‌مانده استفاده کنیم.\n",
        "    </p>\n",
        "  </div>\n",
        "</details>"
      ],
      "metadata": {
        "id": "ETZHMEssIEHr"
      }
    },
    {
      "cell_type": "markdown",
      "source": [
        "**Note:** Due to RAM space limitations, and also because we do not need ``reviewText_lengths``, ``Q1``, ``Q3``, ``IQR``, ``threshold``, ``outliers`` and ``filtered_reviewText_lengths`` variables in the future, we remove these variables from RAM space.\n",
        "\n",
        "<details>\n",
        "  <summary>\n",
        "      <font size='3', color='darkgreen'><b>Translation</b></font>\n",
        "  </summary>\n",
        "\n",
        "  <div dir=rtl>\n",
        "    <p>\n",
        "      <b>نکته:</b> به دلیل داشتن محدودیت در فضای RAM، و همچنین به دلیل اینکه به متغیرهای <code>reviewText_lengths</code>، <code>Q1</code>، <code>Q3</code>، <code>IQR</code>، <code>threshold</code>، <code>outliers</code> و <code>filtered_reviewText_lengths</code> در آینده نیازی نداریم، این متغیرها را از فضای RAM حذف می‌کنیم.\n",
        "    </p>\n",
        "  </div>\n",
        "</details>"
      ],
      "metadata": {
        "id": "eny41ybd6STX"
      }
    },
    {
      "cell_type": "code",
      "source": [
        "del reviewText_lengths\n",
        "\n",
        "del Q1\n",
        "del Q3\n",
        "del IQR\n",
        "\n",
        "del threshold\n",
        "del outliers\n",
        "\n",
        "del filtered_reviewText_lengths"
      ],
      "metadata": {
        "id": "P-VH_oPi71Jk"
      },
      "execution_count": null,
      "outputs": []
    },
    {
      "cell_type": "markdown",
      "source": [
        "### Question 5 <a class=\"anchor\" id=\"q5\"></a> [&#11014;](#scrollTo=a7xw-0lsoDXC)\n",
        "\n",
        "<details>\n",
        "  <summary>\n",
        "      <font size='3', color='darkgreen'><b>Translation</b></font>\n",
        "  </summary>\n",
        "\n",
        "  <div dir=rtl>\n",
        "    <h3>سوال ۵</h3>\n",
        "  </div>\n",
        "</details>"
      ],
      "metadata": {
        "id": "O44K_ONFIbM4"
      }
    },
    {
      "cell_type": "markdown",
      "source": [
        "Which products have the most $5$ points? Display the top $10$ items in a table including ``brand name``, ``product title`` and ``number of comments`` with a score of $5$.\n",
        "\n",
        "<details>\n",
        "  <summary>\n",
        "      <font size='3', color='darkgreen'><b>Translation</b></font>\n",
        "  </summary>\n",
        "\n",
        "  <div dir=rtl>\n",
        "    <p>\n",
        "      کدام محصولات، بیشترین امتیاز $5$ را کسب کرده‌اند؟ $10$ مورد برتر را به ترتیب بصورت یک جدول شامل نام برند، عنوان محصول و تعداد نظرات با امتیاز $5$ نمایش دهید.\n",
        "    </p>\n",
        "  </div>\n",
        "</details>"
      ],
      "metadata": {
        "id": "lH_3SmwtJE6E"
      }
    },
    {
      "cell_type": "code",
      "source": [
        "# merge train_data and title_brand in a second data set named merged_data\n",
        "merged_data = pd.merge(train_data, title_brand, on=\"asin\")\n",
        "\n",
        "data = (\n",
        "    merged_data[merged_data[\"overall\"] == 5]\n",
        "    .groupby(\"asin\")[\"overall\"]\n",
        "    .count()\n",
        "    .sort_values(ascending=False)\n",
        "    .head(10)\n",
        ")\n",
        "data = title_brand[title_brand.index.isin(data.values)].iloc[::-1].reset_index()\n",
        "data.rename({\"index\": \"#overall 5\"}, axis=1).drop(columns=[\"asin\"]).iloc[:, ::-1]"
      ],
      "metadata": {
        "colab": {
          "base_uri": "https://localhost:8080/",
          "height": 363
        },
        "id": "dXBFOSA1IFPL",
        "outputId": "68244674-8e5e-4fe4-dccd-8e50ad9f7b11"
      },
      "execution_count": null,
      "outputs": [
        {
          "output_type": "execute_result",
          "data": {
            "text/plain": [
              "                                    brand  \\\n",
              "0                                 NETGEAR   \n",
              "1                        Nova Development   \n",
              "2       Visit Amazon's Jason Clemens Page   \n",
              "3  Visit Amazon's Bridgette Doremire Page   \n",
              "4                         Albert Einstein   \n",
              "5                               i-clicker   \n",
              "6         Visit Amazon's V. L. Green Page   \n",
              "7                      Barnes &amp; Noble   \n",
              "8                          Orange Sources   \n",
              "9                                Kingston   \n",
              "\n",
              "                                               title  #overall 5  \n",
              "0  Netgear DGN1000, N150 wireless ADSL2+ modem ro...        1163  \n",
              "1   Nova Development FKWT Photo Explosion Deluxe 4.0         659  \n",
              "2             Piper Cherokee 140 PA-28-140 Qref Book         600  \n",
              "3  Garmin GPSMAP 296 Qref Checklist (Qref Avionic...         598  \n",
              "4      Ultimate Einstein                    C/Win/Ww         552  \n",
              "5                           Iclicker+ Student Remote         529  \n",
              "6                                When Destinies Meet         482  \n",
              "7  Barnes and Noble NOOK eBook Reader (WiFi only)...         471  \n",
              "8  Orange Sources 12 Volt Security Systems Alarm ...         448  \n",
              "9  Professional Kingston 4GB MicroSDHC Card for G...         433  "
            ],
            "text/html": [
              "\n",
              "  <div id=\"df-6d1a1448-01e9-4826-b29c-1d6f25e7f426\" class=\"colab-df-container\">\n",
              "    <div>\n",
              "<style scoped>\n",
              "    .dataframe tbody tr th:only-of-type {\n",
              "        vertical-align: middle;\n",
              "    }\n",
              "\n",
              "    .dataframe tbody tr th {\n",
              "        vertical-align: top;\n",
              "    }\n",
              "\n",
              "    .dataframe thead th {\n",
              "        text-align: right;\n",
              "    }\n",
              "</style>\n",
              "<table border=\"1\" class=\"dataframe\">\n",
              "  <thead>\n",
              "    <tr style=\"text-align: right;\">\n",
              "      <th></th>\n",
              "      <th>brand</th>\n",
              "      <th>title</th>\n",
              "      <th>#overall 5</th>\n",
              "    </tr>\n",
              "  </thead>\n",
              "  <tbody>\n",
              "    <tr>\n",
              "      <th>0</th>\n",
              "      <td>NETGEAR</td>\n",
              "      <td>Netgear DGN1000, N150 wireless ADSL2+ modem ro...</td>\n",
              "      <td>1163</td>\n",
              "    </tr>\n",
              "    <tr>\n",
              "      <th>1</th>\n",
              "      <td>Nova Development</td>\n",
              "      <td>Nova Development FKWT Photo Explosion Deluxe 4.0</td>\n",
              "      <td>659</td>\n",
              "    </tr>\n",
              "    <tr>\n",
              "      <th>2</th>\n",
              "      <td>Visit Amazon's Jason Clemens Page</td>\n",
              "      <td>Piper Cherokee 140 PA-28-140 Qref Book</td>\n",
              "      <td>600</td>\n",
              "    </tr>\n",
              "    <tr>\n",
              "      <th>3</th>\n",
              "      <td>Visit Amazon's Bridgette Doremire Page</td>\n",
              "      <td>Garmin GPSMAP 296 Qref Checklist (Qref Avionic...</td>\n",
              "      <td>598</td>\n",
              "    </tr>\n",
              "    <tr>\n",
              "      <th>4</th>\n",
              "      <td>Albert Einstein</td>\n",
              "      <td>Ultimate Einstein                    C/Win/Ww</td>\n",
              "      <td>552</td>\n",
              "    </tr>\n",
              "    <tr>\n",
              "      <th>5</th>\n",
              "      <td>i-clicker</td>\n",
              "      <td>Iclicker+ Student Remote</td>\n",
              "      <td>529</td>\n",
              "    </tr>\n",
              "    <tr>\n",
              "      <th>6</th>\n",
              "      <td>Visit Amazon's V. L. Green Page</td>\n",
              "      <td>When Destinies Meet</td>\n",
              "      <td>482</td>\n",
              "    </tr>\n",
              "    <tr>\n",
              "      <th>7</th>\n",
              "      <td>Barnes &amp;amp; Noble</td>\n",
              "      <td>Barnes and Noble NOOK eBook Reader (WiFi only)...</td>\n",
              "      <td>471</td>\n",
              "    </tr>\n",
              "    <tr>\n",
              "      <th>8</th>\n",
              "      <td>Orange Sources</td>\n",
              "      <td>Orange Sources 12 Volt Security Systems Alarm ...</td>\n",
              "      <td>448</td>\n",
              "    </tr>\n",
              "    <tr>\n",
              "      <th>9</th>\n",
              "      <td>Kingston</td>\n",
              "      <td>Professional Kingston 4GB MicroSDHC Card for G...</td>\n",
              "      <td>433</td>\n",
              "    </tr>\n",
              "  </tbody>\n",
              "</table>\n",
              "</div>\n",
              "    <div class=\"colab-df-buttons\">\n",
              "\n",
              "  <div class=\"colab-df-container\">\n",
              "    <button class=\"colab-df-convert\" onclick=\"convertToInteractive('df-6d1a1448-01e9-4826-b29c-1d6f25e7f426')\"\n",
              "            title=\"Convert this dataframe to an interactive table.\"\n",
              "            style=\"display:none;\">\n",
              "\n",
              "  <svg xmlns=\"http://www.w3.org/2000/svg\" height=\"24px\" viewBox=\"0 -960 960 960\">\n",
              "    <path d=\"M120-120v-720h720v720H120Zm60-500h600v-160H180v160Zm220 220h160v-160H400v160Zm0 220h160v-160H400v160ZM180-400h160v-160H180v160Zm440 0h160v-160H620v160ZM180-180h160v-160H180v160Zm440 0h160v-160H620v160Z\"/>\n",
              "  </svg>\n",
              "    </button>\n",
              "\n",
              "  <style>\n",
              "    .colab-df-container {\n",
              "      display:flex;\n",
              "      gap: 12px;\n",
              "    }\n",
              "\n",
              "    .colab-df-convert {\n",
              "      background-color: #E8F0FE;\n",
              "      border: none;\n",
              "      border-radius: 50%;\n",
              "      cursor: pointer;\n",
              "      display: none;\n",
              "      fill: #1967D2;\n",
              "      height: 32px;\n",
              "      padding: 0 0 0 0;\n",
              "      width: 32px;\n",
              "    }\n",
              "\n",
              "    .colab-df-convert:hover {\n",
              "      background-color: #E2EBFA;\n",
              "      box-shadow: 0px 1px 2px rgba(60, 64, 67, 0.3), 0px 1px 3px 1px rgba(60, 64, 67, 0.15);\n",
              "      fill: #174EA6;\n",
              "    }\n",
              "\n",
              "    .colab-df-buttons div {\n",
              "      margin-bottom: 4px;\n",
              "    }\n",
              "\n",
              "    [theme=dark] .colab-df-convert {\n",
              "      background-color: #3B4455;\n",
              "      fill: #D2E3FC;\n",
              "    }\n",
              "\n",
              "    [theme=dark] .colab-df-convert:hover {\n",
              "      background-color: #434B5C;\n",
              "      box-shadow: 0px 1px 3px 1px rgba(0, 0, 0, 0.15);\n",
              "      filter: drop-shadow(0px 1px 2px rgba(0, 0, 0, 0.3));\n",
              "      fill: #FFFFFF;\n",
              "    }\n",
              "  </style>\n",
              "\n",
              "    <script>\n",
              "      const buttonEl =\n",
              "        document.querySelector('#df-6d1a1448-01e9-4826-b29c-1d6f25e7f426 button.colab-df-convert');\n",
              "      buttonEl.style.display =\n",
              "        google.colab.kernel.accessAllowed ? 'block' : 'none';\n",
              "\n",
              "      async function convertToInteractive(key) {\n",
              "        const element = document.querySelector('#df-6d1a1448-01e9-4826-b29c-1d6f25e7f426');\n",
              "        const dataTable =\n",
              "          await google.colab.kernel.invokeFunction('convertToInteractive',\n",
              "                                                    [key], {});\n",
              "        if (!dataTable) return;\n",
              "\n",
              "        const docLinkHtml = 'Like what you see? Visit the ' +\n",
              "          '<a target=\"_blank\" href=https://colab.research.google.com/notebooks/data_table.ipynb>data table notebook</a>'\n",
              "          + ' to learn more about interactive tables.';\n",
              "        element.innerHTML = '';\n",
              "        dataTable['output_type'] = 'display_data';\n",
              "        await google.colab.output.renderOutput(dataTable, element);\n",
              "        const docLink = document.createElement('div');\n",
              "        docLink.innerHTML = docLinkHtml;\n",
              "        element.appendChild(docLink);\n",
              "      }\n",
              "    </script>\n",
              "  </div>\n",
              "\n",
              "\n",
              "<div id=\"df-aa6c71d7-bc81-4abb-8a1f-c72383c50dc7\">\n",
              "  <button class=\"colab-df-quickchart\" onclick=\"quickchart('df-aa6c71d7-bc81-4abb-8a1f-c72383c50dc7')\"\n",
              "            title=\"Suggest charts\"\n",
              "            style=\"display:none;\">\n",
              "\n",
              "<svg xmlns=\"http://www.w3.org/2000/svg\" height=\"24px\"viewBox=\"0 0 24 24\"\n",
              "     width=\"24px\">\n",
              "    <g>\n",
              "        <path d=\"M19 3H5c-1.1 0-2 .9-2 2v14c0 1.1.9 2 2 2h14c1.1 0 2-.9 2-2V5c0-1.1-.9-2-2-2zM9 17H7v-7h2v7zm4 0h-2V7h2v10zm4 0h-2v-4h2v4z\"/>\n",
              "    </g>\n",
              "</svg>\n",
              "  </button>\n",
              "\n",
              "<style>\n",
              "  .colab-df-quickchart {\n",
              "      --bg-color: #E8F0FE;\n",
              "      --fill-color: #1967D2;\n",
              "      --hover-bg-color: #E2EBFA;\n",
              "      --hover-fill-color: #174EA6;\n",
              "      --disabled-fill-color: #AAA;\n",
              "      --disabled-bg-color: #DDD;\n",
              "  }\n",
              "\n",
              "  [theme=dark] .colab-df-quickchart {\n",
              "      --bg-color: #3B4455;\n",
              "      --fill-color: #D2E3FC;\n",
              "      --hover-bg-color: #434B5C;\n",
              "      --hover-fill-color: #FFFFFF;\n",
              "      --disabled-bg-color: #3B4455;\n",
              "      --disabled-fill-color: #666;\n",
              "  }\n",
              "\n",
              "  .colab-df-quickchart {\n",
              "    background-color: var(--bg-color);\n",
              "    border: none;\n",
              "    border-radius: 50%;\n",
              "    cursor: pointer;\n",
              "    display: none;\n",
              "    fill: var(--fill-color);\n",
              "    height: 32px;\n",
              "    padding: 0;\n",
              "    width: 32px;\n",
              "  }\n",
              "\n",
              "  .colab-df-quickchart:hover {\n",
              "    background-color: var(--hover-bg-color);\n",
              "    box-shadow: 0 1px 2px rgba(60, 64, 67, 0.3), 0 1px 3px 1px rgba(60, 64, 67, 0.15);\n",
              "    fill: var(--button-hover-fill-color);\n",
              "  }\n",
              "\n",
              "  .colab-df-quickchart-complete:disabled,\n",
              "  .colab-df-quickchart-complete:disabled:hover {\n",
              "    background-color: var(--disabled-bg-color);\n",
              "    fill: var(--disabled-fill-color);\n",
              "    box-shadow: none;\n",
              "  }\n",
              "\n",
              "  .colab-df-spinner {\n",
              "    border: 2px solid var(--fill-color);\n",
              "    border-color: transparent;\n",
              "    border-bottom-color: var(--fill-color);\n",
              "    animation:\n",
              "      spin 1s steps(1) infinite;\n",
              "  }\n",
              "\n",
              "  @keyframes spin {\n",
              "    0% {\n",
              "      border-color: transparent;\n",
              "      border-bottom-color: var(--fill-color);\n",
              "      border-left-color: var(--fill-color);\n",
              "    }\n",
              "    20% {\n",
              "      border-color: transparent;\n",
              "      border-left-color: var(--fill-color);\n",
              "      border-top-color: var(--fill-color);\n",
              "    }\n",
              "    30% {\n",
              "      border-color: transparent;\n",
              "      border-left-color: var(--fill-color);\n",
              "      border-top-color: var(--fill-color);\n",
              "      border-right-color: var(--fill-color);\n",
              "    }\n",
              "    40% {\n",
              "      border-color: transparent;\n",
              "      border-right-color: var(--fill-color);\n",
              "      border-top-color: var(--fill-color);\n",
              "    }\n",
              "    60% {\n",
              "      border-color: transparent;\n",
              "      border-right-color: var(--fill-color);\n",
              "    }\n",
              "    80% {\n",
              "      border-color: transparent;\n",
              "      border-right-color: var(--fill-color);\n",
              "      border-bottom-color: var(--fill-color);\n",
              "    }\n",
              "    90% {\n",
              "      border-color: transparent;\n",
              "      border-bottom-color: var(--fill-color);\n",
              "    }\n",
              "  }\n",
              "</style>\n",
              "\n",
              "  <script>\n",
              "    async function quickchart(key) {\n",
              "      const quickchartButtonEl =\n",
              "        document.querySelector('#' + key + ' button');\n",
              "      quickchartButtonEl.disabled = true;  // To prevent multiple clicks.\n",
              "      quickchartButtonEl.classList.add('colab-df-spinner');\n",
              "      try {\n",
              "        const charts = await google.colab.kernel.invokeFunction(\n",
              "            'suggestCharts', [key], {});\n",
              "      } catch (error) {\n",
              "        console.error('Error during call to suggestCharts:', error);\n",
              "      }\n",
              "      quickchartButtonEl.classList.remove('colab-df-spinner');\n",
              "      quickchartButtonEl.classList.add('colab-df-quickchart-complete');\n",
              "    }\n",
              "    (() => {\n",
              "      let quickchartButtonEl =\n",
              "        document.querySelector('#df-aa6c71d7-bc81-4abb-8a1f-c72383c50dc7 button');\n",
              "      quickchartButtonEl.style.display =\n",
              "        google.colab.kernel.accessAllowed ? 'block' : 'none';\n",
              "    })();\n",
              "  </script>\n",
              "</div>\n",
              "    </div>\n",
              "  </div>\n"
            ]
          },
          "metadata": {},
          "execution_count": 30
        }
      ]
    },
    {
      "cell_type": "markdown",
      "source": [
        "### Question 6 <a class=\"anchor\" id=\"q6\"></a> [&#11014;](#scrollTo=a7xw-0lsoDXC)\n",
        "\n",
        "<details>\n",
        "  <summary>\n",
        "      <font size='3', color='darkgreen'><b>Translation</b></font>\n",
        "  </summary>\n",
        "\n",
        "  <div dir=rtl>\n",
        "    <h3>سوال ۶</h3>\n",
        "  </div>\n",
        "</details>"
      ],
      "metadata": {
        "id": "khQgPamaqliY"
      }
    },
    {
      "cell_type": "markdown",
      "source": [
        "First, find the $10$ brands that have the most comments. Then calculate the average score of each and display a table including the brand name and its average score in order of average score.\n",
        "\n",
        "<details>\n",
        "  <summary>\n",
        "      <font size='3', color='darkgreen'><b>Translation</b></font>\n",
        "  </summary>\n",
        "\n",
        "  <div dir=rtl>\n",
        "    <p>\n",
        "      ابتدا $10$ برندی که بیشترین تعداد نظر را داشته‌اند پیدا کنید. سپس میانگین امتیاز هرکدام را محاسبه کرده و یک جدول شامل نام برند و میانگین امتیاز آن، به ترتیب میانگین امتیاز نمایش دهید.\n",
        "    </p>\n",
        "  </div>\n",
        "</details>"
      ],
      "metadata": {
        "id": "z0Na1FaUyurJ"
      }
    },
    {
      "cell_type": "code",
      "source": [
        "# calculate top 10 brands based on number of comments\n",
        "top10brands = (\n",
        "    merged_data.groupby(\"brand\")[\"overall\"]\n",
        "    .count()\n",
        "    .sort_values(ascending=False)\n",
        "    .head(10)\n",
        ")\n",
        "# show the top 10 brands with its number of comments\n",
        "top10brands"
      ],
      "metadata": {
        "colab": {
          "base_uri": "https://localhost:8080/"
        },
        "id": "wmtd-Y-Hqerz",
        "outputId": "aab33ac0-5b54-4fa1-951d-91bc036f7ead"
      },
      "execution_count": null,
      "outputs": [
        {
          "output_type": "execute_result",
          "data": {
            "text/plain": [
              "brand\n",
              "Logitech        17066\n",
              "Samsung         15409\n",
              "AmazonBasics    13213\n",
              "Sony            12436\n",
              "Asus            11928\n",
              "Anker            9860\n",
              "TP-LINK          9773\n",
              "SanDisk          8400\n",
              "Sabrent          7320\n",
              "NETGEAR          7085\n",
              "Name: overall, dtype: int64"
            ]
          },
          "metadata": {},
          "execution_count": 31
        }
      ]
    },
    {
      "cell_type": "code",
      "source": [
        "# calculate the average score for each of top 10 brands\n",
        "merged_data[merged_data[\"brand\"].isin(top10brands.index)].groupby(\"brand\")[\n",
        "    \"overall\"\n",
        "].mean().sort_values(ascending=False)"
      ],
      "metadata": {
        "colab": {
          "base_uri": "https://localhost:8080/"
        },
        "id": "IFcK4oL2w9HS",
        "outputId": "648b7773-d555-4fcc-963e-65a8c85b9b36"
      },
      "execution_count": null,
      "outputs": [
        {
          "output_type": "execute_result",
          "data": {
            "text/plain": [
              "brand\n",
              "Anker           4.244320\n",
              "AmazonBasics    4.201468\n",
              "Sabrent         4.028005\n",
              "SanDisk         3.958810\n",
              "Logitech        3.954061\n",
              "Samsung         3.941268\n",
              "Sony            3.938726\n",
              "TP-LINK         3.928681\n",
              "Asus            3.855550\n",
              "NETGEAR         3.836274\n",
              "Name: overall, dtype: float64"
            ]
          },
          "metadata": {},
          "execution_count": 32
        }
      ]
    },
    {
      "cell_type": "markdown",
      "source": [
        "## Part 2) The Level of Satisfaction with a Particular Aspect <a class=\"anchor\" id=\"the_level_of_satisfaction_with_a_particular_aspect\"></a> [&#11014;](#scrollTo=a7xw-0lsoDXC)\n",
        "\n",
        "<details>\n",
        "  <summary>\n",
        "      <font size='3', color='darkgreen'><b>Translation</b></font>\n",
        "  </summary>\n",
        "\n",
        "  <div dir=rtl>\n",
        "    <h2>بخش ۲) میزان رضایت از یک جنبه‌ی مشخص</h2>\n",
        "  </div>\n",
        "</details>"
      ],
      "metadata": {
        "id": "aYYfOiykzLk7"
      }
    },
    {
      "cell_type": "markdown",
      "source": [
        "### Approach 1 (``word2vec``) [&#11014;](#scrollTo=a7xw-0lsoDXC)\n",
        "\n",
        "<details>\n",
        "  <summary>\n",
        "      <font size='3', color='darkgreen'><b>Translation</b></font>\n",
        "  </summary>\n",
        "\n",
        "  <div dir=rtl>\n",
        "    <h2>رویکرد ۱ (<code>word2vec</code>)</h2>\n",
        "  </div>\n",
        "</details>"
      ],
      "metadata": {
        "id": "Ji9-EYK2COKj"
      }
    },
    {
      "cell_type": "code",
      "source": [
        "# (ref: https://okan.cloud/posts/2022-05-02-text-vectorization-using-python-word2vec/)\n",
        "\n",
        "# Tokenize the comments\n",
        "all_comments = train_data[\"reviewText\"].apply(gensim.utils.simple_preprocess)\n",
        "\n",
        "# Model parameters\n",
        "model = gensim.models.Word2Vec(window=5, min_count=2, workers=4, sg=0)\n",
        "\n",
        "# Train the model\n",
        "model.build_vocab(all_comments, progress_per=1000)\n",
        "model.train(all_comments, total_examples=model.corpus_count, epochs=model.epochs)"
      ],
      "metadata": {
        "id": "sjmEDxSHCOBw",
        "colab": {
          "base_uri": "https://localhost:8080/"
        },
        "outputId": "21e5bea4-1718-4b28-b5c0-c987524bb684"
      },
      "execution_count": null,
      "outputs": [
        {
          "output_type": "execute_result",
          "data": {
            "text/plain": [
              "(345180815, 452579780)"
            ]
          },
          "metadata": {},
          "execution_count": 33
        }
      ]
    },
    {
      "cell_type": "markdown",
      "source": [
        "**Parameters used in ``Word2Vec`` function**\n",
        "\n",
        "- ``window``: Maximum distance between the current and predicted word within a sentence.\n",
        "- ``min_count``: Ignores all words with total frequency lower than this.\n",
        "- ``workers``: Use these many worker threads to train the model\n",
        "- ``sg``: Training algorithm: $1$ for ``skip-gram`` and $0$ for ``CBOW``. (Here we use ``CBOW`` [<a href=\"https://www.baeldung.com/cs/word-embeddings-cbow-vs-skip-gram\">ref</a>])\n",
        "\n",
        "<details>\n",
        "  <summary>\n",
        "      <font size='3', color='darkgreen'><b>Translation</b></font>\n",
        "  </summary>\n",
        "\n",
        "  <div dir=rtl>\n",
        "    <p>\n",
        "      <b>پارامترهای به‌کاررفته در تابع <code>Word2Vec</code></b>\n",
        "      <ul>\n",
        "        <li><code>window</code>: حداکثر فاصله بین کلمه‌ی فعلی و پیش‌بینی‌شده در یک جمله.</li>\n",
        "        <li><code>min_count</code>: همه‌ی کلمات با تعداد تکرار کل کمتر از این را نادیده می‌گیرد.</li>\n",
        "        <li><code>workers</code>: از این تعداد زیاد worker threads برای آموزش مدل استفاده می‌کند.</li>\n",
        "        <li><code>sg</code>: الگوریتم آموزشی - ۱ برای <code>skip-gram</code> و ۰ برای <code>CBOW</code>. (در اینجا ما از <code>CBOW</code> استفاده می‌کنیم <a href=\"https://www.baeldung.com/cs/word-embeddings-cbow-vs-skip-gram\">[منبع]</a>)</li>\n",
        "      </ul>\n",
        "    </p>\n",
        "  </div>\n",
        "</details>"
      ],
      "metadata": {
        "id": "7nSS5hx1ZtNo"
      }
    },
    {
      "cell_type": "code",
      "source": [
        "# model.wv.most_similar(\"warranty\", topn=20)"
      ],
      "metadata": {
        "id": "Kwj1C27fEG3j"
      },
      "execution_count": null,
      "outputs": []
    },
    {
      "cell_type": "code",
      "source": [
        "# model.wv.most_similar(\"guarantee\", topn=20)"
      ],
      "metadata": {
        "id": "uJKpjILtEJG4"
      },
      "execution_count": null,
      "outputs": []
    },
    {
      "cell_type": "markdown",
      "source": [
        "By examining the trained model, we found that the closest word to the word ``guarantee`` is the word ``guaranty`` with a similarity percentage of $69$, and the closest word to the word ``warranty`` is the word ``warrantee`` with a similarity percentage of $92$. In this approach, we select words that have a similarity percentage above $60$ to each of these two words for search.\n",
        "\n",
        "<details>\n",
        "  <summary>\n",
        "      <font size='3', color='darkgreen'><b>Translation</b></font>\n",
        "  </summary>\n",
        "\n",
        "  <div dir=rtl>\n",
        "    <p>\n",
        "      با بررسی مدل آموزش‌دیده، متوجه شدیم که نزدیک‌ترین کلمه به کلمه‌ی <code>guarantee</code>، کلمه‌ی <code>guaranty</code> با درصد شباهت ۶۹ است و نزدیک‌ترین کلمه به کلمه‌ی <code>warranty</code>، کلمه‌ی <code>warrantee</code> با درصد شباهت ۹۲ است. در این رویکرد، ما کلماتی را که درصد شباهت بالای ۶۰ به هرکدام از این دو کلمه را داشته باشند، برای جستجو انتخاب می‌کنیم.\n",
        "    </p>\n",
        "  </div>\n",
        "</details>"
      ],
      "metadata": {
        "id": "CoW_k72CG7ev"
      }
    },
    {
      "cell_type": "code",
      "source": [
        "# (ref: https://stackoverflow.com/questions/10735282/python-get-list-of-tuples-first-index)\n",
        "\n",
        "# guarantee most similar words with similiarty percentage above 60\n",
        "guarantee_msw = set(list(zip(*model.wv.most_similar(\"guarantee\", topn=10)))[0])\n",
        "# warranty most similar words with similiarty percentage above 60\n",
        "warranty_msw = set(list(zip(*model.wv.most_similar(\"warranty\", topn=12)))[0])\n",
        "\n",
        "# union of guarantee_msw and warranty_msw\n",
        "words = guarantee_msw.union(warranty_msw)"
      ],
      "metadata": {
        "id": "AB8veq_PGB8c"
      },
      "execution_count": null,
      "outputs": []
    },
    {
      "cell_type": "code",
      "source": [
        "row_indexes = []\n",
        "for row in train_data.iterrows():\n",
        "    if any(word in row[1][\"reviewText\"] for word in words):\n",
        "        row_indexes.append(row[0])"
      ],
      "metadata": {
        "id": "hxnFAY00pXaS"
      },
      "execution_count": null,
      "outputs": []
    },
    {
      "cell_type": "code",
      "source": [
        "train_data.iloc[row_indexes, :].groupby(\"asin\")[\"overall\"].mean().sort_values(\n",
        "    ascending=False\n",
        ")"
      ],
      "metadata": {
        "id": "F9O4Zkbk2sh1",
        "colab": {
          "base_uri": "https://localhost:8080/"
        },
        "outputId": "0fa17b4e-c558-41b1-a716-9442f678c7b3"
      },
      "execution_count": null,
      "outputs": [
        {
          "output_type": "execute_result",
          "data": {
            "text/plain": [
              "asin\n",
              "B01HJDR9DQ    5.0\n",
              "B00IBLMQ8E    5.0\n",
              "B00I86S5E6    5.0\n",
              "B017X3QKIM    5.0\n",
              "B017XAW7PU    5.0\n",
              "             ... \n",
              "B00HZZZM56    1.0\n",
              "B00HZW7ADQ    1.0\n",
              "B0186EKVFA    1.0\n",
              "B00HZA6EB2    1.0\n",
              "B00R92CIFM    1.0\n",
              "Name: overall, Length: 13706, dtype: float64"
            ]
          },
          "metadata": {},
          "execution_count": 38
        }
      ]
    },
    {
      "cell_type": "markdown",
      "source": [
        "### Approach 2 (``edit_distance``) [&#11014;](#scrollTo=a7xw-0lsoDXC)\n",
        "\n",
        "<details>\n",
        "  <summary>\n",
        "      <font size='3', color='darkgreen'><b>Translation</b></font>\n",
        "  </summary>\n",
        "\n",
        "  <div dir=rtl>\n",
        "    <h2>رویکرد ۲ (<code>edit_distance</code>)</h2>\n",
        "  </div>\n",
        "</details>"
      ],
      "metadata": {
        "id": "AJGep3GtdPZ-"
      }
    },
    {
      "cell_type": "markdown",
      "source": [
        "In the previous approach, each word is converted into a vector based on the words before and after it and the sentence in which it is used, and the similarity of the vectors is measured. But in this approach, both words are measured together based on the letters used in them, and the difference between the two words is returned. In the previous method, words such as ``warranty`` and ``warrantty``, which are very similar in spelling, had a low similarity percentage of $29\\%$, but in this method, the difference between these two words is $1$, which shows how close these two words are in terms of spelling.\n",
        "\n",
        "<details>\n",
        "  <summary>\n",
        "      <font size='3', color='darkgreen'><b>Translation</b></font>\n",
        "  </summary>\n",
        "\n",
        "  <div dir=rtl>\n",
        "    <p>\n",
        "      در رویکرد قبلی، هر کلمه بر اساس کلمات قبل و بعدش و جمله‌ای که در آن به کار رفته تبدیل به بردار شده، و شباهت بردارها با هم سنجیده می‌شوند. اما در این رویکرد هر دو کلمه بر اساس حروف به کار رفته در آن‌ها با هم سنجیده می‌شوند و اختلاف بین دو کلمه برگردانده می‌شود. در روش قبلی، کلماتی مانند <code>warranty</code> و <code>warrantty</code> که شباهت املایی زیادی با هم دارند، درصد شباهت کم ۲۹ درصد با یکدیگر داشتند، اما در این روش، اختلاف این دو کلمه ۱ است که نشان می‌دهد این دو کلمه چقدر از نظر املایی نزدیک به یکدیگر هستند.\n",
        "    </p>\n",
        "  </div>\n",
        "</details>"
      ],
      "metadata": {
        "id": "ppQGNsse1NR_"
      }
    },
    {
      "cell_type": "code",
      "source": [
        "# (ref: https://datascience.stackexchange.com/questions/12575/similarity-between-two-words)\n",
        "nltk.edit_distance(\"warranty\", \"warrantty\")"
      ],
      "metadata": {
        "id": "AeNCyQWaclSQ",
        "colab": {
          "base_uri": "https://localhost:8080/"
        },
        "outputId": "2b6f7008-85f1-4a06-d4c5-da95bbb13778"
      },
      "execution_count": null,
      "outputs": [
        {
          "output_type": "execute_result",
          "data": {
            "text/plain": [
              "1"
            ]
          },
          "metadata": {},
          "execution_count": 39
        }
      ]
    },
    {
      "cell_type": "markdown",
      "source": [
        "Here we consider up to the maximum difference of $3$ in our calculations and due to the low computational cost, we only examine the first $10000$ words obtained from the Word2Vec model.\n",
        "\n",
        "<details>\n",
        "  <summary>\n",
        "      <font size='3', color='darkgreen'><b>Translation</b></font>\n",
        "  </summary>\n",
        "\n",
        "  <div dir=rtl>\n",
        "    <p>\n",
        "      در اینجا ما تا حداکثر اختلاف ۳ را در محاسبات خود نظر می‌گیریم و به دلیل زیادنشدن هزینه‌ی محاسباتی، تنها ۱۰۰۰۰ کلمه ی اولی که از مدل <code>word2vec</code> بدست آمد را بررسی می‌کنیم.\n",
        "    </p>\n",
        "  </div>\n",
        "</details>"
      ],
      "metadata": {
        "id": "WamJybtUGiFC"
      }
    },
    {
      "cell_type": "code",
      "source": [
        "words = []\n",
        "for word in list(zip(*model.wv.most_similar(\"guarantee\", topn=10000)))[0]:\n",
        "    if nltk.edit_distance(\"guarantee\", word) <= 3:\n",
        "        words.append(word)\n",
        "\n",
        "for word in list(zip(*model.wv.most_similar(\"warranty\", topn=10000)))[0]:\n",
        "    if nltk.edit_distance(\"warranty\", word) <= 3:\n",
        "        words.append(word)\n",
        "\n",
        "words = list(set(words))"
      ],
      "metadata": {
        "id": "Rk5l7czXLFye"
      },
      "execution_count": null,
      "outputs": []
    },
    {
      "cell_type": "code",
      "source": [
        "row_indexes = []\n",
        "for row in train_data.iterrows():\n",
        "    if any(word in row[1][\"reviewText\"] for word in words):\n",
        "        row_indexes.append(row[0])"
      ],
      "metadata": {
        "id": "ywA4TRAvGOmv"
      },
      "execution_count": null,
      "outputs": []
    },
    {
      "cell_type": "code",
      "source": [
        "train_data.iloc[row_indexes, :].groupby(\"asin\")[\"overall\"].mean().sort_values(\n",
        "    ascending=False\n",
        ")"
      ],
      "metadata": {
        "id": "2mT--8yxNgdw",
        "colab": {
          "base_uri": "https://localhost:8080/"
        },
        "outputId": "502d0ae4-7e4b-4939-f602-a6253a4addd8"
      },
      "execution_count": null,
      "outputs": [
        {
          "output_type": "execute_result",
          "data": {
            "text/plain": [
              "asin\n",
              "9800466657    5.0\n",
              "B00S2P2AEO    5.0\n",
              "B00S7S1FTM    5.0\n",
              "B00S7LEK82    5.0\n",
              "B00S7269H6    5.0\n",
              "             ... \n",
              "B00WWI9UW2    1.0\n",
              "B005GUAHUC    1.0\n",
              "B00WYND26K    1.0\n",
              "B00X1404T4    1.0\n",
              "B00Q6VQGS2    1.0\n",
              "Name: overall, Length: 9612, dtype: float64"
            ]
          },
          "metadata": {},
          "execution_count": 42
        }
      ]
    },
    {
      "cell_type": "markdown",
      "source": [
        "**Note:** The variables ``all_comments``, ``model``, ``guarantee_msw``, ``warranty_msw``, ``words`` and ``row_indexes`` that are defined in the cells above occupy a large part of RAM space and again due to the limitation of RAM space and the fact that we no longer need these variables in the next steps, we remove them from the RAM space.\n",
        "\n",
        "<details>\n",
        "  <summary>\n",
        "      <font size='3', color='darkgreen'><b>Translation</b></font>\n",
        "  </summary>\n",
        "\n",
        "  <div dir=rtl>\n",
        "    <p>\n",
        "      <b>نکته:</b> متغیرهای <code>all_comments</code>، <code>model</code>، <code>guarantee_msw</code>، <code>warranty_msw</code>، <code>words</code> و <code>row_indexes</code> که در سلول‌های بالا تعریف شده‌اند، بخش زیادی از فضای RAM را اشغال کرده‌اند و دوباره به دلیل محدودیت در فضای RAM و اینکه دیگر به این متغیرها در مراحل بعدی نیازی نداریم، آن‌ها را از فضای RAM حذف می‌کنیم.\n",
        "    </p>\n",
        "  </div>\n",
        "</details>"
      ],
      "metadata": {
        "id": "NToNxB_2Ca9y"
      }
    },
    {
      "cell_type": "code",
      "source": [
        "del all_comments\n",
        "del model\n",
        "\n",
        "del guarantee_msw\n",
        "del warranty_msw\n",
        "\n",
        "del words\n",
        "del row_indexes"
      ],
      "metadata": {
        "id": "iLbYPDRQEPtb"
      },
      "execution_count": null,
      "outputs": []
    },
    {
      "cell_type": "markdown",
      "source": [
        "## Part 3) Sentiment Analysis Model [&#11014;](#scrollTo=a7xw-0lsoDXC)\n",
        "\n",
        "<details>\n",
        "  <summary>\n",
        "      <font size='3', color='darkgreen'><b>Translation</b></font>\n",
        "  </summary>\n",
        "\n",
        "  <div dir=rtl>\n",
        "    <h2>مدل تحلیل احساسات</h2>\n",
        "  </div>\n",
        "</details>"
      ],
      "metadata": {
        "id": "7G5t6hEcCaiv"
      }
    },
    {
      "cell_type": "code",
      "source": [
        "# https://www.analyticsvidhya.com/blog/2022/03/building-naive-bayes-classifier-from-scratch-to-perform-sentiment-analysis/\n",
        "\n",
        "stop_words = set(stopwords.words(\"english\"))\n",
        "\n",
        "data = train_data.loc[:100000, [\"reviewText\", \"overall\"]]\n",
        "\n",
        "data[\"reviewText\"] = data[\"reviewText\"].apply(\n",
        "    lambda x: \" \".join([word for word in x.split() if word not in (stop_words)])\n",
        ")\n",
        "\n",
        "w_tokenizer = nltk.tokenize.WhitespaceTokenizer()\n",
        "lemmatizer = nltk.stem.WordNetLemmatizer()\n",
        "\n",
        "\n",
        "def lemmatize_text(text):\n",
        "    st = \"\"\n",
        "    for w in w_tokenizer.tokenize(text):\n",
        "        st = st + lemmatizer.lemmatize(w) + \" \"\n",
        "    return st\n",
        "\n",
        "\n",
        "data[\"reviewText\"] = data[\"reviewText\"].apply(lemmatize_text)\n",
        "\n",
        "X_train, X_val, y_train, y_val = train_test_split(\n",
        "    data[\"reviewText\"], data[\"overall\"], stratify=data[\"overall\"]\n",
        ")\n",
        "\n",
        "vec = CountVectorizer(max_features=3000)\n",
        "X = vec.fit_transform(X_train)\n",
        "vocab = vec.get_feature_names_out()\n",
        "X = X.toarray()\n",
        "word_counts = {}\n",
        "for l in range(1, 6):\n",
        "    word_counts[l] = defaultdict(lambda: 0)\n",
        "for i in range(X.shape[0]):\n",
        "    l = y_train.reset_index(drop=True)[i]\n",
        "    for j in range(len(vocab)):\n",
        "        word_counts[l][vocab[j]] += X[i][j]\n",
        "\n",
        "\n",
        "def laplace_smoothing(n_label_items, vocab, word_counts, word, text_label):\n",
        "    a = word_counts[text_label][word] + 1\n",
        "    b = n_label_items[text_label] + len(vocab)\n",
        "    return np.log(a / b)\n",
        "\n",
        "\n",
        "def group_by_label(x, y, labels):\n",
        "    data = {}\n",
        "    for l in labels:\n",
        "        data[l] = x[np.where(y == l)]\n",
        "    return data\n",
        "\n",
        "\n",
        "def fit(x, y, labels):\n",
        "    n_label_items = {}\n",
        "    log_label_priors = {}\n",
        "    n = len(x)\n",
        "    grouped_data = group_by_label(x, y, labels)\n",
        "    for l, data in grouped_data.items():\n",
        "        n_label_items[l] = len(data)\n",
        "        log_label_priors[l] = np.log(n_label_items[l] / n)\n",
        "    return n_label_items, log_label_priors\n",
        "\n",
        "\n",
        "def predict(n_label_items, vocab, word_counts, log_label_priors, labels, x):\n",
        "    result = []\n",
        "    for text in x:\n",
        "        label_scores = {l: log_label_priors[l] for l in labels}\n",
        "        words = set(w_tokenizer.tokenize(text))\n",
        "        for word in words:\n",
        "            if word not in vocab:\n",
        "                continue\n",
        "            for l in labels:\n",
        "                log_w_given_l = laplace_smoothing(\n",
        "                    n_label_items, vocab, word_counts, word, l\n",
        "                )\n",
        "                label_scores[l] += log_w_given_l\n",
        "        result.append(max(label_scores, key=label_scores.get))\n",
        "    return result\n",
        "\n",
        "\n",
        "labels = [1, 2, 3, 4, 5]\n",
        "n_label_items, log_label_priors = fit(X_train, y_train, labels)\n",
        "pred = predict(n_label_items, vocab, word_counts, log_label_priors, labels, X_val)\n",
        "print(\"Accuracy of prediction on validation set:\", accuracy_score(y_val, pred))"
      ],
      "metadata": {
        "colab": {
          "base_uri": "https://localhost:8080/",
          "height": 390
        },
        "id": "mZpdFXsdGuN2",
        "outputId": "bd2e5519-1487-4060-d113-cd3e1129034b"
      },
      "execution_count": null,
      "outputs": [
        {
          "output_type": "error",
          "ename": "KeyError",
          "evalue": "ignored",
          "traceback": [
            "\u001b[0;31m---------------------------------------------------------------------------\u001b[0m",
            "\u001b[0;31mKeyError\u001b[0m                                  Traceback (most recent call last)",
            "\u001b[0;32m<ipython-input-25-c64d52ca67ee>\u001b[0m in \u001b[0;36m<cell line: 66>\u001b[0;34m()\u001b[0m\n\u001b[1;32m     64\u001b[0m \u001b[0;34m\u001b[0m\u001b[0m\n\u001b[1;32m     65\u001b[0m \u001b[0mlabels\u001b[0m \u001b[0;34m=\u001b[0m \u001b[0;34m[\u001b[0m\u001b[0;36m1\u001b[0m\u001b[0;34m,\u001b[0m \u001b[0;36m2\u001b[0m\u001b[0;34m,\u001b[0m \u001b[0;36m3\u001b[0m\u001b[0;34m,\u001b[0m \u001b[0;36m4\u001b[0m\u001b[0;34m,\u001b[0m \u001b[0;36m5\u001b[0m\u001b[0;34m]\u001b[0m\u001b[0;34m\u001b[0m\u001b[0;34m\u001b[0m\u001b[0m\n\u001b[0;32m---> 66\u001b[0;31m \u001b[0mn_label_items\u001b[0m\u001b[0;34m,\u001b[0m \u001b[0mlog_label_priors\u001b[0m \u001b[0;34m=\u001b[0m \u001b[0mfit\u001b[0m\u001b[0;34m(\u001b[0m\u001b[0mX_train\u001b[0m\u001b[0;34m,\u001b[0m \u001b[0my_train\u001b[0m\u001b[0;34m,\u001b[0m \u001b[0mlabels\u001b[0m\u001b[0;34m)\u001b[0m\u001b[0;34m\u001b[0m\u001b[0;34m\u001b[0m\u001b[0m\n\u001b[0m\u001b[1;32m     67\u001b[0m \u001b[0mpred\u001b[0m \u001b[0;34m=\u001b[0m \u001b[0mpredict\u001b[0m\u001b[0;34m(\u001b[0m\u001b[0mn_label_items\u001b[0m\u001b[0;34m,\u001b[0m \u001b[0mvocab\u001b[0m\u001b[0;34m,\u001b[0m \u001b[0mword_counts\u001b[0m\u001b[0;34m,\u001b[0m \u001b[0mlog_label_priors\u001b[0m\u001b[0;34m,\u001b[0m \u001b[0mlabels\u001b[0m\u001b[0;34m,\u001b[0m \u001b[0mX_val\u001b[0m\u001b[0;34m)\u001b[0m\u001b[0;34m\u001b[0m\u001b[0;34m\u001b[0m\u001b[0m\n\u001b[1;32m     68\u001b[0m \u001b[0mprint\u001b[0m\u001b[0;34m(\u001b[0m\u001b[0;34m\"Accuracy of prediction on validation set:\"\u001b[0m\u001b[0;34m,\u001b[0m \u001b[0maccuracy_score\u001b[0m\u001b[0;34m(\u001b[0m\u001b[0my_val\u001b[0m\u001b[0;34m,\u001b[0m \u001b[0mpred\u001b[0m\u001b[0;34m)\u001b[0m\u001b[0;34m)\u001b[0m\u001b[0;34m\u001b[0m\u001b[0;34m\u001b[0m\u001b[0m\n",
            "\u001b[0;32m<ipython-input-25-c64d52ca67ee>\u001b[0m in \u001b[0;36mfit\u001b[0;34m(x, y, labels)\u001b[0m\n\u001b[1;32m     44\u001b[0m     \u001b[0mlog_label_priors\u001b[0m \u001b[0;34m=\u001b[0m \u001b[0;34m{\u001b[0m\u001b[0;34m}\u001b[0m\u001b[0;34m\u001b[0m\u001b[0;34m\u001b[0m\u001b[0m\n\u001b[1;32m     45\u001b[0m     \u001b[0mn\u001b[0m \u001b[0;34m=\u001b[0m \u001b[0mlen\u001b[0m\u001b[0;34m(\u001b[0m\u001b[0mx\u001b[0m\u001b[0;34m)\u001b[0m\u001b[0;34m\u001b[0m\u001b[0;34m\u001b[0m\u001b[0m\n\u001b[0;32m---> 46\u001b[0;31m     \u001b[0mgrouped_data\u001b[0m \u001b[0;34m=\u001b[0m \u001b[0mgroup_by_label\u001b[0m\u001b[0;34m(\u001b[0m\u001b[0mx\u001b[0m\u001b[0;34m,\u001b[0m \u001b[0my\u001b[0m\u001b[0;34m,\u001b[0m \u001b[0mlabels\u001b[0m\u001b[0;34m)\u001b[0m\u001b[0;34m\u001b[0m\u001b[0;34m\u001b[0m\u001b[0m\n\u001b[0m\u001b[1;32m     47\u001b[0m     \u001b[0;32mfor\u001b[0m \u001b[0ml\u001b[0m\u001b[0;34m,\u001b[0m \u001b[0mdata\u001b[0m \u001b[0;32min\u001b[0m \u001b[0mgrouped_data\u001b[0m\u001b[0;34m.\u001b[0m\u001b[0mitems\u001b[0m\u001b[0;34m(\u001b[0m\u001b[0;34m)\u001b[0m\u001b[0;34m:\u001b[0m\u001b[0;34m\u001b[0m\u001b[0;34m\u001b[0m\u001b[0m\n\u001b[1;32m     48\u001b[0m         \u001b[0mn_label_items\u001b[0m\u001b[0;34m[\u001b[0m\u001b[0ml\u001b[0m\u001b[0;34m]\u001b[0m \u001b[0;34m=\u001b[0m \u001b[0mlen\u001b[0m\u001b[0;34m(\u001b[0m\u001b[0mdata\u001b[0m\u001b[0;34m)\u001b[0m\u001b[0;34m\u001b[0m\u001b[0;34m\u001b[0m\u001b[0m\n",
            "\u001b[0;32m<ipython-input-25-c64d52ca67ee>\u001b[0m in \u001b[0;36mgroup_by_label\u001b[0;34m(x, y, labels)\u001b[0m\n\u001b[1;32m     38\u001b[0m     \u001b[0mdata\u001b[0m \u001b[0;34m=\u001b[0m \u001b[0;34m{\u001b[0m\u001b[0;34m}\u001b[0m\u001b[0;34m\u001b[0m\u001b[0;34m\u001b[0m\u001b[0m\n\u001b[1;32m     39\u001b[0m     \u001b[0;32mfor\u001b[0m \u001b[0ml\u001b[0m \u001b[0;32min\u001b[0m \u001b[0mlabels\u001b[0m\u001b[0;34m:\u001b[0m\u001b[0;34m\u001b[0m\u001b[0;34m\u001b[0m\u001b[0m\n\u001b[0;32m---> 40\u001b[0;31m         \u001b[0mdata\u001b[0m\u001b[0;34m[\u001b[0m\u001b[0ml\u001b[0m\u001b[0;34m]\u001b[0m \u001b[0;34m=\u001b[0m \u001b[0mx\u001b[0m\u001b[0;34m[\u001b[0m\u001b[0mnp\u001b[0m\u001b[0;34m.\u001b[0m\u001b[0mwhere\u001b[0m\u001b[0;34m(\u001b[0m\u001b[0my\u001b[0m \u001b[0;34m==\u001b[0m \u001b[0ml\u001b[0m\u001b[0;34m)\u001b[0m\u001b[0;34m]\u001b[0m\u001b[0;34m\u001b[0m\u001b[0;34m\u001b[0m\u001b[0m\n\u001b[0m\u001b[1;32m     41\u001b[0m     \u001b[0;32mreturn\u001b[0m \u001b[0mdata\u001b[0m\u001b[0;34m\u001b[0m\u001b[0;34m\u001b[0m\u001b[0m\n\u001b[1;32m     42\u001b[0m \u001b[0;32mdef\u001b[0m \u001b[0mfit\u001b[0m\u001b[0;34m(\u001b[0m\u001b[0mx\u001b[0m\u001b[0;34m,\u001b[0m \u001b[0my\u001b[0m\u001b[0;34m,\u001b[0m \u001b[0mlabels\u001b[0m\u001b[0;34m)\u001b[0m\u001b[0;34m:\u001b[0m\u001b[0;34m\u001b[0m\u001b[0;34m\u001b[0m\u001b[0m\n",
            "\u001b[0;32m/usr/local/lib/python3.10/dist-packages/pandas/core/series.py\u001b[0m in \u001b[0;36m__getitem__\u001b[0;34m(self, key)\u001b[0m\n\u001b[1;32m   1005\u001b[0m             \u001b[0;32mreturn\u001b[0m \u001b[0mself\u001b[0m\u001b[0;34m.\u001b[0m\u001b[0m_get_values\u001b[0m\u001b[0;34m(\u001b[0m\u001b[0mkey\u001b[0m\u001b[0;34m)\u001b[0m\u001b[0;34m\u001b[0m\u001b[0;34m\u001b[0m\u001b[0m\n\u001b[1;32m   1006\u001b[0m \u001b[0;34m\u001b[0m\u001b[0m\n\u001b[0;32m-> 1007\u001b[0;31m         \u001b[0;32mreturn\u001b[0m \u001b[0mself\u001b[0m\u001b[0;34m.\u001b[0m\u001b[0m_get_with\u001b[0m\u001b[0;34m(\u001b[0m\u001b[0mkey\u001b[0m\u001b[0;34m)\u001b[0m\u001b[0;34m\u001b[0m\u001b[0;34m\u001b[0m\u001b[0m\n\u001b[0m\u001b[1;32m   1008\u001b[0m \u001b[0;34m\u001b[0m\u001b[0m\n\u001b[1;32m   1009\u001b[0m     \u001b[0;32mdef\u001b[0m \u001b[0m_get_with\u001b[0m\u001b[0;34m(\u001b[0m\u001b[0mself\u001b[0m\u001b[0;34m,\u001b[0m \u001b[0mkey\u001b[0m\u001b[0;34m)\u001b[0m\u001b[0;34m:\u001b[0m\u001b[0;34m\u001b[0m\u001b[0;34m\u001b[0m\u001b[0m\n",
            "\u001b[0;32m/usr/local/lib/python3.10/dist-packages/pandas/core/series.py\u001b[0m in \u001b[0;36m_get_with\u001b[0;34m(self, key)\u001b[0m\n\u001b[1;32m   1020\u001b[0m             )\n\u001b[1;32m   1021\u001b[0m         \u001b[0;32melif\u001b[0m \u001b[0misinstance\u001b[0m\u001b[0;34m(\u001b[0m\u001b[0mkey\u001b[0m\u001b[0;34m,\u001b[0m \u001b[0mtuple\u001b[0m\u001b[0;34m)\u001b[0m\u001b[0;34m:\u001b[0m\u001b[0;34m\u001b[0m\u001b[0;34m\u001b[0m\u001b[0m\n\u001b[0;32m-> 1022\u001b[0;31m             \u001b[0;32mreturn\u001b[0m \u001b[0mself\u001b[0m\u001b[0;34m.\u001b[0m\u001b[0m_get_values_tuple\u001b[0m\u001b[0;34m(\u001b[0m\u001b[0mkey\u001b[0m\u001b[0;34m)\u001b[0m\u001b[0;34m\u001b[0m\u001b[0;34m\u001b[0m\u001b[0m\n\u001b[0m\u001b[1;32m   1023\u001b[0m \u001b[0;34m\u001b[0m\u001b[0m\n\u001b[1;32m   1024\u001b[0m         \u001b[0;32melif\u001b[0m \u001b[0;32mnot\u001b[0m \u001b[0mis_list_like\u001b[0m\u001b[0;34m(\u001b[0m\u001b[0mkey\u001b[0m\u001b[0;34m)\u001b[0m\u001b[0;34m:\u001b[0m\u001b[0;34m\u001b[0m\u001b[0;34m\u001b[0m\u001b[0m\n",
            "\u001b[0;32m/usr/local/lib/python3.10/dist-packages/pandas/core/series.py\u001b[0m in \u001b[0;36m_get_values_tuple\u001b[0;34m(self, key)\u001b[0m\n\u001b[1;32m   1058\u001b[0m \u001b[0;34m\u001b[0m\u001b[0m\n\u001b[1;32m   1059\u001b[0m         \u001b[0;32mif\u001b[0m \u001b[0;32mnot\u001b[0m \u001b[0misinstance\u001b[0m\u001b[0;34m(\u001b[0m\u001b[0mself\u001b[0m\u001b[0;34m.\u001b[0m\u001b[0mindex\u001b[0m\u001b[0;34m,\u001b[0m \u001b[0mMultiIndex\u001b[0m\u001b[0;34m)\u001b[0m\u001b[0;34m:\u001b[0m\u001b[0;34m\u001b[0m\u001b[0;34m\u001b[0m\u001b[0m\n\u001b[0;32m-> 1060\u001b[0;31m             \u001b[0;32mraise\u001b[0m \u001b[0mKeyError\u001b[0m\u001b[0;34m(\u001b[0m\u001b[0;34m\"key of type tuple not found and not a MultiIndex\"\u001b[0m\u001b[0;34m)\u001b[0m\u001b[0;34m\u001b[0m\u001b[0;34m\u001b[0m\u001b[0m\n\u001b[0m\u001b[1;32m   1061\u001b[0m \u001b[0;34m\u001b[0m\u001b[0m\n\u001b[1;32m   1062\u001b[0m         \u001b[0;31m# If key is contained, would have returned by now\u001b[0m\u001b[0;34m\u001b[0m\u001b[0;34m\u001b[0m\u001b[0m\n",
            "\u001b[0;31mKeyError\u001b[0m: 'key of type tuple not found and not a MultiIndex'"
          ]
        }
      ]
    },
    {
      "cell_type": "code",
      "source": [
        "import nltk\n",
        "\n",
        "nltk.download(\"punkt\")\n",
        "from nltk.corpus import stopwords\n",
        "from nltk.tokenize import word_tokenize\n",
        "from nltk.stem import WordNetLemmatizer\n",
        "import string\n",
        "\n",
        "stop_words = set(stopwords.words(\"english\"))\n",
        "lemmatizer = WordNetLemmatizer()\n",
        "\n",
        "\n",
        "def preprocess_text(text):\n",
        "    text = text.lower()\n",
        "    text = text.translate(str.maketrans(\"\", \"\", string.punctuation))\n",
        "    tokens = word_tokenize(text)\n",
        "    filtered_tokens = [\n",
        "        lemmatizer.lemmatize(word) for word in tokens if word not in stop_words\n",
        "    ]\n",
        "    return \" \".join(filtered_tokens)\n",
        "\n",
        "\n",
        "from sklearn.feature_extraction.text import TfidfVectorizer\n",
        "\n",
        "vectorizer = TfidfVectorizer()\n",
        "\n",
        "X_train, X_val, y_train, y_val = train_test_split(\n",
        "    train_data[\"reviewText\"], train_data[\"overall\"], stratify=train_data[\"overall\"]\n",
        ")\n",
        "\n",
        "from sklearn.naive_bayes import MultinomialNB\n",
        "\n",
        "clf = MultinomialNB()\n",
        "clf.fit(X_train, y_train)\n",
        "\n",
        "from sklearn.metrics import accuracy_score, precision_score, recall_score, f1_score\n",
        "\n",
        "y_pred = clf.predict(X_val)\n",
        "print(\"Accuracy: \", accuracy_score(y_val, y_pred))\n",
        "print(\"Precision: \", precision_score(y_val, y_pred, average=\"weighted\"))\n",
        "print(\"Recall: \", recall_score(y_val, y_pred, average=\"weighted\"))\n",
        "print(\"F1-score: \", f1_score(y_val, y_pred))"
      ],
      "metadata": {
        "colab": {
          "base_uri": "https://localhost:8080/",
          "height": 442
        },
        "id": "49XEL-_Ejwzb",
        "outputId": "0cc92d92-66e5-420b-9929-4dc664b1217d"
      },
      "execution_count": null,
      "outputs": [
        {
          "output_type": "stream",
          "name": "stderr",
          "text": [
            "[nltk_data] Downloading package punkt to /root/nltk_data...\n",
            "[nltk_data]   Package punkt is already up-to-date!\n"
          ]
        },
        {
          "output_type": "error",
          "ename": "ValueError",
          "evalue": "ignored",
          "traceback": [
            "\u001b[0;31m---------------------------------------------------------------------------\u001b[0m",
            "\u001b[0;31mValueError\u001b[0m                                Traceback (most recent call last)",
            "\u001b[0;32m<ipython-input-20-3adad66dfc8e>\u001b[0m in \u001b[0;36m<cell line: 26>\u001b[0;34m()\u001b[0m\n\u001b[1;32m     24\u001b[0m \u001b[0;34m\u001b[0m\u001b[0m\n\u001b[1;32m     25\u001b[0m \u001b[0mclf\u001b[0m \u001b[0;34m=\u001b[0m \u001b[0mMultinomialNB\u001b[0m\u001b[0;34m(\u001b[0m\u001b[0;34m)\u001b[0m\u001b[0;34m\u001b[0m\u001b[0;34m\u001b[0m\u001b[0m\n\u001b[0;32m---> 26\u001b[0;31m \u001b[0mclf\u001b[0m\u001b[0;34m.\u001b[0m\u001b[0mfit\u001b[0m\u001b[0;34m(\u001b[0m\u001b[0mX_train\u001b[0m\u001b[0;34m,\u001b[0m \u001b[0my_train\u001b[0m\u001b[0;34m)\u001b[0m\u001b[0;34m\u001b[0m\u001b[0;34m\u001b[0m\u001b[0m\n\u001b[0m\u001b[1;32m     27\u001b[0m \u001b[0;34m\u001b[0m\u001b[0m\n\u001b[1;32m     28\u001b[0m \u001b[0;32mfrom\u001b[0m \u001b[0msklearn\u001b[0m\u001b[0;34m.\u001b[0m\u001b[0mmetrics\u001b[0m \u001b[0;32mimport\u001b[0m \u001b[0maccuracy_score\u001b[0m\u001b[0;34m,\u001b[0m \u001b[0mprecision_score\u001b[0m\u001b[0;34m,\u001b[0m \u001b[0mrecall_score\u001b[0m\u001b[0;34m,\u001b[0m \u001b[0mf1_score\u001b[0m\u001b[0;34m\u001b[0m\u001b[0;34m\u001b[0m\u001b[0m\n",
            "\u001b[0;32m/usr/local/lib/python3.10/dist-packages/sklearn/naive_bayes.py\u001b[0m in \u001b[0;36mfit\u001b[0;34m(self, X, y, sample_weight)\u001b[0m\n\u001b[1;32m    747\u001b[0m         \"\"\"\n\u001b[1;32m    748\u001b[0m         \u001b[0mself\u001b[0m\u001b[0;34m.\u001b[0m\u001b[0m_validate_params\u001b[0m\u001b[0;34m(\u001b[0m\u001b[0;34m)\u001b[0m\u001b[0;34m\u001b[0m\u001b[0;34m\u001b[0m\u001b[0m\n\u001b[0;32m--> 749\u001b[0;31m         \u001b[0mX\u001b[0m\u001b[0;34m,\u001b[0m \u001b[0my\u001b[0m \u001b[0;34m=\u001b[0m \u001b[0mself\u001b[0m\u001b[0;34m.\u001b[0m\u001b[0m_check_X_y\u001b[0m\u001b[0;34m(\u001b[0m\u001b[0mX\u001b[0m\u001b[0;34m,\u001b[0m \u001b[0my\u001b[0m\u001b[0;34m)\u001b[0m\u001b[0;34m\u001b[0m\u001b[0;34m\u001b[0m\u001b[0m\n\u001b[0m\u001b[1;32m    750\u001b[0m         \u001b[0m_\u001b[0m\u001b[0;34m,\u001b[0m \u001b[0mn_features\u001b[0m \u001b[0;34m=\u001b[0m \u001b[0mX\u001b[0m\u001b[0;34m.\u001b[0m\u001b[0mshape\u001b[0m\u001b[0;34m\u001b[0m\u001b[0;34m\u001b[0m\u001b[0m\n\u001b[1;32m    751\u001b[0m \u001b[0;34m\u001b[0m\u001b[0m\n",
            "\u001b[0;32m/usr/local/lib/python3.10/dist-packages/sklearn/naive_bayes.py\u001b[0m in \u001b[0;36m_check_X_y\u001b[0;34m(self, X, y, reset)\u001b[0m\n\u001b[1;32m    581\u001b[0m     \u001b[0;32mdef\u001b[0m \u001b[0m_check_X_y\u001b[0m\u001b[0;34m(\u001b[0m\u001b[0mself\u001b[0m\u001b[0;34m,\u001b[0m \u001b[0mX\u001b[0m\u001b[0;34m,\u001b[0m \u001b[0my\u001b[0m\u001b[0;34m,\u001b[0m \u001b[0mreset\u001b[0m\u001b[0;34m=\u001b[0m\u001b[0;32mTrue\u001b[0m\u001b[0;34m)\u001b[0m\u001b[0;34m:\u001b[0m\u001b[0;34m\u001b[0m\u001b[0;34m\u001b[0m\u001b[0m\n\u001b[1;32m    582\u001b[0m         \u001b[0;34m\"\"\"Validate X and y in fit methods.\"\"\"\u001b[0m\u001b[0;34m\u001b[0m\u001b[0;34m\u001b[0m\u001b[0m\n\u001b[0;32m--> 583\u001b[0;31m         \u001b[0;32mreturn\u001b[0m \u001b[0mself\u001b[0m\u001b[0;34m.\u001b[0m\u001b[0m_validate_data\u001b[0m\u001b[0;34m(\u001b[0m\u001b[0mX\u001b[0m\u001b[0;34m,\u001b[0m \u001b[0my\u001b[0m\u001b[0;34m,\u001b[0m \u001b[0maccept_sparse\u001b[0m\u001b[0;34m=\u001b[0m\u001b[0;34m\"csr\"\u001b[0m\u001b[0;34m,\u001b[0m \u001b[0mreset\u001b[0m\u001b[0;34m=\u001b[0m\u001b[0mreset\u001b[0m\u001b[0;34m)\u001b[0m\u001b[0;34m\u001b[0m\u001b[0;34m\u001b[0m\u001b[0m\n\u001b[0m\u001b[1;32m    584\u001b[0m \u001b[0;34m\u001b[0m\u001b[0m\n\u001b[1;32m    585\u001b[0m     \u001b[0;32mdef\u001b[0m \u001b[0m_update_class_log_prior\u001b[0m\u001b[0;34m(\u001b[0m\u001b[0mself\u001b[0m\u001b[0;34m,\u001b[0m \u001b[0mclass_prior\u001b[0m\u001b[0;34m=\u001b[0m\u001b[0;32mNone\u001b[0m\u001b[0;34m)\u001b[0m\u001b[0;34m:\u001b[0m\u001b[0;34m\u001b[0m\u001b[0;34m\u001b[0m\u001b[0m\n",
            "\u001b[0;32m/usr/local/lib/python3.10/dist-packages/sklearn/base.py\u001b[0m in \u001b[0;36m_validate_data\u001b[0;34m(self, X, y, reset, validate_separately, **check_params)\u001b[0m\n\u001b[1;32m    582\u001b[0m                 \u001b[0my\u001b[0m \u001b[0;34m=\u001b[0m \u001b[0mcheck_array\u001b[0m\u001b[0;34m(\u001b[0m\u001b[0my\u001b[0m\u001b[0;34m,\u001b[0m \u001b[0minput_name\u001b[0m\u001b[0;34m=\u001b[0m\u001b[0;34m\"y\"\u001b[0m\u001b[0;34m,\u001b[0m \u001b[0;34m**\u001b[0m\u001b[0mcheck_y_params\u001b[0m\u001b[0;34m)\u001b[0m\u001b[0;34m\u001b[0m\u001b[0;34m\u001b[0m\u001b[0m\n\u001b[1;32m    583\u001b[0m             \u001b[0;32melse\u001b[0m\u001b[0;34m:\u001b[0m\u001b[0;34m\u001b[0m\u001b[0;34m\u001b[0m\u001b[0m\n\u001b[0;32m--> 584\u001b[0;31m                 \u001b[0mX\u001b[0m\u001b[0;34m,\u001b[0m \u001b[0my\u001b[0m \u001b[0;34m=\u001b[0m \u001b[0mcheck_X_y\u001b[0m\u001b[0;34m(\u001b[0m\u001b[0mX\u001b[0m\u001b[0;34m,\u001b[0m \u001b[0my\u001b[0m\u001b[0;34m,\u001b[0m \u001b[0;34m**\u001b[0m\u001b[0mcheck_params\u001b[0m\u001b[0;34m)\u001b[0m\u001b[0;34m\u001b[0m\u001b[0;34m\u001b[0m\u001b[0m\n\u001b[0m\u001b[1;32m    585\u001b[0m             \u001b[0mout\u001b[0m \u001b[0;34m=\u001b[0m \u001b[0mX\u001b[0m\u001b[0;34m,\u001b[0m \u001b[0my\u001b[0m\u001b[0;34m\u001b[0m\u001b[0;34m\u001b[0m\u001b[0m\n\u001b[1;32m    586\u001b[0m \u001b[0;34m\u001b[0m\u001b[0m\n",
            "\u001b[0;32m/usr/local/lib/python3.10/dist-packages/sklearn/utils/validation.py\u001b[0m in \u001b[0;36mcheck_X_y\u001b[0;34m(X, y, accept_sparse, accept_large_sparse, dtype, order, copy, force_all_finite, ensure_2d, allow_nd, multi_output, ensure_min_samples, ensure_min_features, y_numeric, estimator)\u001b[0m\n\u001b[1;32m   1104\u001b[0m         )\n\u001b[1;32m   1105\u001b[0m \u001b[0;34m\u001b[0m\u001b[0m\n\u001b[0;32m-> 1106\u001b[0;31m     X = check_array(\n\u001b[0m\u001b[1;32m   1107\u001b[0m         \u001b[0mX\u001b[0m\u001b[0;34m,\u001b[0m\u001b[0;34m\u001b[0m\u001b[0;34m\u001b[0m\u001b[0m\n\u001b[1;32m   1108\u001b[0m         \u001b[0maccept_sparse\u001b[0m\u001b[0;34m=\u001b[0m\u001b[0maccept_sparse\u001b[0m\u001b[0;34m,\u001b[0m\u001b[0;34m\u001b[0m\u001b[0;34m\u001b[0m\u001b[0m\n",
            "\u001b[0;32m/usr/local/lib/python3.10/dist-packages/sklearn/utils/validation.py\u001b[0m in \u001b[0;36mcheck_array\u001b[0;34m(array, accept_sparse, accept_large_sparse, dtype, order, copy, force_all_finite, ensure_2d, allow_nd, ensure_min_samples, ensure_min_features, estimator, input_name)\u001b[0m\n\u001b[1;32m    877\u001b[0m                     \u001b[0marray\u001b[0m \u001b[0;34m=\u001b[0m \u001b[0mxp\u001b[0m\u001b[0;34m.\u001b[0m\u001b[0mastype\u001b[0m\u001b[0;34m(\u001b[0m\u001b[0marray\u001b[0m\u001b[0;34m,\u001b[0m \u001b[0mdtype\u001b[0m\u001b[0;34m,\u001b[0m \u001b[0mcopy\u001b[0m\u001b[0;34m=\u001b[0m\u001b[0;32mFalse\u001b[0m\u001b[0;34m)\u001b[0m\u001b[0;34m\u001b[0m\u001b[0;34m\u001b[0m\u001b[0m\n\u001b[1;32m    878\u001b[0m                 \u001b[0;32melse\u001b[0m\u001b[0;34m:\u001b[0m\u001b[0;34m\u001b[0m\u001b[0;34m\u001b[0m\u001b[0m\n\u001b[0;32m--> 879\u001b[0;31m                     \u001b[0marray\u001b[0m \u001b[0;34m=\u001b[0m \u001b[0m_asarray_with_order\u001b[0m\u001b[0;34m(\u001b[0m\u001b[0marray\u001b[0m\u001b[0;34m,\u001b[0m \u001b[0morder\u001b[0m\u001b[0;34m=\u001b[0m\u001b[0morder\u001b[0m\u001b[0;34m,\u001b[0m \u001b[0mdtype\u001b[0m\u001b[0;34m=\u001b[0m\u001b[0mdtype\u001b[0m\u001b[0;34m,\u001b[0m \u001b[0mxp\u001b[0m\u001b[0;34m=\u001b[0m\u001b[0mxp\u001b[0m\u001b[0;34m)\u001b[0m\u001b[0;34m\u001b[0m\u001b[0;34m\u001b[0m\u001b[0m\n\u001b[0m\u001b[1;32m    880\u001b[0m             \u001b[0;32mexcept\u001b[0m \u001b[0mComplexWarning\u001b[0m \u001b[0;32mas\u001b[0m \u001b[0mcomplex_warning\u001b[0m\u001b[0;34m:\u001b[0m\u001b[0;34m\u001b[0m\u001b[0;34m\u001b[0m\u001b[0m\n\u001b[1;32m    881\u001b[0m                 raise ValueError(\n",
            "\u001b[0;32m/usr/local/lib/python3.10/dist-packages/sklearn/utils/_array_api.py\u001b[0m in \u001b[0;36m_asarray_with_order\u001b[0;34m(array, dtype, order, copy, xp)\u001b[0m\n\u001b[1;32m    183\u001b[0m     \u001b[0;32mif\u001b[0m \u001b[0mxp\u001b[0m\u001b[0;34m.\u001b[0m\u001b[0m__name__\u001b[0m \u001b[0;32min\u001b[0m \u001b[0;34m{\u001b[0m\u001b[0;34m\"numpy\"\u001b[0m\u001b[0;34m,\u001b[0m \u001b[0;34m\"numpy.array_api\"\u001b[0m\u001b[0;34m}\u001b[0m\u001b[0;34m:\u001b[0m\u001b[0;34m\u001b[0m\u001b[0;34m\u001b[0m\u001b[0m\n\u001b[1;32m    184\u001b[0m         \u001b[0;31m# Use NumPy API to support order\u001b[0m\u001b[0;34m\u001b[0m\u001b[0;34m\u001b[0m\u001b[0m\n\u001b[0;32m--> 185\u001b[0;31m         \u001b[0marray\u001b[0m \u001b[0;34m=\u001b[0m \u001b[0mnumpy\u001b[0m\u001b[0;34m.\u001b[0m\u001b[0masarray\u001b[0m\u001b[0;34m(\u001b[0m\u001b[0marray\u001b[0m\u001b[0;34m,\u001b[0m \u001b[0morder\u001b[0m\u001b[0;34m=\u001b[0m\u001b[0morder\u001b[0m\u001b[0;34m,\u001b[0m \u001b[0mdtype\u001b[0m\u001b[0;34m=\u001b[0m\u001b[0mdtype\u001b[0m\u001b[0;34m)\u001b[0m\u001b[0;34m\u001b[0m\u001b[0;34m\u001b[0m\u001b[0m\n\u001b[0m\u001b[1;32m    186\u001b[0m         \u001b[0;32mreturn\u001b[0m \u001b[0mxp\u001b[0m\u001b[0;34m.\u001b[0m\u001b[0masarray\u001b[0m\u001b[0;34m(\u001b[0m\u001b[0marray\u001b[0m\u001b[0;34m,\u001b[0m \u001b[0mcopy\u001b[0m\u001b[0;34m=\u001b[0m\u001b[0mcopy\u001b[0m\u001b[0;34m)\u001b[0m\u001b[0;34m\u001b[0m\u001b[0;34m\u001b[0m\u001b[0m\n\u001b[1;32m    187\u001b[0m     \u001b[0;32melse\u001b[0m\u001b[0;34m:\u001b[0m\u001b[0;34m\u001b[0m\u001b[0;34m\u001b[0m\u001b[0m\n",
            "\u001b[0;32m/usr/local/lib/python3.10/dist-packages/pandas/core/series.py\u001b[0m in \u001b[0;36m__array__\u001b[0;34m(self, dtype)\u001b[0m\n\u001b[1;32m    891\u001b[0m               dtype='datetime64[ns]')\n\u001b[1;32m    892\u001b[0m         \"\"\"\n\u001b[0;32m--> 893\u001b[0;31m         \u001b[0;32mreturn\u001b[0m \u001b[0mnp\u001b[0m\u001b[0;34m.\u001b[0m\u001b[0masarray\u001b[0m\u001b[0;34m(\u001b[0m\u001b[0mself\u001b[0m\u001b[0;34m.\u001b[0m\u001b[0m_values\u001b[0m\u001b[0;34m,\u001b[0m \u001b[0mdtype\u001b[0m\u001b[0;34m)\u001b[0m\u001b[0;34m\u001b[0m\u001b[0;34m\u001b[0m\u001b[0m\n\u001b[0m\u001b[1;32m    894\u001b[0m \u001b[0;34m\u001b[0m\u001b[0m\n\u001b[1;32m    895\u001b[0m     \u001b[0;31m# ----------------------------------------------------------------------\u001b[0m\u001b[0;34m\u001b[0m\u001b[0;34m\u001b[0m\u001b[0m\n",
            "\u001b[0;31mValueError\u001b[0m: could not convert string to float: \"This product is good in quality but the headphones never fully charges no matter how long I charge it it says battery almost fully charged and then it dies quickly.. smh I wouldn't purchase this again going back to my LG\""
          ]
        }
      ]
    }
  ],
  "metadata": {
    "colab": {
      "provenance": [],
      "include_colab_link": true
    },
    "kernelspec": {
      "display_name": "Python 3",
      "name": "python3"
    },
    "language_info": {
      "name": "python"
    }
  },
  "nbformat": 4,
  "nbformat_minor": 0
}