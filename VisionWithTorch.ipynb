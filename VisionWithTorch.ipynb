{
  "nbformat": 4,
  "nbformat_minor": 0,
  "metadata": {
    "colab": {
      "provenance": [],
      "gpuType": "T4",
      "include_colab_link": true
    },
    "kernelspec": {
      "name": "python3",
      "display_name": "Python 3"
    },
    "language_info": {
      "name": "python"
    },
    "accelerator": "GPU"
  },
  "cells": [
    {
      "cell_type": "markdown",
      "metadata": {
        "id": "view-in-github",
        "colab_type": "text"
      },
      "source": [
        "<a href=\"https://colab.research.google.com/github/sixth-group/project2/blob/main/VisionWithTorch.ipynb\" target=\"_parent\"><img src=\"https://colab.research.google.com/assets/colab-badge.svg\" alt=\"Open In Colab\"/></a>"
      ]
    },
    {
      "cell_type": "markdown",
      "source": [
        "## Download train data"
      ],
      "metadata": {
        "id": "p3sfwhI7gBgA"
      }
    },
    {
      "cell_type": "code",
      "source": [
        "!gdown 1-7ljOXuzdIeXTCRuxZFGH2Sg3IanH-WJ\n",
        "# https://drive.google.com/file/d/1-7ljOXuzdIeXTCRuxZFGH2Sg3IanH-WJ/view?usp=sharing\n",
        "!unzip train_data.zip\n",
        "%rm train_data.zip"
      ],
      "metadata": {
        "id": "g8Z2J_MSe6QE"
      },
      "execution_count": null,
      "outputs": []
    },
    {
      "cell_type": "code",
      "source": [
        "rm -rf train_data/"
      ],
      "metadata": {
        "id": "6rCAVXRke7U7"
      },
      "execution_count": 5,
      "outputs": []
    },
    {
      "cell_type": "code",
      "source": [
        "import torch\n",
        "from torch import nn\n",
        "from torch.optim import Adam\n",
        "from torchvision.transforms import transforms\n",
        "from torchvision.datasets import ImageFolder\n",
        "from torch.utils.data import DataLoader, random_split\n",
        "\n",
        "from torchvision.models import resnet50\n",
        "\n",
        "# Set up the directory paths\n",
        "train_data_dir = '/content/train_data'\n",
        "input_size = (224, 224)\n",
        "\n",
        "# Define data transformations\n",
        "train_transform = transforms.Compose([\n",
        "    transforms.RandomVerticalFlip(),\n",
        "    transforms.RandomHorizontalFlip(),\n",
        "    transforms.RandomAffine(degrees=20, translate=(0.2, 0.2)),\n",
        "    transforms.RandomRotation(10),  # Rotate the image by +/- 10 degrees\n",
        "    transforms.ColorJitter(brightness=0.1, contrast=0.1, saturation=0.1),  # Randomly change the brightness, contrast, and saturation\n",
        "    transforms.Resize(input_size),\n",
        "    transforms.ToTensor(),\n",
        "    transforms.Normalize(mean=[0.5, 0.5, 0.5], std=[0.5, 0.5, 0.5])\n",
        "])\n",
        "\n",
        "# Create datasets\n",
        "train_dataset = ImageFolder(train_data_dir, transform=train_transform)\n",
        "dataset_size = len(train_dataset)\n",
        "\n",
        "# Define the size of your training set, for example, 80% of the dataset\n",
        "train_size = int(0.8 * dataset_size)\n",
        "\n",
        "# The rest of the data will be used for validation\n",
        "valid_size = dataset_size - train_size\n",
        "\n",
        "# Split your dataset\n",
        "train_dataset, valid_dataset = random_split(train_dataset, [train_size, valid_size])\n",
        "\n",
        "# Create data loaders\n",
        "train_loader = DataLoader(train_dataset, batch_size=128, shuffle=True)\n",
        "valid_loader = DataLoader(valid_dataset, batch_size=128, shuffle=False)\n",
        "\n",
        "# Load the pre-trained ResNet50 model\n",
        "base_model = resnet50(pretrained=True)\n",
        "\n",
        "# Replace the top layer of the pre-trained model\n",
        "num_classes = 10\n",
        "base_model.fc = nn.Linear(base_model.fc.in_features, num_classes)\n",
        "\n",
        "# Define the device (CPU or GPU)\n",
        "device = torch.device('cuda' if torch.cuda.is_available() else 'cpu')\n",
        "\n",
        "# Move the model to the device\n",
        "model = base_model.to(device)\n",
        "\n",
        "# Define the optimizer and loss function\n",
        "optimizer = Adam(model.parameters(), lr=0.001)\n",
        "criterion = nn.CrossEntropyLoss()\n",
        "\n",
        "# Training loop\n",
        "num_epochs = 10\n",
        "for epoch in range(num_epochs):\n",
        "    model.train()\n",
        "    train_loss = 0.0\n",
        "    train_correct = 0\n",
        "    for images, labels in train_loader:\n",
        "        images = images.to(device)\n",
        "        labels = labels.to(device)\n",
        "\n",
        "        optimizer.zero_grad()\n",
        "\n",
        "        outputs = model(images)\n",
        "        _, predicted = torch.max(outputs, 1)\n",
        "        loss = criterion(outputs, labels)\n",
        "\n",
        "        loss.backward()\n",
        "        optimizer.step()\n",
        "\n",
        "        train_loss += loss.item() * images.size(0)\n",
        "        train_correct += (predicted == labels).sum().item()\n",
        "\n",
        "    train_loss /= len(train_dataset)\n",
        "    train_acc = train_correct / len(train_dataset)\n",
        "\n",
        "    model.eval()\n",
        "    valid_loss = 0.0\n",
        "    valid_correct = 0\n",
        "    with torch.no_grad():\n",
        "        for images, labels in valid_loader:\n",
        "            images = images.to(device)\n",
        "            labels = labels.to(device)\n",
        "\n",
        "            outputs = model(images)\n",
        "            _, predicted = torch.max(outputs, 1)\n",
        "            loss = criterion(outputs, labels)\n",
        "\n",
        "            valid_loss += loss.item() * images.size(0)\n",
        "            valid_correct += (predicted == labels).sum().item()\n",
        "\n",
        "    valid_loss /= len(valid_dataset)\n",
        "    valid_acc = valid_correct / len(valid_dataset)\n",
        "\n",
        "    print(f\"Epoch {epoch+1}/{num_epochs}: \"\n",
        "          f\"Train Loss: {train_loss:.4f}, Train Acc: {train_acc:.4f}, \"\n",
        "          f\"Valid Loss: {valid_loss:.4f}, Valid Acc: {valid_acc:.4f}\")"
      ],
      "metadata": {
        "colab": {
          "base_uri": "https://localhost:8080/"
        },
        "id": "lpWWP4_b-zXx",
        "outputId": "3a6790bc-78e0-4af1-d1d5-0b22fe959f17"
      },
      "execution_count": 16,
      "outputs": [
        {
          "output_type": "stream",
          "name": "stdout",
          "text": [
            "Epoch 1/10: Train Loss: 2.0165, Train Acc: 0.2904, Valid Loss: 2.4832, Valid Acc: 0.2432\n",
            "Epoch 2/10: Train Loss: 1.8161, Train Acc: 0.3569, Valid Loss: 2.0692, Valid Acc: 0.3013\n",
            "Epoch 3/10: Train Loss: 1.7411, Train Acc: 0.3877, Valid Loss: 2.3281, Valid Acc: 0.2713\n",
            "Epoch 4/10: Train Loss: 1.6474, Train Acc: 0.4233, Valid Loss: 1.8417, Valid Acc: 0.3624\n",
            "Epoch 5/10: Train Loss: 1.5954, Train Acc: 0.4498, Valid Loss: 1.8879, Valid Acc: 0.3664\n",
            "Epoch 6/10: Train Loss: 1.5224, Train Acc: 0.4729, Valid Loss: 1.8189, Valid Acc: 0.3834\n",
            "Epoch 7/10: Train Loss: 1.4719, Train Acc: 0.4928, Valid Loss: 1.7182, Valid Acc: 0.4074\n",
            "Epoch 8/10: Train Loss: 1.4289, Train Acc: 0.5062, Valid Loss: 1.6449, Valid Acc: 0.4545\n",
            "Epoch 9/10: Train Loss: 1.3752, Train Acc: 0.5211, Valid Loss: 1.6396, Valid Acc: 0.4404\n",
            "Epoch 10/10: Train Loss: 1.3266, Train Acc: 0.5444, Valid Loss: 1.7974, Valid Acc: 0.3984\n"
          ]
        }
      ]
    },
    {
      "cell_type": "code",
      "source": [
        "!gdown 1-5xCKnZ7N7X6m0pBV1yZDoTmJjAQpttF\n",
        "# https://drive.google.com/file/d/1-5xCKnZ7N7X6m0pBV1yZDoTmJjAQpttF/view?usp=sharing\n",
        "!unzip test_data.zip\n",
        "%rm test_data.zip"
      ],
      "metadata": {
        "id": "3aS_adlcfZdT"
      },
      "execution_count": null,
      "outputs": []
    },
    {
      "cell_type": "code",
      "source": [
        "# rm -rf test_data/"
      ],
      "metadata": {
        "id": "jYnacArLf9tI"
      },
      "execution_count": null,
      "outputs": []
    },
    {
      "cell_type": "code",
      "source": [
        "# Assuming that test_data_dir is the directory where your test data is located\n",
        "test_data_dir = '/content/test_data'\n",
        "\n",
        "# Create an ImageDataGenerator for the test data\n",
        "test_data_generator = ImageDataGenerator()\n",
        "\n",
        "# Use flow_from_directory to generate batches of test data\n",
        "test_generator = test_data_generator.flow_from_directory(\n",
        "    test_data_dir,\n",
        "    target_size=input_size,\n",
        "    batch_size=64,\n",
        "    class_mode='categorical',\n",
        "    shuffle=False\n",
        ")\n",
        "\n",
        "# Use the model to predict the labels of the test data\n",
        "predictions = model.predict(test_generator)\n",
        "\n",
        "# The predictions are probabilities for each class. To convert these probabilities into actual class predictions, you can use argmax\n",
        "predicted_classes = np.argmax(predictions, axis=1)\n"
      ],
      "metadata": {
        "id": "LGh6ExDhCXk5"
      },
      "execution_count": null,
      "outputs": []
    },
    {
      "cell_type": "code",
      "source": [
        "import pandas as pd\n",
        "\n",
        "# Get the filenames from the generator\n",
        "filenames = test_generator.filenames\n",
        "\n",
        "# Create a DataFrame with filenames and predicted classes\n",
        "df = pd.DataFrame({\n",
        "    'name': filenames,\n",
        "    'predicted': predicted_classes\n",
        "})\n",
        "\n",
        "# Save the DataFrame to a CSV file\n",
        "df.to_csv('q1_submission.csv', index=False)\n"
      ],
      "metadata": {
        "id": "9yH-x5RUCcY-"
      },
      "execution_count": null,
      "outputs": []
    }
  ]
}